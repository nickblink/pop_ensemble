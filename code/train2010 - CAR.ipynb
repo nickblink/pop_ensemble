{
 "cells": [
  {
   "cell_type": "markdown",
   "metadata": {},
   "source": [
    "### Import Libraries"
   ]
  },
  {
   "cell_type": "code",
   "execution_count": 1,
   "metadata": {},
   "outputs": [
    {
     "name": "stderr",
     "output_type": "stream",
     "text": [
      "C:\\Users\\Admin-Dell\\Documents\\github_projects\\pop_ensemble\\code\\wrapper_functions.py:1250: SyntaxWarning: \"is\" with a literal. Did you mean \"==\"?\n",
      "  if kernel_type is 'hmc':\n",
      "C:\\Users\\Admin-Dell\\Documents\\github_projects\\pop_ensemble\\code\\wrapper_functions.py:1257: SyntaxWarning: \"is\" with a literal. Did you mean \"==\"?\n",
      "  if kernel_type is 'hmc':\n",
      "C:\\Users\\Admin-Dell\\Documents\\github_projects\\pop_ensemble\\code\\wrapper_functions.py:1273: SyntaxWarning: \"is\" with a literal. Did you mean \"==\"?\n",
      "  if step_adaptor_type is 'simple':\n",
      "C:\\Users\\Admin-Dell\\anaconda3\\lib\\site-packages\\gpflow\\experimental\\utils.py:42: UserWarning: You're calling gpflow.experimental.check_shapes.decorator.check_shapes which is considered *experimental*. Expect: breaking changes, poor documentation, and bugs.\n",
      "  warn(\n",
      "C:\\Users\\Admin-Dell\\anaconda3\\lib\\site-packages\\gpflow\\experimental\\utils.py:42: UserWarning: You're calling gpflow.experimental.check_shapes.inheritance.inherit_check_shapes which is considered *experimental*. Expect: breaking changes, poor documentation, and bugs.\n",
      "  warn(\n"
     ]
    },
    {
     "name": "stdout",
     "output_type": "stream",
     "text": [
      "TensorFlow version: 2.11.0. Expected: 2.7.0\n",
      "TensorFlow Probability version: 0.19.0. Expected: 0.15.0\n"
     ]
    }
   ],
   "source": [
    "from wrapper_functions import *"
   ]
  },
  {
   "cell_type": "markdown",
   "metadata": {},
   "source": [
    "### Read in Data"
   ]
  },
  {
   "cell_type": "code",
   "execution_count": 2,
   "metadata": {},
   "outputs": [],
   "source": [
    "#training2010 = pd.read_csv('../data/merged_wp_census_data_280922.csv')\n",
    "training2010 = pd.read_csv('../data/merged_wp_census_data2_081122.csv')\n",
    "county_adj = pd.read_csv('../data/countyadj2.csv', index_col = 0)\n",
    "models = ['acs', 'pep', 'worldpop']"
   ]
  },
  {
   "cell_type": "code",
   "execution_count": 7,
   "metadata": {},
   "outputs": [],
   "source": [
    "data_NY, adj_NY = subset_data_by_state(training2010, county_adj, 'New York', 'NY')\n",
    "\n",
    "data_GA, adj_GA = subset_data_by_state(training2010, county_adj, 'Georgia', 'GA')"
   ]
  },
  {
   "cell_type": "code",
   "execution_count": 8,
   "metadata": {},
   "outputs": [
    {
     "data": {
      "text/html": [
       "<div>\n",
       "<style scoped>\n",
       "    .dataframe tbody tr th:only-of-type {\n",
       "        vertical-align: middle;\n",
       "    }\n",
       "\n",
       "    .dataframe tbody tr th {\n",
       "        vertical-align: top;\n",
       "    }\n",
       "\n",
       "    .dataframe thead th {\n",
       "        text-align: right;\n",
       "    }\n",
       "</style>\n",
       "<table border=\"1\" class=\"dataframe\">\n",
       "  <thead>\n",
       "    <tr style=\"text-align: right;\">\n",
       "      <th></th>\n",
       "      <th>GEOID</th>\n",
       "      <th>NAME</th>\n",
       "      <th>acs</th>\n",
       "      <th>census</th>\n",
       "      <th>pep</th>\n",
       "      <th>lon</th>\n",
       "      <th>lat</th>\n",
       "      <th>worldpop</th>\n",
       "    </tr>\n",
       "  </thead>\n",
       "  <tbody>\n",
       "    <tr>\n",
       "      <th>357</th>\n",
       "      <td>13001</td>\n",
       "      <td>Appling County, Georgia</td>\n",
       "      <td>18050</td>\n",
       "      <td>18236</td>\n",
       "      <td>18334</td>\n",
       "      <td>-82.310258</td>\n",
       "      <td>31.744120</td>\n",
       "      <td>18252.248366</td>\n",
       "    </tr>\n",
       "    <tr>\n",
       "      <th>358</th>\n",
       "      <td>13003</td>\n",
       "      <td>Atkinson County, Georgia</td>\n",
       "      <td>8332</td>\n",
       "      <td>8375</td>\n",
       "      <td>8364</td>\n",
       "      <td>-82.900324</td>\n",
       "      <td>31.277997</td>\n",
       "      <td>8280.643018</td>\n",
       "    </tr>\n",
       "    <tr>\n",
       "      <th>359</th>\n",
       "      <td>13005</td>\n",
       "      <td>Bacon County, Georgia</td>\n",
       "      <td>10969</td>\n",
       "      <td>11096</td>\n",
       "      <td>11062</td>\n",
       "      <td>-82.479974</td>\n",
       "      <td>31.543162</td>\n",
       "      <td>11092.873979</td>\n",
       "    </tr>\n",
       "    <tr>\n",
       "      <th>360</th>\n",
       "      <td>13007</td>\n",
       "      <td>Baker County, Georgia</td>\n",
       "      <td>3657</td>\n",
       "      <td>3451</td>\n",
       "      <td>3431</td>\n",
       "      <td>-84.465345</td>\n",
       "      <td>31.310185</td>\n",
       "      <td>3476.480121</td>\n",
       "    </tr>\n",
       "    <tr>\n",
       "      <th>361</th>\n",
       "      <td>13009</td>\n",
       "      <td>Baldwin County, Georgia</td>\n",
       "      <td>46905</td>\n",
       "      <td>45720</td>\n",
       "      <td>45704</td>\n",
       "      <td>-83.254069</td>\n",
       "      <td>33.068964</td>\n",
       "      <td>45423.391449</td>\n",
       "    </tr>\n",
       "    <tr>\n",
       "      <th>...</th>\n",
       "      <td>...</td>\n",
       "      <td>...</td>\n",
       "      <td>...</td>\n",
       "      <td>...</td>\n",
       "      <td>...</td>\n",
       "      <td>...</td>\n",
       "      <td>...</td>\n",
       "      <td>...</td>\n",
       "    </tr>\n",
       "    <tr>\n",
       "      <th>511</th>\n",
       "      <td>13313</td>\n",
       "      <td>Whitfield County, Georgia</td>\n",
       "      <td>99910</td>\n",
       "      <td>102599</td>\n",
       "      <td>102745</td>\n",
       "      <td>-84.971605</td>\n",
       "      <td>34.796990</td>\n",
       "      <td>102848.123472</td>\n",
       "    </tr>\n",
       "    <tr>\n",
       "      <th>512</th>\n",
       "      <td>13315</td>\n",
       "      <td>Wilcox County, Georgia</td>\n",
       "      <td>9041</td>\n",
       "      <td>9255</td>\n",
       "      <td>9314</td>\n",
       "      <td>-83.470904</td>\n",
       "      <td>31.969460</td>\n",
       "      <td>9207.866530</td>\n",
       "    </tr>\n",
       "    <tr>\n",
       "      <th>513</th>\n",
       "      <td>13317</td>\n",
       "      <td>Wilkes County, Georgia</td>\n",
       "      <td>10580</td>\n",
       "      <td>10593</td>\n",
       "      <td>10388</td>\n",
       "      <td>-82.755558</td>\n",
       "      <td>33.783775</td>\n",
       "      <td>10579.815508</td>\n",
       "    </tr>\n",
       "    <tr>\n",
       "      <th>514</th>\n",
       "      <td>13319</td>\n",
       "      <td>Wilkinson County, Georgia</td>\n",
       "      <td>9685</td>\n",
       "      <td>9563</td>\n",
       "      <td>9529</td>\n",
       "      <td>-83.194991</td>\n",
       "      <td>32.801053</td>\n",
       "      <td>9687.102703</td>\n",
       "    </tr>\n",
       "    <tr>\n",
       "      <th>515</th>\n",
       "      <td>13321</td>\n",
       "      <td>Worth County, Georgia</td>\n",
       "      <td>21712</td>\n",
       "      <td>21679</td>\n",
       "      <td>21692</td>\n",
       "      <td>-83.877707</td>\n",
       "      <td>31.546340</td>\n",
       "      <td>21589.868726</td>\n",
       "    </tr>\n",
       "  </tbody>\n",
       "</table>\n",
       "<p>159 rows × 8 columns</p>\n",
       "</div>"
      ],
      "text/plain": [
       "     GEOID                       NAME    acs  census     pep        lon  \\\n",
       "357  13001    Appling County, Georgia  18050   18236   18334 -82.310258   \n",
       "358  13003   Atkinson County, Georgia   8332    8375    8364 -82.900324   \n",
       "359  13005      Bacon County, Georgia  10969   11096   11062 -82.479974   \n",
       "360  13007      Baker County, Georgia   3657    3451    3431 -84.465345   \n",
       "361  13009    Baldwin County, Georgia  46905   45720   45704 -83.254069   \n",
       "..     ...                        ...    ...     ...     ...        ...   \n",
       "511  13313  Whitfield County, Georgia  99910  102599  102745 -84.971605   \n",
       "512  13315     Wilcox County, Georgia   9041    9255    9314 -83.470904   \n",
       "513  13317     Wilkes County, Georgia  10580   10593   10388 -82.755558   \n",
       "514  13319  Wilkinson County, Georgia   9685    9563    9529 -83.194991   \n",
       "515  13321      Worth County, Georgia  21712   21679   21692 -83.877707   \n",
       "\n",
       "           lat       worldpop  \n",
       "357  31.744120   18252.248366  \n",
       "358  31.277997    8280.643018  \n",
       "359  31.543162   11092.873979  \n",
       "360  31.310185    3476.480121  \n",
       "361  33.068964   45423.391449  \n",
       "..         ...            ...  \n",
       "511  34.796990  102848.123472  \n",
       "512  31.969460    9207.866530  \n",
       "513  33.783775   10579.815508  \n",
       "514  32.801053    9687.102703  \n",
       "515  31.546340   21589.868726  \n",
       "\n",
       "[159 rows x 8 columns]"
      ]
     },
     "execution_count": 8,
     "metadata": {},
     "output_type": "execute_result"
    }
   ],
   "source": [
    "data_GA"
   ]
  },
  {
   "cell_type": "markdown",
   "metadata": {
    "id": "U-Nmbq-0wgYy"
   },
   "source": [
    "# Default Configs"
   ]
  },
  {
   "cell_type": "code",
   "execution_count": 4,
   "metadata": {
    "colab": {
     "background_save": true
    },
    "id": "fY1Z6ccs2XUP"
   },
   "outputs": [],
   "source": [
    "# MCMC configs.\n",
    "mcmc_step_size=0.1 # @param\n",
    "mcmc_sample_size=500 # @param\n",
    "mcmc_num_steps=10_000 # @param\n",
    "mcmc_burnin=2_500 # @param\n",
    "mcmc_nchain=10 # @param\n",
    "mcmc_seed=0 # @param\n",
    "\n",
    "DEFAULT_MCMC_CONFIG = dict(step_size=mcmc_step_size, \n",
    "                           num_steps=mcmc_sample_size, \n",
    "                           burnin=mcmc_burnin, \n",
    "                           nchain=mcmc_nchain, \n",
    "                           seed=mcmc_seed)"
   ]
  },
  {
   "cell_type": "markdown",
   "metadata": {},
   "source": [
    "## Bayesian Model Averaging\n",
    "\n",
    "A Bayesian ensemble model where ensemble weights $w_k's$ are parameterized by Gaussian process priors:\n",
    "\n",
    "$y \\sim N(\\mu(x), \\sigma^2)$ \n",
    "\n",
    "$\\mu(x) = \\sum_{k=1}^K w_k(x) * m_k(x) \\quad$  where $\\{m_k\\}_{k=1}^K$ are base model predictions.\n",
    "\n",
    "$w(x) = softmax(f(x)) \\qquad\\;\\;\\;$ where $w=[w_1, \\dots, w_K]$ and $f=[f_1, \\dots, f_K]$\n",
    "\n",
    "$f \\stackrel{i.i.d.}{\\sim} GaussianProcess(0, k)$\n"
   ]
  },
  {
   "cell_type": "markdown",
   "metadata": {},
   "source": [
    "### Run MCMC"
   ]
  },
  {
   "cell_type": "code",
   "execution_count": 11,
   "metadata": {},
   "outputs": [
    {
     "data": {
      "text/plain": [
       "{'step_size': 0.1,\n",
       " 'num_steps': 10000,\n",
       " 'burnin': 2500,\n",
       " 'nchain': 5,\n",
       " 'seed': 0,\n",
       " 'kernel_type': 'nuts'}"
      ]
     },
     "execution_count": 11,
     "metadata": {},
     "output_type": "execute_result"
    }
   ],
   "source": [
    "mcmc_config = DEFAULT_MCMC_CONFIG.copy()\n",
    "mcmc_config.update(dict(burnin = 2500, num_steps = 10000, nchain = 5, kernel_type = 'nuts'))\n",
    "mcmc_config"
   ]
  },
  {
   "cell_type": "markdown",
   "metadata": {},
   "source": [
    "Seems like this takes ~2.6s per num_steps\n",
    "Took 265s for num_steps = 100\n",
    "Took 51s for num_steps = 50\n",
    "102s for num_steps = 100\n",
    "262s for num_steps = 100 test\n",
    "12s for num_steps = 100 the improved test\n",
    "and 16m for num_steps = 10000 and nchain = 5! Great. \\\\\n",
    "\n",
    "I think this was before I re-computed the Q determinant every time. With that, it takes 5 hours for 10000 steps and nchain = 5 (or 10?) So ya, it's slow. I can't imagine what this will be like for the entire US. However, that could have been because of bad sleep settings on my comp, so we might be a-ok here\n",
    "\n",
    "For NY (n = 62) nuts, nchain = 2, num_steps = 100, 10m \n",
    "For GA (n = 159) nuts, nchain = 2, num_steps = 100, 230s...? Maybe because of the 6% acceptance?\n",
    "For US (n = 3064) nuts, nchain = 2, num_steps = 100, 482s. So not linear time! Yay\n",
    "For US (n = 3064) nuts, nchain = 5, num_steps = 10000, "
   ]
  },
  {
   "cell_type": "code",
   "execution_count": null,
   "metadata": {},
   "outputs": [
    {
     "name": "stdout",
     "output_type": "stream",
     "text": [
      "fixing tau2 and rho\n",
      "kernel type is nuts\n",
      "10000\n"
     ]
    }
   ],
   "source": [
    "t0 = time.perf_counter()\n",
    "CAR_samples, chain_samples, sampler_stat = run_mcmc_CAR(data = training2010,\n",
    "                                                        adjacency = county_adj,\n",
    "                                                        models = models,\n",
    "                                                        debug_mode = True,\n",
    "                                                        **mcmc_config)  \n",
    "print(time.perf_counter() - t0)"
   ]
  },
  {
   "cell_type": "markdown",
   "metadata": {},
   "source": [
    "Saving and loading Python objects with Pickle"
   ]
  },
  {
   "cell_type": "code",
   "execution_count": 47,
   "metadata": {},
   "outputs": [],
   "source": [
    "import pickle\n",
    "with open('../data/CAR_samples_with_mat_determinant.pickle', 'wb') as results_file:\n",
    "  pickle.dump(CAR_samples, results_file)"
   ]
  },
  {
   "cell_type": "code",
   "execution_count": 33,
   "metadata": {},
   "outputs": [],
   "source": [
    "with open(r\"../data/CAR_samples.pickle\", \"rb\") as input_file:\n",
    "     CAR_samples2 = pickle.load(input_file)"
   ]
  },
  {
   "cell_type": "code",
   "execution_count": 21,
   "metadata": {},
   "outputs": [
    {
     "name": "stdout",
     "output_type": "stream",
     "text": [
      "Running MAP:\t13129634283520.0...13028767744.0...12917108736.0...12837866496.0...12796110848.0...12773912576.0...12757137408.0...12761999360.0...12907206656.0...13081935872.0...Done.\n",
      "Running MCMC:\tAcceptance Ratio: 0.6058999300003052\n"
     ]
    }
   ],
   "source": [
    "mcmc_nchain = 10\n",
    "\n",
    "# I can just run this first to get the code working. This way I can skip editing posterior_inference\n",
    "# and the prepare_mcmc and just focus on the log probability function\n",
    "CAR_samples, _ = run_mcmc(init_state=init_state,\n",
    "                             target_log_prob_fn=target_log_prob_fn,\n",
    "                             **mcmc_config)  \n",
    "\n",
    "bma_gp_w_samples = run_posterior_inference(model_dist=bma_prior, \n",
    "                                           model_config=bma_model_config,\n",
    "                                           Y=Y_train, \n",
    "                                           map_config=map_config,\n",
    "                                           mcmc_config=mcmc_config)\n",
    "\n",
    "\n",
    "bma_joint_samples = make_bma_samples(X_test1, Y_test, base_preds_test, \n",
    "                                     bma_weight_samples=bma_gp_w_samples[0],\n",
    "                                     bma_model_config=bma_model_config, \n",
    "                                     n_samples=bma_n_samples_eval, \n",
    "                                     seed=bne_seed,\n",
    "                                     y_samples_only=False)\n",
    "\n"
   ]
  },
  {
   "cell_type": "code",
   "execution_count": 48,
   "metadata": {},
   "outputs": [
    {
     "data": {
      "text/plain": [
       "['acs', 'pep', 'worldpop']"
      ]
     },
     "execution_count": 48,
     "metadata": {},
     "output_type": "execute_result"
    }
   ],
   "source": [
    "models"
   ]
  },
  {
   "cell_type": "code",
   "execution_count": 49,
   "metadata": {},
   "outputs": [],
   "source": [
    "CAR_ensemble_weights = tf.reduce_mean(CAR_samples[0], axis = 2)\n",
    "\n",
    "weights_dict = {\n",
    "    \"acs\": CAR_ensemble_weights[:,0],\n",
    "    \"pep\": CAR_ensemble_weights[:,1],\n",
    "    \"worldpop\": CAR_ensemble_weights[:,2]\n",
    "}\n",
    "\n",
    "color_weights = make_color_norm(\n",
    "    list(weights_dict.values())[1],   \n",
    "    method=\"percentile\")"
   ]
  },
  {
   "cell_type": "code",
   "execution_count": 50,
   "metadata": {},
   "outputs": [],
   "source": [
    "# get exponentiated values and sum across models\n",
    "exp_phi = tf.math.exp(CAR_ensemble_weights)\n",
    "exp_phi_rows = tf.reduce_sum(exp_phi, 1)\n",
    "\n",
    "# get model weights and calculate mean estimate\n",
    "u = exp_phi/exp_phi_rows[...,None]\n"
   ]
  },
  {
   "cell_type": "code",
   "execution_count": 51,
   "metadata": {},
   "outputs": [],
   "source": [
    "norm_weights_dict = {\n",
    "    \"acs\": u[:,0],\n",
    "    \"pep\": u[:,1],\n",
    "    \"worldpop\": u[:,2]\n",
    "}\n",
    "\n",
    "color_norm_weights = make_color_norm(\n",
    "    list(norm_weights_dict.values())[1],   \n",
    "    method=\"percentile\")"
   ]
  },
  {
   "cell_type": "code",
   "execution_count": 56,
   "metadata": {},
   "outputs": [],
   "source": [
    "import plotly\n",
    "from urllib.request import urlopen\n",
    "import json\n",
    "with urlopen('https://raw.githubusercontent.com/plotly/datasets/master/geojson-counties-fips.json') as response:\n",
    "    counties = json.load(response)\n",
    "\n",
    "import pandas as pd\n",
    "# df = pd.read_csv(\"https://raw.githubusercontent.com/plotly/datasets/master/fips-unemp-16.csv\",\n",
    "#                    dtype={\"fips\": str})\n",
    "import matplotlib.colors as colors\n",
    "\n",
    "import plotly.express as px"
   ]
  },
  {
   "cell_type": "code",
   "execution_count": 53,
   "metadata": {
    "scrolled": false
   },
   "outputs": [
    {
     "ename": "NameError",
     "evalue": "name 'counties' is not defined",
     "output_type": "error",
     "traceback": [
      "\u001b[1;31m---------------------------------------------------------------------------\u001b[0m",
      "\u001b[1;31mNameError\u001b[0m                                 Traceback (most recent call last)",
      "Input \u001b[1;32mIn [53]\u001b[0m, in \u001b[0;36m<cell line: 1>\u001b[1;34m()\u001b[0m\n\u001b[0;32m      3\u001b[0m output \u001b[38;5;241m=\u001b[39m output\u001b[38;5;241m.\u001b[39mset_axis([\u001b[38;5;124m'\u001b[39m\u001b[38;5;124mGEOID\u001b[39m\u001b[38;5;124m'\u001b[39m, model_name], axis\u001b[38;5;241m=\u001b[39m\u001b[38;5;241m1\u001b[39m)\n\u001b[0;32m      4\u001b[0m output[model_name] \u001b[38;5;241m=\u001b[39m output[model_name]\u001b[38;5;241m.\u001b[39mastype(\u001b[38;5;28mfloat\u001b[39m)\n\u001b[1;32m----> 5\u001b[0m fig \u001b[38;5;241m=\u001b[39m px\u001b[38;5;241m.\u001b[39mchoropleth_mapbox(output, geojson\u001b[38;5;241m=\u001b[39m\u001b[43mcounties\u001b[49m, locations\u001b[38;5;241m=\u001b[39m\u001b[38;5;124m'\u001b[39m\u001b[38;5;124mGEOID\u001b[39m\u001b[38;5;124m'\u001b[39m, color\u001b[38;5;241m=\u001b[39mmodel_name,\n\u001b[0;32m      6\u001b[0m                        color_continuous_scale\u001b[38;5;241m=\u001b[39m\u001b[38;5;124m\"\u001b[39m\u001b[38;5;124mViridis\u001b[39m\u001b[38;5;124m\"\u001b[39m,\n\u001b[0;32m      7\u001b[0m                        \u001b[38;5;66;03m#range_color=(0.05,0.07),\u001b[39;00m\n\u001b[0;32m      8\u001b[0m                        mapbox_style\u001b[38;5;241m=\u001b[39m\u001b[38;5;124m\"\u001b[39m\u001b[38;5;124mcarto-positron\u001b[39m\u001b[38;5;124m\"\u001b[39m,\n\u001b[0;32m      9\u001b[0m                        \u001b[38;5;66;03m#featureidkey=\"properties.MWS_ID\",\u001b[39;00m\n\u001b[0;32m     10\u001b[0m                        zoom\u001b[38;5;241m=\u001b[39m\u001b[38;5;241m3\u001b[39m, center \u001b[38;5;241m=\u001b[39m {\u001b[38;5;124m\"\u001b[39m\u001b[38;5;124mlat\u001b[39m\u001b[38;5;124m\"\u001b[39m: \u001b[38;5;241m37.0902\u001b[39m, \u001b[38;5;124m\"\u001b[39m\u001b[38;5;124mlon\u001b[39m\u001b[38;5;124m\"\u001b[39m: \u001b[38;5;241m-\u001b[39m\u001b[38;5;241m95.7129\u001b[39m},\n\u001b[0;32m     11\u001b[0m                        opacity\u001b[38;5;241m=\u001b[39m\u001b[38;5;241m0.5\u001b[39m,\n\u001b[0;32m     12\u001b[0m                        labels\u001b[38;5;241m=\u001b[39m{\u001b[38;5;124m'\u001b[39m\u001b[38;5;124munemp\u001b[39m\u001b[38;5;124m'\u001b[39m:\u001b[38;5;124m'\u001b[39m\u001b[38;5;124munemployment rate\u001b[39m\u001b[38;5;124m'\u001b[39m}\n\u001b[0;32m     13\u001b[0m                       )\n\u001b[0;32m     14\u001b[0m fig\u001b[38;5;241m.\u001b[39mupdate_layout(margin\u001b[38;5;241m=\u001b[39m{\u001b[38;5;124m\"\u001b[39m\u001b[38;5;124mr\u001b[39m\u001b[38;5;124m\"\u001b[39m:\u001b[38;5;241m0\u001b[39m,\u001b[38;5;124m\"\u001b[39m\u001b[38;5;124mt\u001b[39m\u001b[38;5;124m\"\u001b[39m:\u001b[38;5;241m0\u001b[39m,\u001b[38;5;124m\"\u001b[39m\u001b[38;5;124ml\u001b[39m\u001b[38;5;124m\"\u001b[39m:\u001b[38;5;241m0\u001b[39m,\u001b[38;5;124m\"\u001b[39m\u001b[38;5;124mb\u001b[39m\u001b[38;5;124m\"\u001b[39m:\u001b[38;5;241m0\u001b[39m})\n\u001b[0;32m     15\u001b[0m fig\u001b[38;5;241m.\u001b[39mshow()\n",
      "\u001b[1;31mNameError\u001b[0m: name 'counties' is not defined"
     ]
    }
   ],
   "source": [
    "for model_name in models:\n",
    "    output = pd.DataFrame(np.column_stack([training2010[[\"GEOID\"]], weights_dict[model_name]]))\n",
    "    output = output.set_axis(['GEOID', model_name], axis=1)\n",
    "    output[model_name] = output[model_name].astype(float)\n",
    "    fig = px.choropleth_mapbox(output, geojson=counties, locations='GEOID', color=model_name,\n",
    "                           color_continuous_scale=\"Viridis\",\n",
    "                           #range_color=(0.05,0.07),\n",
    "                           mapbox_style=\"carto-positron\",\n",
    "                           #featureidkey=\"properties.MWS_ID\",\n",
    "                           zoom=3, center = {\"lat\": 37.0902, \"lon\": -95.7129},\n",
    "                           opacity=0.5,\n",
    "                           labels={'unemp':'unemployment rate'}\n",
    "                          )\n",
    "    fig.update_layout(margin={\"r\":0,\"t\":0,\"l\":0,\"b\":0})\n",
    "    fig.show()"
   ]
  },
  {
   "cell_type": "code",
   "execution_count": 54,
   "metadata": {},
   "outputs": [
    {
     "ename": "NameError",
     "evalue": "name 'counties' is not defined",
     "output_type": "error",
     "traceback": [
      "\u001b[1;31m---------------------------------------------------------------------------\u001b[0m",
      "\u001b[1;31mNameError\u001b[0m                                 Traceback (most recent call last)",
      "Input \u001b[1;32mIn [54]\u001b[0m, in \u001b[0;36m<cell line: 1>\u001b[1;34m()\u001b[0m\n\u001b[0;32m      3\u001b[0m output \u001b[38;5;241m=\u001b[39m output\u001b[38;5;241m.\u001b[39mset_axis([\u001b[38;5;124m'\u001b[39m\u001b[38;5;124mGEOID\u001b[39m\u001b[38;5;124m'\u001b[39m, model_name], axis\u001b[38;5;241m=\u001b[39m\u001b[38;5;241m1\u001b[39m)\n\u001b[0;32m      4\u001b[0m output[model_name] \u001b[38;5;241m=\u001b[39m output[model_name]\u001b[38;5;241m.\u001b[39mastype(\u001b[38;5;28mfloat\u001b[39m)\n\u001b[1;32m----> 5\u001b[0m fig \u001b[38;5;241m=\u001b[39m px\u001b[38;5;241m.\u001b[39mchoropleth_mapbox(output, geojson\u001b[38;5;241m=\u001b[39m\u001b[43mcounties\u001b[49m, locations\u001b[38;5;241m=\u001b[39m\u001b[38;5;124m'\u001b[39m\u001b[38;5;124mGEOID\u001b[39m\u001b[38;5;124m'\u001b[39m, color\u001b[38;5;241m=\u001b[39mmodel_name,\n\u001b[0;32m      6\u001b[0m                        color_continuous_scale\u001b[38;5;241m=\u001b[39m\u001b[38;5;124m\"\u001b[39m\u001b[38;5;124mViridis\u001b[39m\u001b[38;5;124m\"\u001b[39m,\n\u001b[0;32m      7\u001b[0m                        \u001b[38;5;66;03m#range_color=(0.05,0.07),\u001b[39;00m\n\u001b[0;32m      8\u001b[0m                        mapbox_style\u001b[38;5;241m=\u001b[39m\u001b[38;5;124m\"\u001b[39m\u001b[38;5;124mcarto-positron\u001b[39m\u001b[38;5;124m\"\u001b[39m,\n\u001b[0;32m      9\u001b[0m                        \u001b[38;5;66;03m#featureidkey=\"properties.MWS_ID\",\u001b[39;00m\n\u001b[0;32m     10\u001b[0m                        zoom\u001b[38;5;241m=\u001b[39m\u001b[38;5;241m3\u001b[39m, center \u001b[38;5;241m=\u001b[39m {\u001b[38;5;124m\"\u001b[39m\u001b[38;5;124mlat\u001b[39m\u001b[38;5;124m\"\u001b[39m: \u001b[38;5;241m37.0902\u001b[39m, \u001b[38;5;124m\"\u001b[39m\u001b[38;5;124mlon\u001b[39m\u001b[38;5;124m\"\u001b[39m: \u001b[38;5;241m-\u001b[39m\u001b[38;5;241m95.7129\u001b[39m},\n\u001b[0;32m     11\u001b[0m                        opacity\u001b[38;5;241m=\u001b[39m\u001b[38;5;241m0.5\u001b[39m,\n\u001b[0;32m     12\u001b[0m                        labels\u001b[38;5;241m=\u001b[39m{\u001b[38;5;124m'\u001b[39m\u001b[38;5;124munemp\u001b[39m\u001b[38;5;124m'\u001b[39m:\u001b[38;5;124m'\u001b[39m\u001b[38;5;124munemployment rate\u001b[39m\u001b[38;5;124m'\u001b[39m}\n\u001b[0;32m     13\u001b[0m                       )\n\u001b[0;32m     14\u001b[0m fig\u001b[38;5;241m.\u001b[39mupdate_layout(margin\u001b[38;5;241m=\u001b[39m{\u001b[38;5;124m\"\u001b[39m\u001b[38;5;124mr\u001b[39m\u001b[38;5;124m\"\u001b[39m:\u001b[38;5;241m0\u001b[39m,\u001b[38;5;124m\"\u001b[39m\u001b[38;5;124mt\u001b[39m\u001b[38;5;124m\"\u001b[39m:\u001b[38;5;241m0\u001b[39m,\u001b[38;5;124m\"\u001b[39m\u001b[38;5;124ml\u001b[39m\u001b[38;5;124m\"\u001b[39m:\u001b[38;5;241m0\u001b[39m,\u001b[38;5;124m\"\u001b[39m\u001b[38;5;124mb\u001b[39m\u001b[38;5;124m\"\u001b[39m:\u001b[38;5;241m0\u001b[39m})\n\u001b[0;32m     15\u001b[0m fig\u001b[38;5;241m.\u001b[39mshow()\n",
      "\u001b[1;31mNameError\u001b[0m: name 'counties' is not defined"
     ]
    }
   ],
   "source": [
    "for model_name in models:\n",
    "    output = pd.DataFrame(np.column_stack([training2010[[\"GEOID\"]], norm_weights_dict[model_name]]))\n",
    "    output = output.set_axis(['GEOID', model_name], axis=1)\n",
    "    output[model_name] = output[model_name].astype(float)\n",
    "    fig = px.choropleth_mapbox(output, geojson=counties, locations='GEOID', color=model_name,\n",
    "                           color_continuous_scale=\"Viridis\",\n",
    "                           #range_color=(0.05,0.07),\n",
    "                           mapbox_style=\"carto-positron\",\n",
    "                           #featureidkey=\"properties.MWS_ID\",\n",
    "                           zoom=3, center = {\"lat\": 37.0902, \"lon\": -95.7129},\n",
    "                           opacity=0.5,\n",
    "                           labels={'unemp':'unemployment rate'}\n",
    "                          )\n",
    "    fig.update_layout(margin={\"r\":0,\"t\":0,\"l\":0,\"b\":0})\n",
    "    fig.show()"
   ]
  },
  {
   "cell_type": "markdown",
   "metadata": {},
   "source": [
    "! conda install geopandas==0.3.0\n",
    "! conda install pyshp==1.2.10\n",
    "! conda install shapely==1.6.3"
   ]
  }
 ],
 "metadata": {
  "@webio": {
   "lastCommId": null,
   "lastKernelId": null
  },
  "accelerator": "GPU",
  "colab": {
   "collapsed_sections": [
    "FyVOAW4EODnT",
    "ebzyBOEoNQ_a",
    "vAgjEq1-dty-"
   ],
   "provenance": []
  },
  "kernelspec": {
   "display_name": "Python 3 (ipykernel)",
   "language": "python",
   "name": "python3"
  },
  "language_info": {
   "codemirror_mode": {
    "name": "ipython",
    "version": 3
   },
   "file_extension": ".py",
   "mimetype": "text/x-python",
   "name": "python",
   "nbconvert_exporter": "python",
   "pygments_lexer": "ipython3",
   "version": "3.9.13"
  }
 },
 "nbformat": 4,
 "nbformat_minor": 1
}
