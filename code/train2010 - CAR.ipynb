{
 "cells": [
  {
   "cell_type": "markdown",
   "metadata": {},
   "source": [
    "### Import Libraries"
   ]
  },
  {
   "cell_type": "code",
   "execution_count": 1,
   "metadata": {},
   "outputs": [
    {
     "name": "stderr",
     "output_type": "stream",
     "text": [
      "C:\\Users\\nickl\\anaconda3\\lib\\site-packages\\gpflow\\experimental\\utils.py:42: UserWarning: You're calling gpflow.experimental.check_shapes.decorator.check_shapes which is considered *experimental*. Expect: breaking changes, poor documentation, and bugs.\n",
      "  warn(\n",
      "C:\\Users\\nickl\\anaconda3\\lib\\site-packages\\gpflow\\experimental\\utils.py:42: UserWarning: You're calling gpflow.experimental.check_shapes.inheritance.inherit_check_shapes which is considered *experimental*. Expect: breaking changes, poor documentation, and bugs.\n",
      "  warn(\n"
     ]
    },
    {
     "name": "stdout",
     "output_type": "stream",
     "text": [
      "TensorFlow version: 2.10.0. Expected: 2.7.0\n",
      "TensorFlow Probability version: 0.18.0. Expected: 0.15.0\n"
     ]
    }
   ],
   "source": [
    "from wrapper_functions_CAR import *\n",
    "tf.config.run_functions_eagerly(True)\n",
    "np.random.seed(10)"
   ]
  },
  {
   "cell_type": "markdown",
   "metadata": {},
   "source": [
    "### Create the fake data\n",
    "\n"
   ]
  },
  {
   "cell_type": "code",
   "execution_count": 2,
   "metadata": {},
   "outputs": [],
   "source": [
    "training2010 = pd.read_csv('../data/merged_wp_census_data2_081122.csv')\n",
    "county_adj = pd.read_csv('../data/countyadj2.csv', index_col = 0)\n",
    "models = ['pep', 'worldpop']"
   ]
  },
  {
   "cell_type": "code",
   "execution_count": 3,
   "metadata": {},
   "outputs": [],
   "source": [
    "data_NY, adj_NY = subset_data_by_state(training2010, county_adj, 'New York', 'NY')"
   ]
  },
  {
   "cell_type": "markdown",
   "metadata": {
    "id": "U-Nmbq-0wgYy"
   },
   "source": [
    "# Default Configs"
   ]
  },
  {
   "cell_type": "code",
   "execution_count": 4,
   "metadata": {
    "colab": {
     "background_save": true
    },
    "id": "fY1Z6ccs2XUP"
   },
   "outputs": [],
   "source": [
    "# MCMC configs.\n",
    "mcmc_step_size=0.1 # @param\n",
    "mcmc_sample_size=500 # @param\n",
    "mcmc_num_steps=10_000 # @param\n",
    "mcmc_burnin=2_500 # @param\n",
    "mcmc_nchain=10 # @param\n",
    "mcmc_seed=0 # @param\n",
    "\n",
    "DEFAULT_MCMC_CONFIG = dict(step_size=mcmc_step_size, \n",
    "                           num_steps=mcmc_sample_size, \n",
    "                           burnin=mcmc_burnin, \n",
    "                           nchain=mcmc_nchain, \n",
    "                           seed=mcmc_seed)"
   ]
  },
  {
   "cell_type": "markdown",
   "metadata": {},
   "source": [
    "#### Running with HMC"
   ]
  },
  {
   "cell_type": "code",
   "execution_count": 5,
   "metadata": {},
   "outputs": [
    {
     "data": {
      "text/plain": [
       "{'step_size': 0.1,\n",
       " 'num_steps': 12500,\n",
       " 'burnin': 2500,\n",
       " 'nchain': 5,\n",
       " 'seed': 0,\n",
       " 'kernel_type': 'hmc',\n",
       " 'step_adaptor_type': 'simple'}"
      ]
     },
     "execution_count": 5,
     "metadata": {},
     "output_type": "execute_result"
    }
   ],
   "source": [
    "mcmc_config = DEFAULT_MCMC_CONFIG.copy()\n",
    "mcmc_config.update(dict(burnin = 2_500, num_steps = 12_500, nchain = 5, \n",
    "                        kernel_type = 'hmc', step_adaptor_type = 'simple'))\n",
    "mcmc_config"
   ]
  },
  {
   "cell_type": "code",
   "execution_count": 6,
   "metadata": {},
   "outputs": [
    {
     "name": "stdout",
     "output_type": "stream",
     "text": [
      "fixing tau2 and rho\n"
     ]
    }
   ],
   "source": [
    "phi_true, u_true, data = simulate_data(data_NY[:],\n",
    "                                       adj_NY[:], \n",
    "                                       sim_numbers = True,\n",
    "                                       scale_down = 1,\n",
    "                                       poisson_noise = False,\n",
    "                                       pivot = -1, \n",
    "                                       one_model = False, \n",
    "                                       models = models)"
   ]
  },
  {
   "cell_type": "code",
   "execution_count": 7,
   "metadata": {},
   "outputs": [
    {
     "name": "stdout",
     "output_type": "stream",
     "text": [
      "fixing tau2 and rho\n",
      "when adding in tau2 and rho, need to update the likelihood function!\n",
      "True\n",
      "0\n",
      "-1215950389.5070887...1000\n",
      "-1215950447.3113859...2000\n",
      "-1215950488.0525978...3000\n",
      "-1215950518.594673...4000\n",
      "-1215950541.700388...5000\n",
      "-1215950559.234808...6000\n",
      "-1215950572.3671145...7000\n",
      "-1215950581.7501183...8000\n",
      "-1215950588.0228074...9000\n",
      "-1215950591.8570354...10000\n",
      "-1215950593.8129787...11000\n",
      "-1215950594.4177845...12000\n",
      "-1215950594.2574892...13000\n",
      "-1215950593.9297702...14000\n",
      "-1215950593.930407...15000\n",
      "-1215950594.551693...16000\n",
      "-1215950595.8299203...17000\n",
      "-1215950597.57735...18000\n",
      "-1215950599.4844344...19000\n",
      "-1215950601.2254426...Done.\n",
      "kernel type is hmc\n",
      "simple step size\n",
      "12500\n",
      "<function run_chain_CAR.<locals>.trace_fn at 0x000001ED25D0A8B0>\n",
      "no cache clearing\n",
      "Acceptance Ratio: 0.6468126627048092\n",
      "1005.5890512\n"
     ]
    }
   ],
   "source": [
    "t0 = time.perf_counter()\n",
    "CAR_samples, chain_samples, sampler_stat = run_mcmc_CAR(data = data[:],\n",
    "                                                        adjacency = adj_NY[:],\n",
    "                                                        pivot = -1,\n",
    "                                                        models = models,                                                        \n",
    "                                                        debug_mode = True,\n",
    "                                                        num_adaptation_steps = 2000,\n",
    "                                                        #num_adaptation_steps = 0,\n",
    "                                                        **mcmc_config)  \n",
    "print(time.perf_counter() - t0)"
   ]
  },
  {
   "cell_type": "code",
   "execution_count": 8,
   "metadata": {},
   "outputs": [],
   "source": [
    "pivot_fit = -1\n",
    "pivot_DGP = -1\n",
    "res_dict = {'CAR_samples': CAR_samples,\n",
    "            'chain_samples': chain_samples, \n",
    "            'sampler_stat': sampler_stat,\n",
    "            'phi_true': phi_true, \n",
    "            'u_true': u_true, \n",
    "            'data': data, \n",
    "            'adjacency': adj_NY,\n",
    "            'pivot_fit': pivot_fit,\n",
    "            'pivot_DGP': pivot_DGP, \n",
    "            'models': models,\n",
    "            'mcmc_config': mcmc_config}"
   ]
  },
  {
   "cell_type": "markdown",
   "metadata": {},
   "source": [
    "Saving and loading Python objects with Pickle"
   ]
  },
  {
   "cell_type": "code",
   "execution_count": 10,
   "metadata": {},
   "outputs": [
    {
     "data": {
      "text/plain": [
       "(<tf.Tensor: shape=(12500,), dtype=float64, numpy=\n",
       " array([0.1       , 0.0990099 , 0.0980296 , ..., 0.01917132, 0.01917132,\n",
       "        0.01917132])>,\n",
       " <tf.Tensor: shape=(12500,), dtype=float64, numpy=\n",
       " array([-35.69294573, -12.68302664, -21.26700089, ...,   0.66248923,\n",
       "         -0.06892971,   0.81076371])>)"
      ]
     },
     "execution_count": 10,
     "metadata": {},
     "output_type": "execute_result"
    }
   ],
   "source": [
    "res_dict['sampler_stat']"
   ]
  },
  {
   "cell_type": "code",
   "execution_count": 16,
   "metadata": {},
   "outputs": [],
   "source": [
    "import pickle\n",
    "\n",
    "# using local data file because these are too big for github\n",
    "#local_dir = 'C:/Users/nickl/Dropbox/Nick_Cranston/HSPH/Research/Nethery Project/Data/'\n",
    "local_dir = 'C:/Users/Admin-Dell/Dropbox/Nick_Cranston/HSPH/Research/Nethery Project/Data/'\n",
    "with open(local_dir + 'CAR_samples_NY_n10000_realdata_fl64_2models_June282023.pickle', 'wb') as results_file:\n",
    "  # pickle.dump([res_dict, mcmc_config], results_file)\n",
    "  pickle.dump(res_dict, results_file)"
   ]
  },
  {
   "cell_type": "markdown",
   "metadata": {},
   "source": [
    "### Loading results and analyzing"
   ]
  },
  {
   "cell_type": "code",
   "execution_count": 4,
   "metadata": {},
   "outputs": [],
   "source": [
    "#local_dir = 'C:/Users/Admin-Dell/Dropbox/Nick_Cranston/HSPH/Research/Nethery Project/Data/'\n",
    "local_dir = 'C:/Users/nickl/Dropbox/Nick_Cranston/HSPH/Research/Nethery Project/Data/'\n",
    "file = local_dir + 'CAR_samples_NY_n10000_realdata_fl64_2models_June282023.pickle'\n",
    "with open(file, \"rb\") as input_file:\n",
    "     #CAR_samples, chain_samples, sampler_stat, mcmc_config, phi_true, u_true, data_sub = pickle.load(input_file)\n",
    "    res_dict = pickle.load(input_file)"
   ]
  },
  {
   "cell_type": "code",
   "execution_count": 5,
   "metadata": {},
   "outputs": [
    {
     "data": {
      "text/plain": [
       "dict_keys(['CAR_samples', 'chain_samples', 'sampler_stat', 'phi_true', 'u_true', 'data', 'adjacency', 'pivot_fit', 'pivot_DGP', 'models', 'mcmc_config'])"
      ]
     },
     "execution_count": 5,
     "metadata": {},
     "output_type": "execute_result"
    }
   ],
   "source": [
    "res_dict.keys()"
   ]
  },
  {
   "cell_type": "code",
   "execution_count": 10,
   "metadata": {},
   "outputs": [
    {
     "data": {
      "text/plain": [
       "['pep', 'worldpop']"
      ]
     },
     "execution_count": 10,
     "metadata": {},
     "output_type": "execute_result"
    }
   ],
   "source": [
    "res_dict['models']"
   ]
  },
  {
   "cell_type": "markdown",
   "metadata": {},
   "source": [
    "## Getting the gradient and likelihood values"
   ]
  },
  {
   "cell_type": "code",
   "execution_count": 6,
   "metadata": {},
   "outputs": [
    {
     "name": "stdout",
     "output_type": "stream",
     "text": [
      "fixing tau2 and rho\n",
      "when adding in tau2 and rho, need to update the likelihood function!\n",
      "False\n"
     ]
    }
   ],
   "source": [
    "target_log_prob_fn = get_log_prob_from_results(res_dict)\n",
    "res = pull_gradient_wrapper(res_dict['chain_samples'], target_log_prob_fn, step_sizes = res_dict['sampler_stat'][0].numpy())"
   ]
  },
  {
   "cell_type": "markdown",
   "metadata": {},
   "source": [
    "## Plotting MCMC diagnostics"
   ]
  },
  {
   "cell_type": "code",
   "execution_count": 8,
   "metadata": {},
   "outputs": [
    {
     "data": {
      "text/plain": [
       "Text(0, 0.5, 'log likelihood')"
      ]
     },
     "execution_count": 8,
     "metadata": {},
     "output_type": "execute_result"
    },
    {
     "data": {
      "image/png": "[encoded data removed]",
      "text/plain": [
       "<Figure size 1080x216 with 3 Axes>"
      ]
     },
     "metadata": {
      "needs_background": "light"
     },
     "output_type": "display_data"
    }
   ],
   "source": [
    "plt.rcParams['figure.figsize'] = [15, 3]\n",
    "\n",
    "plt.subplot(1, 3, 1)\n",
    "plt.plot(res['iter'],res['step_size'])\n",
    "plt.xlabel('MCMC iteration')\n",
    "plt.ylabel('HMC step size')\n",
    "\n",
    "plt.subplot(1, 3, 2)\n",
    "plt.plot(res['iter'],res['mean_abs_grad'])\n",
    "plt.xlabel('MCMC iteration')\n",
    "plt.ylabel('average absolute gradient')\n",
    "\n",
    "plt.subplot(1, 3, 3)\n",
    "plt.plot(res['iter'],res['logL'])\n",
    "plt.xlabel('MCMC iteration')\n",
    "plt.ylabel('log likelihood')"
   ]
  },
  {
   "cell_type": "markdown",
   "metadata": {},
   "source": [
    "## Getting the rhat and ESS values"
   ]
  },
  {
   "cell_type": "code",
   "execution_count": 11,
   "metadata": {},
   "outputs": [
    {
     "name": "stdout",
     "output_type": "stream",
     "text": [
      "[ 79.1498418   24.74966311 217.76634659]\n",
      "[1.06268183 1.0092529  1.40783112]\n"
     ]
    }
   ],
   "source": [
    "u_samples = phi_to_u(res_dict['chain_samples'])\n",
    "ESS = tfp.mcmc.effective_sample_size(u_samples, cross_chain_dims = 1).numpy()\n",
    "rhat = tfp.mcmc.potential_scale_reduction(res_dict['chain_samples'], independent_chain_ndims=1).numpy()\n",
    "print(np.quantile(ESS, [0.5, 0.025, 0.975]))\n",
    "print(np.quantile(rhat, [0.5, 0.025, 0.975]))"
   ]
  },
  {
   "cell_type": "markdown",
   "metadata": {},
   "source": [
    "## Plotting the density of ensemble weights"
   ]
  },
  {
   "cell_type": "code",
   "execution_count": 13,
   "metadata": {},
   "outputs": [
    {
     "ename": "NameError",
     "evalue": "name 'labels' is not defined",
     "output_type": "error",
     "traceback": [
      "\u001b[1;31m---------------------------------------------------------------------------\u001b[0m",
      "\u001b[1;31mNameError\u001b[0m                                 Traceback (most recent call last)",
      "Input \u001b[1;32mIn [13]\u001b[0m, in \u001b[0;36m<cell line: 13>\u001b[1;34m()\u001b[0m\n\u001b[0;32m     11\u001b[0m tt \u001b[38;5;241m=\u001b[39m sns\u001b[38;5;241m.\u001b[39mkdeplot(CAR_df[\u001b[38;5;124m'\u001b[39m\u001b[38;5;124mworldpop\u001b[39m\u001b[38;5;124m'\u001b[39m], shade\u001b[38;5;241m=\u001b[39m\u001b[38;5;28;01mTrue\u001b[39;00m, color\u001b[38;5;241m=\u001b[39m\u001b[38;5;124m\"\u001b[39m\u001b[38;5;124mr\u001b[39m\u001b[38;5;124m\"\u001b[39m, label \u001b[38;5;241m=\u001b[39m \u001b[38;5;124m'\u001b[39m\u001b[38;5;124mworldpop\u001b[39m\u001b[38;5;124m'\u001b[39m)\n\u001b[0;32m     12\u001b[0m tt \u001b[38;5;241m=\u001b[39m sns\u001b[38;5;241m.\u001b[39mkdeplot(CAR_df[\u001b[38;5;124m\"\u001b[39m\u001b[38;5;124mpep\u001b[39m\u001b[38;5;124m\"\u001b[39m], shade\u001b[38;5;241m=\u001b[39m\u001b[38;5;28;01mTrue\u001b[39;00m, color\u001b[38;5;241m=\u001b[39m\u001b[38;5;124m\"\u001b[39m\u001b[38;5;124mb\u001b[39m\u001b[38;5;124m\"\u001b[39m, label \u001b[38;5;241m=\u001b[39m \u001b[38;5;124m'\u001b[39m\u001b[38;5;124mpep\u001b[39m\u001b[38;5;124m'\u001b[39m)\n\u001b[1;32m---> 13\u001b[0m plt\u001b[38;5;241m.\u001b[39mylabel(\u001b[43mlabels\u001b[49m[pivot_DGP \u001b[38;5;241m+\u001b[39m \u001b[38;5;241m1\u001b[39m])\n\u001b[0;32m     14\u001b[0m plt\u001b[38;5;241m.\u001b[39mxlabel(\u001b[38;5;124m'\u001b[39m\u001b[38;5;124m'\u001b[39m)\n\u001b[0;32m     15\u001b[0m plt\u001b[38;5;241m.\u001b[39mxlim(\u001b[38;5;241m0\u001b[39m,\u001b[38;5;241m1\u001b[39m)\n",
      "\u001b[1;31mNameError\u001b[0m: name 'labels' is not defined"
     ]
    },
    {
     "data": {
      "image/png": "[encoded data removed]",
      "text/plain": [
       "<Figure size 1080x216 with 1 Axes>"
      ]
     },
     "metadata": {
      "needs_background": "light"
     },
     "output_type": "display_data"
    }
   ],
   "source": [
    "import seaborn as sns\n",
    "#plt.rcParams['figure.figsize'] = [20, 10]\n",
    "plt.rcParams['figure.figsize'] = [15, 3]\n",
    "fig = plt.figure()\n",
    "\n",
    "## The true u plot\n",
    "plt.subplot(1, 2, 1)\n",
    "\n",
    "CAR_df = pd.DataFrame(res_dict['u_true'][0,:,:], columns = res_dict['models'])\n",
    "sns.set(style=\"darkgrid\")\n",
    "tt = sns.kdeplot(CAR_df['worldpop'], shade=True, color=\"r\", label = 'worldpop')\n",
    "tt = sns.kdeplot(CAR_df[\"pep\"], shade=True, color=\"b\", label = 'pep')\n",
    "plt.ylabel(labels[pivot_DGP + 1])\n",
    "plt.xlabel('')\n",
    "plt.xlim(0,1)\n",
    "plt.title('u true')\n",
    "\n",
    "## The estimated u plot\n",
    "CAR_ensemble_phis = tf.reduce_mean(res_dict['CAR_samples'][0], axis = 2).numpy()\n",
    "u = phi_to_u(CAR_ensemble_phis, pivot = pivot_fit)\n",
    "CAR_df = pd.DataFrame(u, columns = models)\n",
    "\n",
    "plt.subplot(1, 2, 2)\n",
    "sns.set(style=\"darkgrid\")\n",
    "tt = sns.kdeplot(CAR_df['worldpop'], shade=True, color=\"r\", label = 'worldpop')\n",
    "tt = sns.kdeplot(CAR_df[\"pep\"], shade=True, color=\"b\", label = 'pep')\n",
    "#tt = sns.kdeplot(CAR_df[\"worldpop\"], shade=True, color=\"g\", label = 'worldpop')\n",
    "#plt.legend()\n",
    "plt.xlabel('')\n",
    "plt.ylabel('')\n",
    "plt.xlim(0,1)\n",
    "plt.title('estimated u')\n",
    "\n",
    "plt.legend()\n",
    "plt.show()"
   ]
  },
  {
   "cell_type": "markdown",
   "metadata": {},
   "source": [
    "## Plotting scatterplots of the fitted vs true u values and predictions vs true"
   ]
  },
  {
   "cell_type": "code",
   "execution_count": 16,
   "metadata": {},
   "outputs": [
    {
     "data": {
      "image/png": "[encoded data removed]",
      "text/plain": [
       "<Figure size 1080x216 with 2 Axes>"
      ]
     },
     "metadata": {},
     "output_type": "display_data"
    }
   ],
   "source": [
    "#plt.rcParams['figure.figsize'] = [15, 3]\n",
    "fig = plt.figure()\n",
    "\n",
    "phi = res_dict['CAR_samples'][0]\n",
    "\n",
    "predictions = np.empty(shape=(phi.shape[0], \n",
    "                              phi.shape[2]), \n",
    "                       dtype='float64')\n",
    "\n",
    "u = np.empty(shape = phi.shape, dtype = 'float64')\n",
    "for i in range(phi.shape[2]):\n",
    "    u[:,:,i] = phi_to_u(phi[:,:,i], pivot = -1)\n",
    "    predictions[:,i] = tf.reduce_sum(res_dict['data'][res_dict['models']].values*u[:,:,i], axis = 1)\n",
    "   # predictions[:,i] = tf.reduce_sum(data_pivot[models].values*u, axis = 1)\n",
    "\n",
    "y_pred = np.mean(predictions, axis = 1)\n",
    "    \n",
    "\n",
    "## Make the u plot    \n",
    "CAR_df = pd.DataFrame(np.mean(u, axis = 2), columns = res_dict['models'])\n",
    "\n",
    "plt.subplot(1, 2, 1)\n",
    "x = np.ndarray.flatten(res_dict['u_true'][0,:,:].numpy())\n",
    "y = np.ndarray.flatten(CAR_df.values)\n",
    "plt.scatter(x, y)\n",
    "plt.xlabel(\"true u\")\n",
    "plt.ylabel('estimated_u')\n",
    "\n",
    "plt.xlim([min([min(x), min(y)]), max([max(x), max(y)])])\n",
    "plt.ylim([min([min(x), min(y)]), max([max(x), max(y)])])\n",
    "ax = plt.gca()\n",
    "ax.set_aspect('equal', adjustable='box')\n",
    "\n",
    "## obtain m (slope) and b(intercept) of linear regression line\n",
    "m, b = np.polyfit(x, y, 1)\n",
    "## add linear regression line to scatterplot \n",
    "#plt.plot(x, m*x+b, color = 'red')\n",
    "## add y = x lin\n",
    "plt.plot(x, x, color = 'red')\n",
    "\n",
    "## Make the predictions plot\n",
    "plt.subplot(1, 2, 2)\n",
    "\n",
    "x = res_dict['data']['census']\n",
    "y = y_pred\n",
    "#y = y_pred.numpy()\n",
    "plt.scatter(x, y)\n",
    "plt.xlabel(\"true census values\")\n",
    "plt.ylabel(\"predicted census values\")\n",
    "\n",
    "#obtain m (slope) and b(intercept) of linear regression line\n",
    "m, b = np.polyfit(x, y.astype('float64'), 1)\n",
    "\n",
    "plt.xlim([min([min(x), min(y)]), max([max(x), max(y)])])\n",
    "plt.ylim([min([min(x), min(y)]), max([max(x), max(y)])])\n",
    "ax = plt.gca()\n",
    "ax.set_aspect('equal', adjustable='box')\n",
    "ax.set_xscale(\"log\")\n",
    "ax.set_yscale(\"log\")\n",
    "\n",
    "## obtain m (slope) and b(intercept) of linear regression line\n",
    "m, b = np.polyfit(x, y, 1)\n",
    "## add linear regression line to scatterplot \n",
    "#plt.plot(x, m*x+b, color = 'red')\n",
    "## add y = x line\n",
    "plt.plot(x, x, color = 'red')\n",
    "\n",
    "plt.show()"
   ]
  },
  {
   "cell_type": "markdown",
   "metadata": {},
   "source": [
    "## Plotting the chloroploth maps"
   ]
  },
  {
   "cell_type": "code",
   "execution_count": null,
   "metadata": {},
   "outputs": [],
   "source": [
    "# Create the weights dict for plotting the outcomes\n",
    "\n",
    "weights_dict = {\n",
    "    \"acs\": CAR_ensemble_weights[:,0],\n",
    "    \"pep\": CAR_ensemble_weights[:,1],\n",
    "    \"worldpop\": CAR_ensemble_weights[:,2]\n",
    "}\n",
    "\n",
    "color_weights = make_color_norm(\n",
    "    list(weights_dict.values())[1],   \n",
    "    method=\"percentile\")"
   ]
  },
  {
   "cell_type": "code",
   "execution_count": null,
   "metadata": {},
   "outputs": [],
   "source": [
    "norm_weights_dict = {\n",
    "    \"acs\": u[:,0],\n",
    "    \"pep\": u[:,1],\n",
    "    \"worldpop\": u[:,2]\n",
    "}\n",
    "\n",
    "color_norm_weights = make_color_norm(\n",
    "    list(norm_weights_dict.values())[1],   \n",
    "    method=\"percentile\")"
   ]
  },
  {
   "cell_type": "code",
   "execution_count": null,
   "metadata": {},
   "outputs": [],
   "source": [
    "import plotly\n",
    "from urllib.request import urlopen\n",
    "import json\n",
    "with urlopen('https://raw.githubusercontent.com/plotly/datasets/master/geojson-counties-fips.json') as response:\n",
    "    counties = json.load(response)\n",
    "\n",
    "import pandas as pd\n",
    "# df = pd.read_csv(\"https://raw.githubusercontent.com/plotly/datasets/master/fips-unemp-16.csv\",\n",
    "#                    dtype={\"fips\": str})\n",
    "import matplotlib.colors as colors\n",
    "\n",
    "import plotly.express as px"
   ]
  },
  {
   "cell_type": "code",
   "execution_count": null,
   "metadata": {
    "scrolled": false
   },
   "outputs": [],
   "source": [
    "for model_name in models:\n",
    "    output = pd.DataFrame(np.column_stack([data_sub[[\"GEOID\"]], weights_dict[model_name]]))\n",
    "    output = output.set_axis(['GEOID', model_name], axis=1)\n",
    "    output[model_name] = output[model_name].astype(float)\n",
    "    fig = px.choropleth_mapbox(output, geojson=counties, locations='GEOID', color=model_name,\n",
    "                           color_continuous_scale=\"Viridis\",\n",
    "                           #range_color=(0.05,0.07),\n",
    "                           mapbox_style=\"carto-positron\",\n",
    "                           #mapbox_style='white-bg',\n",
    "                           #featureidkey=\"properties.MWS_ID\",\n",
    "                           zoom=3, center = {\"lat\": 37.0902, \"lon\": -95.7129},\n",
    "                           opacity=0.5#,\n",
    "                           #labels={'unemp':'unemployment rate'}\n",
    "                          )\n",
    "    fig.update_layout(margin={\"r\":0,\"t\":0,\"l\":0,\"b\":0})\n",
    "    fig.show()"
   ]
  },
  {
   "cell_type": "code",
   "execution_count": null,
   "metadata": {},
   "outputs": [],
   "source": [
    "# pd.concat([data_NY[[\"GEOID\"]].reset_index(drop=True), pd.DataFrame( phi_true[0].numpy(), columns = models)], axis=1)\n",
    "# pd.DataFrame( phi_true[0].numpy(), columns = models)"
   ]
  },
  {
   "cell_type": "code",
   "execution_count": null,
   "metadata": {},
   "outputs": [],
   "source": [
    "full_phi = pd.concat([data_sub[[\"GEOID\"]].reset_index(drop=True), \n",
    "                         pd.DataFrame(phi_true[0].numpy(), columns = models)], \n",
    "                        axis=1)\n",
    "\n",
    "full_u = pd.concat([data_sub[[\"GEOID\"]].reset_index(drop=True), \n",
    "                         pd.DataFrame(u_true[0].numpy(), columns = models)], \n",
    "                        axis=1)\n",
    "\n",
    "\n",
    "#full_phi[['GEOID', 'acs']], full_u"
   ]
  },
  {
   "cell_type": "code",
   "execution_count": null,
   "metadata": {},
   "outputs": [],
   "source": [
    "for model_name in models:\n",
    "    output = full_phi[['GEOID', model_name]]\n",
    "    fig = px.choropleth_mapbox(output, geojson=counties, locations='GEOID', color=model_name,\n",
    "                           color_continuous_scale=\"Viridis\",\n",
    "                           #range_color=(0.05,0.07),\n",
    "                           mapbox_style=\"carto-positron\",\n",
    "                           #mapbox_style='white-bg',\n",
    "                           #featureidkey=\"properties.MWS_ID\",\n",
    "                           zoom=3, center = {\"lat\": 37.0902, \"lon\": -95.7129},\n",
    "                           opacity=0.5#,\n",
    "                           #labels={'unemp':'unemployment rate'}\n",
    "                          )\n",
    "    fig.update_layout(margin={\"r\":0,\"t\":0,\"l\":0,\"b\":0})\n",
    "    fig.show()"
   ]
  }
 ],
 "metadata": {
  "@webio": {
   "lastCommId": null,
   "lastKernelId": null
  },
  "accelerator": "GPU",
  "colab": {
   "collapsed_sections": [
    "FyVOAW4EODnT",
    "ebzyBOEoNQ_a",
    "vAgjEq1-dty-"
   ],
   "provenance": []
  },
  "kernelspec": {
   "display_name": "Python 3 (ipykernel)",
   "language": "python",
   "name": "python3"
  },
  "language_info": {
   "codemirror_mode": {
    "name": "ipython",
    "version": 3
   },
   "file_extension": ".py",
   "mimetype": "text/x-python",
   "name": "python",
   "nbconvert_exporter": "python",
   "pygments_lexer": "ipython3",
   "version": "3.9.12"
  }
 },
 "nbformat": 4,
 "nbformat_minor": 1
}
