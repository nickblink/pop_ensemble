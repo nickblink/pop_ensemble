{
 "cells": [
  {
   "cell_type": "markdown",
   "metadata": {},
   "source": [
    "### Import Libraries"
   ]
  },
  {
   "cell_type": "code",
   "execution_count": 1,
   "metadata": {},
   "outputs": [
    {
     "name": "stderr",
     "output_type": "stream",
     "text": [
      "C:\\Users\\Admin-Dell\\Documents\\github_projects\\pop_ensemble\\code\\wrapper_functions.py:1250: SyntaxWarning: \"is\" with a literal. Did you mean \"==\"?\n",
      "  if kernel_type is 'hmc':\n",
      "C:\\Users\\Admin-Dell\\Documents\\github_projects\\pop_ensemble\\code\\wrapper_functions.py:1257: SyntaxWarning: \"is\" with a literal. Did you mean \"==\"?\n",
      "  if kernel_type is 'hmc':\n",
      "C:\\Users\\Admin-Dell\\Documents\\github_projects\\pop_ensemble\\code\\wrapper_functions.py:1273: SyntaxWarning: \"is\" with a literal. Did you mean \"==\"?\n",
      "  if step_adaptor_type is 'simple':\n",
      "C:\\Users\\Admin-Dell\\anaconda3\\lib\\site-packages\\gpflow\\experimental\\utils.py:42: UserWarning: You're calling gpflow.experimental.check_shapes.decorator.check_shapes which is considered *experimental*. Expect: breaking changes, poor documentation, and bugs.\n",
      "  warn(\n",
      "C:\\Users\\Admin-Dell\\anaconda3\\lib\\site-packages\\gpflow\\experimental\\utils.py:42: UserWarning: You're calling gpflow.experimental.check_shapes.inheritance.inherit_check_shapes which is considered *experimental*. Expect: breaking changes, poor documentation, and bugs.\n",
      "  warn(\n"
     ]
    },
    {
     "name": "stdout",
     "output_type": "stream",
     "text": [
      "TensorFlow version: 2.11.0. Expected: 2.7.0\n",
      "TensorFlow Probability version: 0.19.0. Expected: 0.15.0\n"
     ]
    }
   ],
   "source": [
    "from wrapper_functions import *"
   ]
  },
  {
   "cell_type": "markdown",
   "metadata": {},
   "source": [
    "### Read in Data"
   ]
  },
  {
   "cell_type": "code",
   "execution_count": 2,
   "metadata": {},
   "outputs": [],
   "source": [
    "#training2010 = pd.read_csv('../data/merged_wp_census_data_280922.csv')\n",
    "training2010 = pd.read_csv('../data/merged_wp_census_data2_081122.csv')\n",
    "county_adj = pd.read_csv('../data/countyadj2.csv', index_col = 0)\n",
    "models = ['acs', 'pep', 'worldpop']"
   ]
  },
  {
   "cell_type": "code",
   "execution_count": 3,
   "metadata": {},
   "outputs": [],
   "source": [
    "data_NY, adj_NY = subset_data_by_state(training2010, county_adj, 'New York', 'NY')\n",
    "\n",
    "data_GA, adj_GA = subset_data_by_state(training2010, county_adj, 'Georgia', 'GA')"
   ]
  },
  {
   "cell_type": "code",
   "execution_count": 4,
   "metadata": {},
   "outputs": [
    {
     "data": {
      "text/html": [
       "<div>\n",
       "<style scoped>\n",
       "    .dataframe tbody tr th:only-of-type {\n",
       "        vertical-align: middle;\n",
       "    }\n",
       "\n",
       "    .dataframe tbody tr th {\n",
       "        vertical-align: top;\n",
       "    }\n",
       "\n",
       "    .dataframe thead th {\n",
       "        text-align: right;\n",
       "    }\n",
       "</style>\n",
       "<table border=\"1\" class=\"dataframe\">\n",
       "  <thead>\n",
       "    <tr style=\"text-align: right;\">\n",
       "      <th></th>\n",
       "      <th>GEOID</th>\n",
       "      <th>NAME</th>\n",
       "      <th>acs</th>\n",
       "      <th>census</th>\n",
       "      <th>pep</th>\n",
       "      <th>lon</th>\n",
       "      <th>lat</th>\n",
       "      <th>worldpop</th>\n",
       "    </tr>\n",
       "  </thead>\n",
       "  <tbody>\n",
       "    <tr>\n",
       "      <th>357</th>\n",
       "      <td>13001</td>\n",
       "      <td>Appling County, Georgia</td>\n",
       "      <td>18050</td>\n",
       "      <td>18236</td>\n",
       "      <td>18334</td>\n",
       "      <td>-82.310258</td>\n",
       "      <td>31.744120</td>\n",
       "      <td>18252.248366</td>\n",
       "    </tr>\n",
       "    <tr>\n",
       "      <th>358</th>\n",
       "      <td>13003</td>\n",
       "      <td>Atkinson County, Georgia</td>\n",
       "      <td>8332</td>\n",
       "      <td>8375</td>\n",
       "      <td>8364</td>\n",
       "      <td>-82.900324</td>\n",
       "      <td>31.277997</td>\n",
       "      <td>8280.643018</td>\n",
       "    </tr>\n",
       "    <tr>\n",
       "      <th>359</th>\n",
       "      <td>13005</td>\n",
       "      <td>Bacon County, Georgia</td>\n",
       "      <td>10969</td>\n",
       "      <td>11096</td>\n",
       "      <td>11062</td>\n",
       "      <td>-82.479974</td>\n",
       "      <td>31.543162</td>\n",
       "      <td>11092.873979</td>\n",
       "    </tr>\n",
       "    <tr>\n",
       "      <th>360</th>\n",
       "      <td>13007</td>\n",
       "      <td>Baker County, Georgia</td>\n",
       "      <td>3657</td>\n",
       "      <td>3451</td>\n",
       "      <td>3431</td>\n",
       "      <td>-84.465345</td>\n",
       "      <td>31.310185</td>\n",
       "      <td>3476.480121</td>\n",
       "    </tr>\n",
       "    <tr>\n",
       "      <th>361</th>\n",
       "      <td>13009</td>\n",
       "      <td>Baldwin County, Georgia</td>\n",
       "      <td>46905</td>\n",
       "      <td>45720</td>\n",
       "      <td>45704</td>\n",
       "      <td>-83.254069</td>\n",
       "      <td>33.068964</td>\n",
       "      <td>45423.391449</td>\n",
       "    </tr>\n",
       "    <tr>\n",
       "      <th>...</th>\n",
       "      <td>...</td>\n",
       "      <td>...</td>\n",
       "      <td>...</td>\n",
       "      <td>...</td>\n",
       "      <td>...</td>\n",
       "      <td>...</td>\n",
       "      <td>...</td>\n",
       "      <td>...</td>\n",
       "    </tr>\n",
       "    <tr>\n",
       "      <th>511</th>\n",
       "      <td>13313</td>\n",
       "      <td>Whitfield County, Georgia</td>\n",
       "      <td>99910</td>\n",
       "      <td>102599</td>\n",
       "      <td>102745</td>\n",
       "      <td>-84.971605</td>\n",
       "      <td>34.796990</td>\n",
       "      <td>102848.123472</td>\n",
       "    </tr>\n",
       "    <tr>\n",
       "      <th>512</th>\n",
       "      <td>13315</td>\n",
       "      <td>Wilcox County, Georgia</td>\n",
       "      <td>9041</td>\n",
       "      <td>9255</td>\n",
       "      <td>9314</td>\n",
       "      <td>-83.470904</td>\n",
       "      <td>31.969460</td>\n",
       "      <td>9207.866530</td>\n",
       "    </tr>\n",
       "    <tr>\n",
       "      <th>513</th>\n",
       "      <td>13317</td>\n",
       "      <td>Wilkes County, Georgia</td>\n",
       "      <td>10580</td>\n",
       "      <td>10593</td>\n",
       "      <td>10388</td>\n",
       "      <td>-82.755558</td>\n",
       "      <td>33.783775</td>\n",
       "      <td>10579.815508</td>\n",
       "    </tr>\n",
       "    <tr>\n",
       "      <th>514</th>\n",
       "      <td>13319</td>\n",
       "      <td>Wilkinson County, Georgia</td>\n",
       "      <td>9685</td>\n",
       "      <td>9563</td>\n",
       "      <td>9529</td>\n",
       "      <td>-83.194991</td>\n",
       "      <td>32.801053</td>\n",
       "      <td>9687.102703</td>\n",
       "    </tr>\n",
       "    <tr>\n",
       "      <th>515</th>\n",
       "      <td>13321</td>\n",
       "      <td>Worth County, Georgia</td>\n",
       "      <td>21712</td>\n",
       "      <td>21679</td>\n",
       "      <td>21692</td>\n",
       "      <td>-83.877707</td>\n",
       "      <td>31.546340</td>\n",
       "      <td>21589.868726</td>\n",
       "    </tr>\n",
       "  </tbody>\n",
       "</table>\n",
       "<p>159 rows × 8 columns</p>\n",
       "</div>"
      ],
      "text/plain": [
       "     GEOID                       NAME    acs  census     pep        lon  \\\n",
       "357  13001    Appling County, Georgia  18050   18236   18334 -82.310258   \n",
       "358  13003   Atkinson County, Georgia   8332    8375    8364 -82.900324   \n",
       "359  13005      Bacon County, Georgia  10969   11096   11062 -82.479974   \n",
       "360  13007      Baker County, Georgia   3657    3451    3431 -84.465345   \n",
       "361  13009    Baldwin County, Georgia  46905   45720   45704 -83.254069   \n",
       "..     ...                        ...    ...     ...     ...        ...   \n",
       "511  13313  Whitfield County, Georgia  99910  102599  102745 -84.971605   \n",
       "512  13315     Wilcox County, Georgia   9041    9255    9314 -83.470904   \n",
       "513  13317     Wilkes County, Georgia  10580   10593   10388 -82.755558   \n",
       "514  13319  Wilkinson County, Georgia   9685    9563    9529 -83.194991   \n",
       "515  13321      Worth County, Georgia  21712   21679   21692 -83.877707   \n",
       "\n",
       "           lat       worldpop  \n",
       "357  31.744120   18252.248366  \n",
       "358  31.277997    8280.643018  \n",
       "359  31.543162   11092.873979  \n",
       "360  31.310185    3476.480121  \n",
       "361  33.068964   45423.391449  \n",
       "..         ...            ...  \n",
       "511  34.796990  102848.123472  \n",
       "512  31.969460    9207.866530  \n",
       "513  33.783775   10579.815508  \n",
       "514  32.801053    9687.102703  \n",
       "515  31.546340   21589.868726  \n",
       "\n",
       "[159 rows x 8 columns]"
      ]
     },
     "execution_count": 4,
     "metadata": {},
     "output_type": "execute_result"
    }
   ],
   "source": [
    "data_GA"
   ]
  },
  {
   "cell_type": "markdown",
   "metadata": {
    "id": "U-Nmbq-0wgYy"
   },
   "source": [
    "# Default Configs"
   ]
  },
  {
   "cell_type": "code",
   "execution_count": 5,
   "metadata": {
    "colab": {
     "background_save": true
    },
    "id": "fY1Z6ccs2XUP"
   },
   "outputs": [],
   "source": [
    "# MCMC configs.\n",
    "mcmc_step_size=0.1 # @param\n",
    "mcmc_sample_size=500 # @param\n",
    "mcmc_num_steps=10_000 # @param\n",
    "mcmc_burnin=2_500 # @param\n",
    "mcmc_nchain=10 # @param\n",
    "mcmc_seed=0 # @param\n",
    "\n",
    "DEFAULT_MCMC_CONFIG = dict(step_size=mcmc_step_size, \n",
    "                           num_steps=mcmc_sample_size, \n",
    "                           burnin=mcmc_burnin, \n",
    "                           nchain=mcmc_nchain, \n",
    "                           seed=mcmc_seed)"
   ]
  },
  {
   "cell_type": "code",
   "execution_count": 17,
   "metadata": {},
   "outputs": [
    {
     "name": "stdout",
     "output_type": "stream",
     "text": [
      "fixing tau2 and rho\n"
     ]
    }
   ],
   "source": [
    "tau2 = 1\n",
    "rho = 0.3\n",
    "print('fixing tau2 and rho')\n",
    "\n",
    "adjacency = adj_NY\n",
    "data = data_NY\n",
    "nchain = 5\n",
    "\n",
    "Q = (1/tau2)*(np.diag(adjacency.sum(axis=1)) - rho*adjacency)\n",
    "Q = tf.constant(Q, dtype = tf.float32)\n",
    "init_state = tf.constant(np.array([mv_normal_sample(precision_matrix = Q, num_models = 3) for i in range(nchain)]),\n",
    "                       dtype = tf.float32)\n",
    "\n",
    "# define log likelihood function\n",
    "def target_log_prob_fn_CAR(phi):\n",
    "    #Q = (1/tau2)*(np.diag(adjacency.sum(axis=1)) - rho*adjacency)\n",
    "    #Q = tf.constant(Q, dtype = tf.float32)\n",
    "\n",
    "    ll = tf.Variable(0.)\n",
    "    for chain in range(phi.shape[0]):\n",
    "        # (1) Prob of the CAR random effect values\n",
    "        ll_chain = -0.5*tf.reduce_mean(tf.linalg.diag_part(\n",
    "            tf.linalg.matmul(phi[chain,:,:],tf.linalg.matmul(Q, phi[chain,:,:]), transpose_a = True))) \n",
    "        ll = ll + ll_chain\n",
    "\n",
    "    # add in determinant values\n",
    "    log_det = tf.constant(np.linalg.slogdet(Q)[1], dtype = tf.float32)\n",
    "    #log_det = tf.linalg.logdet(Q)[1], dtype = tf.float32\n",
    "    ll = ll + 0.5*phi.shape[0]*len(models)*log_det\n",
    "\n",
    "    # get exponentiated values and sum across models\n",
    "    exp_phi = tf.math.exp(phi)\n",
    "    exp_phi_rows = tf.reduce_sum(exp_phi, 2)\n",
    "\n",
    "    # get model weights and calculate mean estimate\n",
    "    u = exp_phi/exp_phi_rows[...,None]\n",
    "\n",
    "    tmp = data[models].values*u\n",
    "    n = tf.reduce_sum(tmp, axis = 2)\n",
    "\n",
    "    # update the log likelihood \n",
    "    ll = ll + tf.reduce_sum([np.sum(data['census']*np.log(n[chain,:]) - n[chain,:]) for chain in range(phi.shape[0])])\n",
    "\n",
    "    return(ll)      \n",
    "\n",
    "phi = tf.Variable(initial_value = init_state)\n",
    "def loss():\n",
    "    return - target_log_prob_fn_CAR(phi)\n",
    "\n",
    "opt = tf.keras.optimizers.Adam(learning_rate=0.1)\n",
    "\n",
    "target_log_prob_fn_CAR(phi)\n",
    "\n",
    "for iter in range(20_000):\n",
    "    if iter % 1_000 == 0:\n",
    "      print(phi[0,0,0])\n",
    "      print(f'{loss().numpy()}...', end='')\n",
    "      _ = opt.minimize(loss, [phi])\n",
    "      print(phi[0,0,0])"
   ]
  },
  {
   "cell_type": "markdown",
   "metadata": {},
   "source": [
    "## Bayesian Model Averaging\n",
    "\n",
    "A Bayesian ensemble model where ensemble weights $w_k's$ are parameterized by Gaussian process priors:\n",
    "\n",
    "$y \\sim N(\\mu(x), \\sigma^2)$ \n",
    "\n",
    "$\\mu(x) = \\sum_{k=1}^K w_k(x) * m_k(x) \\quad$  where $\\{m_k\\}_{k=1}^K$ are base model predictions.\n",
    "\n",
    "$w(x) = softmax(f(x)) \\qquad\\;\\;\\;$ where $w=[w_1, \\dots, w_K]$ and $f=[f_1, \\dots, f_K]$\n",
    "\n",
    "$f \\stackrel{i.i.d.}{\\sim} GaussianProcess(0, k)$\n"
   ]
  },
  {
   "cell_type": "markdown",
   "metadata": {},
   "source": [
    "### Run MCMC"
   ]
  },
  {
   "cell_type": "markdown",
   "metadata": {},
   "source": [
    "Seems like this takes ~2.6s per num_steps\n",
    "Took 265s for num_steps = 100\n",
    "Took 51s for num_steps = 50\n",
    "102s for num_steps = 100\n",
    "262s for num_steps = 100 test\n",
    "12s for num_steps = 100 the improved test\n",
    "and 16m for num_steps = 10000 and nchain = 5! Great. \\\\\n",
    "\n",
    "I think this was before I re-computed the Q determinant every time. With that, it takes 5 hours for 10000 steps and nchain = 5 (or 10?) So ya, it's slow. I can't imagine what this will be like for the entire US. However, that could have been because of bad sleep settings on my comp, so we might be a-ok here\n",
    "\n",
    "For NY (n = 62) nuts, nchain = 2, num_steps = 100, 10m \\\n",
    "For GA (n = 159) nuts, nchain = 2, num_steps = 100, 230s...? Maybe because of the 6% acceptance? \\\n",
    "For US (n = 3064) nuts, nchain = 2, num_steps = 100, 482s. So not linear time! Yay \\\n",
    "For US (n = 3064) nuts, nchain = 5, num_steps = 1000, 4 hours (unfortunately I forgot to do burnin, but oh well)\\\n",
    "For US (n = 3064) hmc, nchain = 5, num_steps = 1000, 6 hours (but is that because I included the burnin? Maybe)"
   ]
  },
  {
   "cell_type": "markdown",
   "metadata": {},
   "source": [
    "Testing the step size adapters"
   ]
  },
  {
   "cell_type": "markdown",
   "metadata": {},
   "source": [
    "#### Running with HMC"
   ]
  },
  {
   "cell_type": "code",
   "execution_count": 7,
   "metadata": {},
   "outputs": [
    {
     "data": {
      "text/plain": [
       "{'step_size': 0.1,\n",
       " 'num_steps': 1000,\n",
       " 'burnin': 250,\n",
       " 'nchain': 2,\n",
       " 'seed': 0,\n",
       " 'kernel_type': 'hmc',\n",
       " 'step_adaptor_type': 'simple'}"
      ]
     },
     "execution_count": 7,
     "metadata": {},
     "output_type": "execute_result"
    }
   ],
   "source": [
    "mcmc_config = DEFAULT_MCMC_CONFIG.copy()\n",
    "mcmc_config.update(dict(burnin = 250, num_steps = 1000, nchain = 2, kernel_type = 'hmc', step_adaptor_type = 'simple'))\n",
    "mcmc_config"
   ]
  },
  {
   "cell_type": "code",
   "execution_count": 8,
   "metadata": {},
   "outputs": [
    {
     "name": "stdout",
     "output_type": "stream",
     "text": [
      "fixing tau2 and rho\n"
     ]
    },
    {
     "ename": "NotImplementedError",
     "evalue": "in user code:\n\n    File \"C:\\Users\\Admin-Dell\\Documents\\github_projects\\pop_ensemble\\code\\wrapper_functions.py\", line 2001, in loss  *\n        nll = -target_log_prob_fn(phi)\n    File \"C:\\Users\\Admin-Dell\\Documents\\github_projects\\pop_ensemble\\code\\wrapper_functions.py\", line 2058, in target_log_prob_fn_CAR  *\n        ll = ll + tf.reduce_sum([np.sum(data['census']*np.log(n[chain,:]) - n[chain,:]) for chain in range(phi.shape[0])])\n\n    NotImplementedError: Cannot convert a symbolic tf.Tensor (strided_slice_5:0) to a numpy array. This error may indicate that you're trying to pass a Tensor to a NumPy call, which is not supported.\n",
     "output_type": "error",
     "traceback": [
      "\u001b[1;31m---------------------------------------------------------------------------\u001b[0m",
      "\u001b[1;31mNotImplementedError\u001b[0m                       Traceback (most recent call last)",
      "\u001b[1;32m~\\AppData\\Local\\Temp\\ipykernel_8972\\3333323277.py\u001b[0m in \u001b[0;36m<module>\u001b[1;34m\u001b[0m\n\u001b[0;32m      1\u001b[0m \u001b[0mt0\u001b[0m \u001b[1;33m=\u001b[0m \u001b[0mtime\u001b[0m\u001b[1;33m.\u001b[0m\u001b[0mperf_counter\u001b[0m\u001b[1;33m(\u001b[0m\u001b[1;33m)\u001b[0m\u001b[1;33m\u001b[0m\u001b[1;33m\u001b[0m\u001b[0m\n\u001b[1;32m----> 2\u001b[1;33m CAR_samples5, chain_samples5, sampler_stat5 = run_mcmc_CAR(data = data_NY,\n\u001b[0m\u001b[0;32m      3\u001b[0m                                                         \u001b[0madjacency\u001b[0m \u001b[1;33m=\u001b[0m \u001b[0madj_NY\u001b[0m\u001b[1;33m,\u001b[0m\u001b[1;33m\u001b[0m\u001b[1;33m\u001b[0m\u001b[0m\n\u001b[0;32m      4\u001b[0m                                                         \u001b[0mmodels\u001b[0m \u001b[1;33m=\u001b[0m \u001b[0mmodels\u001b[0m\u001b[1;33m,\u001b[0m\u001b[1;33m\u001b[0m\u001b[1;33m\u001b[0m\u001b[0m\n\u001b[0;32m      5\u001b[0m                                                         \u001b[0mdebug_mode\u001b[0m \u001b[1;33m=\u001b[0m \u001b[1;32mTrue\u001b[0m\u001b[1;33m,\u001b[0m\u001b[1;33m\u001b[0m\u001b[1;33m\u001b[0m\u001b[0m\n",
      "\u001b[1;32m~\\Documents\\github_projects\\pop_ensemble\\code\\wrapper_functions.py\u001b[0m in \u001b[0;36mrun_mcmc_CAR\u001b[1;34m(init_state, target_log_prob_fn, data, adjacency, models, sample_size, nchain, num_steps, burnin, step_size, seed, debug_mode, **mcmc_kwargs)\u001b[0m\n\u001b[0;32m   2117\u001b[0m   \u001b[1;32mif\u001b[0m \u001b[0minit_state\u001b[0m \u001b[1;32mis\u001b[0m \u001b[1;32mNone\u001b[0m \u001b[1;32mor\u001b[0m \u001b[0mtarget_log_prob_fn\u001b[0m \u001b[1;32mis\u001b[0m \u001b[1;32mNone\u001b[0m\u001b[1;33m:\u001b[0m\u001b[1;33m\u001b[0m\u001b[1;33m\u001b[0m\u001b[0m\n\u001b[0;32m   2118\u001b[0m     \u001b[1;31m# By default, sample first parameter of a two-parameter model (W, y).\u001b[0m\u001b[1;33m\u001b[0m\u001b[1;33m\u001b[0m\u001b[0m\n\u001b[1;32m-> 2119\u001b[1;33m     \u001b[0minit_state\u001b[0m\u001b[1;33m,\u001b[0m \u001b[0mtarget_log_prob_fn\u001b[0m \u001b[1;33m=\u001b[0m \u001b[0mprepare_mcmc_CAR\u001b[0m\u001b[1;33m(\u001b[0m\u001b[0mdata\u001b[0m\u001b[1;33m,\u001b[0m \u001b[0madjacency\u001b[0m\u001b[1;33m,\u001b[0m \u001b[0mnchain\u001b[0m\u001b[1;33m,\u001b[0m \u001b[0mmodels\u001b[0m\u001b[1;33m)\u001b[0m\u001b[1;33m\u001b[0m\u001b[1;33m\u001b[0m\u001b[0m\n\u001b[0m\u001b[0;32m   2120\u001b[0m   \u001b[1;32melse\u001b[0m\u001b[1;33m:\u001b[0m\u001b[1;33m\u001b[0m\u001b[1;33m\u001b[0m\u001b[0m\n\u001b[0;32m   2121\u001b[0m     \u001b[0mnchain\u001b[0m \u001b[1;33m=\u001b[0m \u001b[0minit_state\u001b[0m\u001b[1;33m.\u001b[0m\u001b[0mshape\u001b[0m\u001b[1;33m[\u001b[0m\u001b[1;36m0\u001b[0m\u001b[1;33m]\u001b[0m\u001b[1;33m\u001b[0m\u001b[1;33m\u001b[0m\u001b[0m\n",
      "\u001b[1;32m~\\Documents\\github_projects\\pop_ensemble\\code\\wrapper_functions.py\u001b[0m in \u001b[0;36mprepare_mcmc_CAR\u001b[1;34m(data, adjacency, nchain, models, run_MAP, map_config)\u001b[0m\n\u001b[0;32m   2063\u001b[0m                            dtype = tf.float32)\n\u001b[0;32m   2064\u001b[0m   \u001b[1;32mif\u001b[0m \u001b[0mrun_map\u001b[0m\u001b[1;33m:\u001b[0m\u001b[1;33m\u001b[0m\u001b[1;33m\u001b[0m\u001b[0m\n\u001b[1;32m-> 2065\u001b[1;33m     \u001b[0minit_state\u001b[0m \u001b[1;33m=\u001b[0m \u001b[0mrun_map_CAR\u001b[0m\u001b[1;33m(\u001b[0m\u001b[0mtarget_log_prob_fn_CAR\u001b[0m\u001b[1;33m,\u001b[0m \u001b[0minit_state\u001b[0m\u001b[1;33m)\u001b[0m\u001b[1;33m\u001b[0m\u001b[1;33m\u001b[0m\u001b[0m\n\u001b[0m\u001b[0;32m   2066\u001b[0m \u001b[1;33m\u001b[0m\u001b[0m\n\u001b[0;32m   2067\u001b[0m   \u001b[1;32mreturn\u001b[0m \u001b[0minit_state\u001b[0m\u001b[1;33m,\u001b[0m \u001b[0mtarget_log_prob_fn_CAR\u001b[0m\u001b[1;33m\u001b[0m\u001b[1;33m\u001b[0m\u001b[0m\n",
      "\u001b[1;32m~\\Documents\\github_projects\\pop_ensemble\\code\\wrapper_functions.py\u001b[0m in \u001b[0;36mrun_map_CAR\u001b[1;34m(target_log_prob_fn, init_state, learning_rate, num_steps, print_every, seed)\u001b[0m\n\u001b[0;32m   2007\u001b[0m   \u001b[1;32mfor\u001b[0m \u001b[0miter\u001b[0m \u001b[1;32min\u001b[0m \u001b[0mrange\u001b[0m\u001b[1;33m(\u001b[0m\u001b[0mnum_steps\u001b[0m\u001b[1;33m)\u001b[0m\u001b[1;33m:\u001b[0m\u001b[1;33m\u001b[0m\u001b[1;33m\u001b[0m\u001b[0m\n\u001b[0;32m   2008\u001b[0m     \u001b[1;32mif\u001b[0m \u001b[0miter\u001b[0m \u001b[1;33m%\u001b[0m \u001b[0mprint_every\u001b[0m \u001b[1;33m==\u001b[0m \u001b[1;36m0\u001b[0m\u001b[1;33m:\u001b[0m\u001b[1;33m\u001b[0m\u001b[1;33m\u001b[0m\u001b[0m\n\u001b[1;32m-> 2009\u001b[1;33m       \u001b[0mprint\u001b[0m\u001b[1;33m(\u001b[0m\u001b[1;34mf'{loss().numpy()}...'\u001b[0m\u001b[1;33m,\u001b[0m \u001b[0mend\u001b[0m\u001b[1;33m=\u001b[0m\u001b[1;34m''\u001b[0m\u001b[1;33m)\u001b[0m\u001b[1;33m\u001b[0m\u001b[1;33m\u001b[0m\u001b[0m\n\u001b[0m\u001b[0;32m   2010\u001b[0m     \u001b[0m_\u001b[0m \u001b[1;33m=\u001b[0m \u001b[0mopt\u001b[0m\u001b[1;33m.\u001b[0m\u001b[0mminimize\u001b[0m\u001b[1;33m(\u001b[0m\u001b[0mloss\u001b[0m\u001b[1;33m,\u001b[0m \u001b[1;33m[\u001b[0m\u001b[0mphi\u001b[0m\u001b[1;33m]\u001b[0m\u001b[1;33m)\u001b[0m\u001b[1;33m\u001b[0m\u001b[1;33m\u001b[0m\u001b[0m\n\u001b[0;32m   2011\u001b[0m   \u001b[0mprint\u001b[0m\u001b[1;33m(\u001b[0m\u001b[1;34m'Done.'\u001b[0m\u001b[1;33m)\u001b[0m\u001b[1;33m\u001b[0m\u001b[1;33m\u001b[0m\u001b[0m\n",
      "\u001b[1;32m~\\anaconda3\\lib\\site-packages\\tensorflow\\python\\util\\traceback_utils.py\u001b[0m in \u001b[0;36merror_handler\u001b[1;34m(*args, **kwargs)\u001b[0m\n\u001b[0;32m    151\u001b[0m     \u001b[1;32mexcept\u001b[0m \u001b[0mException\u001b[0m \u001b[1;32mas\u001b[0m \u001b[0me\u001b[0m\u001b[1;33m:\u001b[0m\u001b[1;33m\u001b[0m\u001b[1;33m\u001b[0m\u001b[0m\n\u001b[0;32m    152\u001b[0m       \u001b[0mfiltered_tb\u001b[0m \u001b[1;33m=\u001b[0m \u001b[0m_process_traceback_frames\u001b[0m\u001b[1;33m(\u001b[0m\u001b[0me\u001b[0m\u001b[1;33m.\u001b[0m\u001b[0m__traceback__\u001b[0m\u001b[1;33m)\u001b[0m\u001b[1;33m\u001b[0m\u001b[1;33m\u001b[0m\u001b[0m\n\u001b[1;32m--> 153\u001b[1;33m       \u001b[1;32mraise\u001b[0m \u001b[0me\u001b[0m\u001b[1;33m.\u001b[0m\u001b[0mwith_traceback\u001b[0m\u001b[1;33m(\u001b[0m\u001b[0mfiltered_tb\u001b[0m\u001b[1;33m)\u001b[0m \u001b[1;32mfrom\u001b[0m \u001b[1;32mNone\u001b[0m\u001b[1;33m\u001b[0m\u001b[1;33m\u001b[0m\u001b[0m\n\u001b[0m\u001b[0;32m    154\u001b[0m     \u001b[1;32mfinally\u001b[0m\u001b[1;33m:\u001b[0m\u001b[1;33m\u001b[0m\u001b[1;33m\u001b[0m\u001b[0m\n\u001b[0;32m    155\u001b[0m       \u001b[1;32mdel\u001b[0m \u001b[0mfiltered_tb\u001b[0m\u001b[1;33m\u001b[0m\u001b[1;33m\u001b[0m\u001b[0m\n",
      "\u001b[1;32m~\\Documents\\github_projects\\pop_ensemble\\code\\wrapper_functions.py\u001b[0m in \u001b[0;36mtf__loss\u001b[1;34m()\u001b[0m\n\u001b[0;32m     10\u001b[0m                 \u001b[0mdo_return\u001b[0m \u001b[1;33m=\u001b[0m \u001b[1;32mFalse\u001b[0m\u001b[1;33m\u001b[0m\u001b[1;33m\u001b[0m\u001b[0m\n\u001b[0;32m     11\u001b[0m                 \u001b[0mretval_\u001b[0m \u001b[1;33m=\u001b[0m \u001b[0mag__\u001b[0m\u001b[1;33m.\u001b[0m\u001b[0mUndefinedReturnValue\u001b[0m\u001b[1;33m(\u001b[0m\u001b[1;33m)\u001b[0m\u001b[1;33m\u001b[0m\u001b[1;33m\u001b[0m\u001b[0m\n\u001b[1;32m---> 12\u001b[1;33m                 \u001b[0mnll\u001b[0m \u001b[1;33m=\u001b[0m \u001b[1;33m-\u001b[0m\u001b[0mag__\u001b[0m\u001b[1;33m.\u001b[0m\u001b[0mconverted_call\u001b[0m\u001b[1;33m(\u001b[0m\u001b[0mag__\u001b[0m\u001b[1;33m.\u001b[0m\u001b[0mld\u001b[0m\u001b[1;33m(\u001b[0m\u001b[0mtarget_log_prob_fn\u001b[0m\u001b[1;33m)\u001b[0m\u001b[1;33m,\u001b[0m \u001b[1;33m(\u001b[0m\u001b[0mag__\u001b[0m\u001b[1;33m.\u001b[0m\u001b[0mld\u001b[0m\u001b[1;33m(\u001b[0m\u001b[0mphi\u001b[0m\u001b[1;33m)\u001b[0m\u001b[1;33m,\u001b[0m\u001b[1;33m)\u001b[0m\u001b[1;33m,\u001b[0m \u001b[1;32mNone\u001b[0m\u001b[1;33m,\u001b[0m \u001b[0mfscope\u001b[0m\u001b[1;33m)\u001b[0m\u001b[1;33m\u001b[0m\u001b[1;33m\u001b[0m\u001b[0m\n\u001b[0m\u001b[0;32m     13\u001b[0m                 \u001b[1;32mtry\u001b[0m\u001b[1;33m:\u001b[0m\u001b[1;33m\u001b[0m\u001b[1;33m\u001b[0m\u001b[0m\n\u001b[0;32m     14\u001b[0m                     \u001b[0mdo_return\u001b[0m \u001b[1;33m=\u001b[0m \u001b[1;32mTrue\u001b[0m\u001b[1;33m\u001b[0m\u001b[1;33m\u001b[0m\u001b[0m\n",
      "\u001b[1;32m~\\Documents\\github_projects\\pop_ensemble\\code\\wrapper_functions.py\u001b[0m in \u001b[0;36mtf__target_log_prob_fn_CAR\u001b[1;34m(phi)\u001b[0m\n\u001b[0;32m     35\u001b[0m                 \u001b[0mtmp\u001b[0m \u001b[1;33m=\u001b[0m \u001b[0mag__\u001b[0m\u001b[1;33m.\u001b[0m\u001b[0mld\u001b[0m\u001b[1;33m(\u001b[0m\u001b[0mdata\u001b[0m\u001b[1;33m)\u001b[0m\u001b[1;33m[\u001b[0m\u001b[0mag__\u001b[0m\u001b[1;33m.\u001b[0m\u001b[0mld\u001b[0m\u001b[1;33m(\u001b[0m\u001b[0mmodels\u001b[0m\u001b[1;33m)\u001b[0m\u001b[1;33m]\u001b[0m\u001b[1;33m.\u001b[0m\u001b[0mvalues\u001b[0m \u001b[1;33m*\u001b[0m \u001b[0mag__\u001b[0m\u001b[1;33m.\u001b[0m\u001b[0mld\u001b[0m\u001b[1;33m(\u001b[0m\u001b[0mu\u001b[0m\u001b[1;33m)\u001b[0m\u001b[1;33m\u001b[0m\u001b[1;33m\u001b[0m\u001b[0m\n\u001b[0;32m     36\u001b[0m                 \u001b[0mn\u001b[0m \u001b[1;33m=\u001b[0m \u001b[0mag__\u001b[0m\u001b[1;33m.\u001b[0m\u001b[0mconverted_call\u001b[0m\u001b[1;33m(\u001b[0m\u001b[0mag__\u001b[0m\u001b[1;33m.\u001b[0m\u001b[0mld\u001b[0m\u001b[1;33m(\u001b[0m\u001b[0mtf\u001b[0m\u001b[1;33m)\u001b[0m\u001b[1;33m.\u001b[0m\u001b[0mreduce_sum\u001b[0m\u001b[1;33m,\u001b[0m \u001b[1;33m(\u001b[0m\u001b[0mag__\u001b[0m\u001b[1;33m.\u001b[0m\u001b[0mld\u001b[0m\u001b[1;33m(\u001b[0m\u001b[0mtmp\u001b[0m\u001b[1;33m)\u001b[0m\u001b[1;33m,\u001b[0m\u001b[1;33m)\u001b[0m\u001b[1;33m,\u001b[0m \u001b[0mdict\u001b[0m\u001b[1;33m(\u001b[0m\u001b[0maxis\u001b[0m\u001b[1;33m=\u001b[0m\u001b[1;36m2\u001b[0m\u001b[1;33m)\u001b[0m\u001b[1;33m,\u001b[0m \u001b[0mfscope\u001b[0m\u001b[1;33m)\u001b[0m\u001b[1;33m\u001b[0m\u001b[1;33m\u001b[0m\u001b[0m\n\u001b[1;32m---> 37\u001b[1;33m                 \u001b[0mll\u001b[0m \u001b[1;33m=\u001b[0m \u001b[0mag__\u001b[0m\u001b[1;33m.\u001b[0m\u001b[0mld\u001b[0m\u001b[1;33m(\u001b[0m\u001b[0mll\u001b[0m\u001b[1;33m)\u001b[0m \u001b[1;33m+\u001b[0m \u001b[0mag__\u001b[0m\u001b[1;33m.\u001b[0m\u001b[0mconverted_call\u001b[0m\u001b[1;33m(\u001b[0m\u001b[0mag__\u001b[0m\u001b[1;33m.\u001b[0m\u001b[0mld\u001b[0m\u001b[1;33m(\u001b[0m\u001b[0mtf\u001b[0m\u001b[1;33m)\u001b[0m\u001b[1;33m.\u001b[0m\u001b[0mreduce_sum\u001b[0m\u001b[1;33m,\u001b[0m \u001b[1;33m(\u001b[0m\u001b[1;33m[\u001b[0m\u001b[0mag__\u001b[0m\u001b[1;33m.\u001b[0m\u001b[0mconverted_call\u001b[0m\u001b[1;33m(\u001b[0m\u001b[0mag__\u001b[0m\u001b[1;33m.\u001b[0m\u001b[0mld\u001b[0m\u001b[1;33m(\u001b[0m\u001b[0mnp\u001b[0m\u001b[1;33m)\u001b[0m\u001b[1;33m.\u001b[0m\u001b[0msum\u001b[0m\u001b[1;33m,\u001b[0m \u001b[1;33m(\u001b[0m\u001b[0mag__\u001b[0m\u001b[1;33m.\u001b[0m\u001b[0mld\u001b[0m\u001b[1;33m(\u001b[0m\u001b[0mdata\u001b[0m\u001b[1;33m)\u001b[0m\u001b[1;33m[\u001b[0m\u001b[1;34m'census'\u001b[0m\u001b[1;33m]\u001b[0m \u001b[1;33m*\u001b[0m \u001b[0mag__\u001b[0m\u001b[1;33m.\u001b[0m\u001b[0mconverted_call\u001b[0m\u001b[1;33m(\u001b[0m\u001b[0mag__\u001b[0m\u001b[1;33m.\u001b[0m\u001b[0mld\u001b[0m\u001b[1;33m(\u001b[0m\u001b[0mnp\u001b[0m\u001b[1;33m)\u001b[0m\u001b[1;33m.\u001b[0m\u001b[0mlog\u001b[0m\u001b[1;33m,\u001b[0m \u001b[1;33m(\u001b[0m\u001b[0mag__\u001b[0m\u001b[1;33m.\u001b[0m\u001b[0mld\u001b[0m\u001b[1;33m(\u001b[0m\u001b[0mn\u001b[0m\u001b[1;33m)\u001b[0m\u001b[1;33m[\u001b[0m\u001b[0mag__\u001b[0m\u001b[1;33m.\u001b[0m\u001b[0mld\u001b[0m\u001b[1;33m(\u001b[0m\u001b[0mchain\u001b[0m\u001b[1;33m)\u001b[0m\u001b[1;33m,\u001b[0m \u001b[1;33m:\u001b[0m\u001b[1;33m]\u001b[0m\u001b[1;33m,\u001b[0m\u001b[1;33m)\u001b[0m\u001b[1;33m,\u001b[0m \u001b[1;32mNone\u001b[0m\u001b[1;33m,\u001b[0m \u001b[0mfscope\u001b[0m\u001b[1;33m)\u001b[0m \u001b[1;33m-\u001b[0m \u001b[0mag__\u001b[0m\u001b[1;33m.\u001b[0m\u001b[0mld\u001b[0m\u001b[1;33m(\u001b[0m\u001b[0mn\u001b[0m\u001b[1;33m)\u001b[0m\u001b[1;33m[\u001b[0m\u001b[0mag__\u001b[0m\u001b[1;33m.\u001b[0m\u001b[0mld\u001b[0m\u001b[1;33m(\u001b[0m\u001b[0mchain\u001b[0m\u001b[1;33m)\u001b[0m\u001b[1;33m,\u001b[0m \u001b[1;33m:\u001b[0m\u001b[1;33m]\u001b[0m\u001b[1;33m,\u001b[0m\u001b[1;33m)\u001b[0m\u001b[1;33m,\u001b[0m \u001b[1;32mNone\u001b[0m\u001b[1;33m,\u001b[0m \u001b[0mfscope\u001b[0m\u001b[1;33m)\u001b[0m \u001b[1;32mfor\u001b[0m \u001b[0mchain\u001b[0m \u001b[1;32min\u001b[0m \u001b[0mag__\u001b[0m\u001b[1;33m.\u001b[0m\u001b[0mconverted_call\u001b[0m\u001b[1;33m(\u001b[0m\u001b[0mag__\u001b[0m\u001b[1;33m.\u001b[0m\u001b[0mld\u001b[0m\u001b[1;33m(\u001b[0m\u001b[0mrange\u001b[0m\u001b[1;33m)\u001b[0m\u001b[1;33m,\u001b[0m \u001b[1;33m(\u001b[0m\u001b[0mag__\u001b[0m\u001b[1;33m.\u001b[0m\u001b[0mld\u001b[0m\u001b[1;33m(\u001b[0m\u001b[0mphi\u001b[0m\u001b[1;33m)\u001b[0m\u001b[1;33m.\u001b[0m\u001b[0mshape\u001b[0m\u001b[1;33m[\u001b[0m\u001b[1;36m0\u001b[0m\u001b[1;33m]\u001b[0m\u001b[1;33m,\u001b[0m\u001b[1;33m)\u001b[0m\u001b[1;33m,\u001b[0m \u001b[1;32mNone\u001b[0m\u001b[1;33m,\u001b[0m \u001b[0mfscope\u001b[0m\u001b[1;33m)\u001b[0m\u001b[1;33m]\u001b[0m\u001b[1;33m,\u001b[0m\u001b[1;33m)\u001b[0m\u001b[1;33m,\u001b[0m \u001b[1;32mNone\u001b[0m\u001b[1;33m,\u001b[0m \u001b[0mfscope\u001b[0m\u001b[1;33m)\u001b[0m\u001b[1;33m\u001b[0m\u001b[1;33m\u001b[0m\u001b[0m\n\u001b[0m\u001b[0;32m     38\u001b[0m                 \u001b[1;32mtry\u001b[0m\u001b[1;33m:\u001b[0m\u001b[1;33m\u001b[0m\u001b[1;33m\u001b[0m\u001b[0m\n\u001b[0;32m     39\u001b[0m                     \u001b[0mdo_return\u001b[0m \u001b[1;33m=\u001b[0m \u001b[1;32mTrue\u001b[0m\u001b[1;33m\u001b[0m\u001b[1;33m\u001b[0m\u001b[0m\n",
      "\u001b[1;32m~\\Documents\\github_projects\\pop_ensemble\\code\\wrapper_functions.py\u001b[0m in \u001b[0;36m<listcomp>\u001b[1;34m(.0)\u001b[0m\n\u001b[0;32m     35\u001b[0m                 \u001b[0mtmp\u001b[0m \u001b[1;33m=\u001b[0m \u001b[0mag__\u001b[0m\u001b[1;33m.\u001b[0m\u001b[0mld\u001b[0m\u001b[1;33m(\u001b[0m\u001b[0mdata\u001b[0m\u001b[1;33m)\u001b[0m\u001b[1;33m[\u001b[0m\u001b[0mag__\u001b[0m\u001b[1;33m.\u001b[0m\u001b[0mld\u001b[0m\u001b[1;33m(\u001b[0m\u001b[0mmodels\u001b[0m\u001b[1;33m)\u001b[0m\u001b[1;33m]\u001b[0m\u001b[1;33m.\u001b[0m\u001b[0mvalues\u001b[0m \u001b[1;33m*\u001b[0m \u001b[0mag__\u001b[0m\u001b[1;33m.\u001b[0m\u001b[0mld\u001b[0m\u001b[1;33m(\u001b[0m\u001b[0mu\u001b[0m\u001b[1;33m)\u001b[0m\u001b[1;33m\u001b[0m\u001b[1;33m\u001b[0m\u001b[0m\n\u001b[0;32m     36\u001b[0m                 \u001b[0mn\u001b[0m \u001b[1;33m=\u001b[0m \u001b[0mag__\u001b[0m\u001b[1;33m.\u001b[0m\u001b[0mconverted_call\u001b[0m\u001b[1;33m(\u001b[0m\u001b[0mag__\u001b[0m\u001b[1;33m.\u001b[0m\u001b[0mld\u001b[0m\u001b[1;33m(\u001b[0m\u001b[0mtf\u001b[0m\u001b[1;33m)\u001b[0m\u001b[1;33m.\u001b[0m\u001b[0mreduce_sum\u001b[0m\u001b[1;33m,\u001b[0m \u001b[1;33m(\u001b[0m\u001b[0mag__\u001b[0m\u001b[1;33m.\u001b[0m\u001b[0mld\u001b[0m\u001b[1;33m(\u001b[0m\u001b[0mtmp\u001b[0m\u001b[1;33m)\u001b[0m\u001b[1;33m,\u001b[0m\u001b[1;33m)\u001b[0m\u001b[1;33m,\u001b[0m \u001b[0mdict\u001b[0m\u001b[1;33m(\u001b[0m\u001b[0maxis\u001b[0m\u001b[1;33m=\u001b[0m\u001b[1;36m2\u001b[0m\u001b[1;33m)\u001b[0m\u001b[1;33m,\u001b[0m \u001b[0mfscope\u001b[0m\u001b[1;33m)\u001b[0m\u001b[1;33m\u001b[0m\u001b[1;33m\u001b[0m\u001b[0m\n\u001b[1;32m---> 37\u001b[1;33m                 \u001b[0mll\u001b[0m \u001b[1;33m=\u001b[0m \u001b[0mag__\u001b[0m\u001b[1;33m.\u001b[0m\u001b[0mld\u001b[0m\u001b[1;33m(\u001b[0m\u001b[0mll\u001b[0m\u001b[1;33m)\u001b[0m \u001b[1;33m+\u001b[0m \u001b[0mag__\u001b[0m\u001b[1;33m.\u001b[0m\u001b[0mconverted_call\u001b[0m\u001b[1;33m(\u001b[0m\u001b[0mag__\u001b[0m\u001b[1;33m.\u001b[0m\u001b[0mld\u001b[0m\u001b[1;33m(\u001b[0m\u001b[0mtf\u001b[0m\u001b[1;33m)\u001b[0m\u001b[1;33m.\u001b[0m\u001b[0mreduce_sum\u001b[0m\u001b[1;33m,\u001b[0m \u001b[1;33m(\u001b[0m\u001b[1;33m[\u001b[0m\u001b[0mag__\u001b[0m\u001b[1;33m.\u001b[0m\u001b[0mconverted_call\u001b[0m\u001b[1;33m(\u001b[0m\u001b[0mag__\u001b[0m\u001b[1;33m.\u001b[0m\u001b[0mld\u001b[0m\u001b[1;33m(\u001b[0m\u001b[0mnp\u001b[0m\u001b[1;33m)\u001b[0m\u001b[1;33m.\u001b[0m\u001b[0msum\u001b[0m\u001b[1;33m,\u001b[0m \u001b[1;33m(\u001b[0m\u001b[0mag__\u001b[0m\u001b[1;33m.\u001b[0m\u001b[0mld\u001b[0m\u001b[1;33m(\u001b[0m\u001b[0mdata\u001b[0m\u001b[1;33m)\u001b[0m\u001b[1;33m[\u001b[0m\u001b[1;34m'census'\u001b[0m\u001b[1;33m]\u001b[0m \u001b[1;33m*\u001b[0m \u001b[0mag__\u001b[0m\u001b[1;33m.\u001b[0m\u001b[0mconverted_call\u001b[0m\u001b[1;33m(\u001b[0m\u001b[0mag__\u001b[0m\u001b[1;33m.\u001b[0m\u001b[0mld\u001b[0m\u001b[1;33m(\u001b[0m\u001b[0mnp\u001b[0m\u001b[1;33m)\u001b[0m\u001b[1;33m.\u001b[0m\u001b[0mlog\u001b[0m\u001b[1;33m,\u001b[0m \u001b[1;33m(\u001b[0m\u001b[0mag__\u001b[0m\u001b[1;33m.\u001b[0m\u001b[0mld\u001b[0m\u001b[1;33m(\u001b[0m\u001b[0mn\u001b[0m\u001b[1;33m)\u001b[0m\u001b[1;33m[\u001b[0m\u001b[0mag__\u001b[0m\u001b[1;33m.\u001b[0m\u001b[0mld\u001b[0m\u001b[1;33m(\u001b[0m\u001b[0mchain\u001b[0m\u001b[1;33m)\u001b[0m\u001b[1;33m,\u001b[0m \u001b[1;33m:\u001b[0m\u001b[1;33m]\u001b[0m\u001b[1;33m,\u001b[0m\u001b[1;33m)\u001b[0m\u001b[1;33m,\u001b[0m \u001b[1;32mNone\u001b[0m\u001b[1;33m,\u001b[0m \u001b[0mfscope\u001b[0m\u001b[1;33m)\u001b[0m \u001b[1;33m-\u001b[0m \u001b[0mag__\u001b[0m\u001b[1;33m.\u001b[0m\u001b[0mld\u001b[0m\u001b[1;33m(\u001b[0m\u001b[0mn\u001b[0m\u001b[1;33m)\u001b[0m\u001b[1;33m[\u001b[0m\u001b[0mag__\u001b[0m\u001b[1;33m.\u001b[0m\u001b[0mld\u001b[0m\u001b[1;33m(\u001b[0m\u001b[0mchain\u001b[0m\u001b[1;33m)\u001b[0m\u001b[1;33m,\u001b[0m \u001b[1;33m:\u001b[0m\u001b[1;33m]\u001b[0m\u001b[1;33m,\u001b[0m\u001b[1;33m)\u001b[0m\u001b[1;33m,\u001b[0m \u001b[1;32mNone\u001b[0m\u001b[1;33m,\u001b[0m \u001b[0mfscope\u001b[0m\u001b[1;33m)\u001b[0m \u001b[1;32mfor\u001b[0m \u001b[0mchain\u001b[0m \u001b[1;32min\u001b[0m \u001b[0mag__\u001b[0m\u001b[1;33m.\u001b[0m\u001b[0mconverted_call\u001b[0m\u001b[1;33m(\u001b[0m\u001b[0mag__\u001b[0m\u001b[1;33m.\u001b[0m\u001b[0mld\u001b[0m\u001b[1;33m(\u001b[0m\u001b[0mrange\u001b[0m\u001b[1;33m)\u001b[0m\u001b[1;33m,\u001b[0m \u001b[1;33m(\u001b[0m\u001b[0mag__\u001b[0m\u001b[1;33m.\u001b[0m\u001b[0mld\u001b[0m\u001b[1;33m(\u001b[0m\u001b[0mphi\u001b[0m\u001b[1;33m)\u001b[0m\u001b[1;33m.\u001b[0m\u001b[0mshape\u001b[0m\u001b[1;33m[\u001b[0m\u001b[1;36m0\u001b[0m\u001b[1;33m]\u001b[0m\u001b[1;33m,\u001b[0m\u001b[1;33m)\u001b[0m\u001b[1;33m,\u001b[0m \u001b[1;32mNone\u001b[0m\u001b[1;33m,\u001b[0m \u001b[0mfscope\u001b[0m\u001b[1;33m)\u001b[0m\u001b[1;33m]\u001b[0m\u001b[1;33m,\u001b[0m\u001b[1;33m)\u001b[0m\u001b[1;33m,\u001b[0m \u001b[1;32mNone\u001b[0m\u001b[1;33m,\u001b[0m \u001b[0mfscope\u001b[0m\u001b[1;33m)\u001b[0m\u001b[1;33m\u001b[0m\u001b[1;33m\u001b[0m\u001b[0m\n\u001b[0m\u001b[0;32m     38\u001b[0m                 \u001b[1;32mtry\u001b[0m\u001b[1;33m:\u001b[0m\u001b[1;33m\u001b[0m\u001b[1;33m\u001b[0m\u001b[0m\n\u001b[0;32m     39\u001b[0m                     \u001b[0mdo_return\u001b[0m \u001b[1;33m=\u001b[0m \u001b[1;32mTrue\u001b[0m\u001b[1;33m\u001b[0m\u001b[1;33m\u001b[0m\u001b[0m\n",
      "\u001b[1;31mNotImplementedError\u001b[0m: in user code:\n\n    File \"C:\\Users\\Admin-Dell\\Documents\\github_projects\\pop_ensemble\\code\\wrapper_functions.py\", line 2001, in loss  *\n        nll = -target_log_prob_fn(phi)\n    File \"C:\\Users\\Admin-Dell\\Documents\\github_projects\\pop_ensemble\\code\\wrapper_functions.py\", line 2058, in target_log_prob_fn_CAR  *\n        ll = ll + tf.reduce_sum([np.sum(data['census']*np.log(n[chain,:]) - n[chain,:]) for chain in range(phi.shape[0])])\n\n    NotImplementedError: Cannot convert a symbolic tf.Tensor (strided_slice_5:0) to a numpy array. This error may indicate that you're trying to pass a Tensor to a NumPy call, which is not supported.\n"
     ]
    }
   ],
   "source": [
    "t0 = time.perf_counter()\n",
    "CAR_samples5, chain_samples5, sampler_stat5 = run_mcmc_CAR(data = data_NY,\n",
    "                                                        adjacency = adj_NY,\n",
    "                                                        models = models,\n",
    "                                                        debug_mode = True,\n",
    "                                                        **mcmc_config)  \n",
    "print(time.perf_counter() - t0)"
   ]
  },
  {
   "cell_type": "code",
   "execution_count": 14,
   "metadata": {},
   "outputs": [
    {
     "name": "stdout",
     "output_type": "stream",
     "text": [
      "5.0249867\n"
     ]
    },
    {
     "data": {
      "text/plain": [
       "<tf.Tensor: shape=(62, 3), dtype=float32, numpy=\n",
       "array([[ 3.1139355,  2.990702 ,  6.719871 ],\n",
       "       [ 3.6502035,  3.0585093,  2.8912413],\n",
       "       [ 2.9860353,  6.3388014,  2.3612192],\n",
       "       [10.034446 ,  2.2131934,  2.0258803],\n",
       "       [ 2.152844 ,  2.3796098,  3.497998 ],\n",
       "       [ 3.9946604,  4.895562 ,  6.627333 ],\n",
       "       [ 2.2121418,  2.2263203,  2.3669565],\n",
       "       [15.473498 , 13.529883 ,  3.0239065],\n",
       "       [ 9.23467  ,  5.3665924,  2.182166 ],\n",
       "       [ 2.8611488,  4.023483 ,  2.1916919],\n",
       "       [ 7.127136 ,  2.430232 ,  3.203261 ],\n",
       "       [ 3.2640886,  9.282577 ,  2.647546 ],\n",
       "       [ 2.5643609,  7.707972 ,  8.082012 ],\n",
       "       [ 2.5549874,  2.463151 ,  2.747322 ],\n",
       "       [ 4.9483123, 10.384684 , 10.655391 ],\n",
       "       [ 9.507161 ,  3.8494098,  2.80026  ],\n",
       "       [ 7.121102 ,  7.554476 ,  6.730869 ],\n",
       "       [ 2.0998962,  2.346736 ,  2.3504128],\n",
       "       [ 4.1875224,  6.845904 ,  3.3153322],\n",
       "       [ 2.6538174,  6.1125975,  4.1511025],\n",
       "       [ 5.0331955, 14.463224 ,  3.2406754],\n",
       "       [21.125204 ,  3.7628486,  4.989853 ],\n",
       "       [ 8.059076 ,  9.302512 ,  3.0142777],\n",
       "       [ 2.5086968,  6.2267666,  3.4360332],\n",
       "       [ 2.1090415,  2.4127707,  5.8726625],\n",
       "       [ 2.1838353,  2.9394848,  2.1667595],\n",
       "       [ 6.839576 , 13.256368 ,  2.3426244],\n",
       "       [ 3.616486 ,  5.9716606,  5.30286  ],\n",
       "       [14.975741 ,  2.3763287,  3.1062412],\n",
       "       [ 2.153016 ,  2.3303516,  2.2579024],\n",
       "       [ 6.2928267,  2.3050237,  9.850143 ],\n",
       "       [ 2.2573705,  5.912175 ,  2.1467638],\n",
       "       [ 5.592835 ,  4.779663 ,  3.1608145],\n",
       "       [ 2.060337 ,  2.2976005,  4.2333946],\n",
       "       [ 2.773832 ,  2.8569853,  2.2715905],\n",
       "       [ 3.310112 ,  6.267089 ,  4.726971 ],\n",
       "       [ 2.4844742,  6.489251 ,  5.725845 ],\n",
       "       [ 9.223702 , 11.174751 ,  2.6486032],\n",
       "       [11.665233 , 10.229251 ,  2.2855997],\n",
       "       [ 3.4522572,  8.797176 ,  4.422873 ],\n",
       "       [ 5.7599974,  5.1740217,  3.0654771],\n",
       "       [ 2.6950817,  7.66253  ,  5.0217366],\n",
       "       [ 3.3607311,  2.047113 ,  3.2070236],\n",
       "       [ 4.849973 ,  6.3958926,  3.074264 ],\n",
       "       [ 2.1843638,  3.367955 ,  2.406687 ],\n",
       "       [ 2.536333 ,  5.1938195,  4.495074 ],\n",
       "       [11.43433  ,  3.325647 ,  8.033026 ],\n",
       "       [ 3.2074564,  7.3057985,  8.251818 ],\n",
       "       [10.437944 ,  7.8053985,  7.9109335],\n",
       "       [ 4.5340557,  2.8562593,  6.0744534],\n",
       "       [ 2.2551222,  3.7924206, 23.393257 ],\n",
       "       [ 3.467544 ,  2.563866 ,  2.061193 ],\n",
       "       [ 5.8970613,  4.039842 ,  7.972661 ],\n",
       "       [ 2.342536 ,  2.7296593,  8.998355 ],\n",
       "       [ 2.1722693,  2.8331206,  5.205188 ],\n",
       "       [ 2.112729 ,  2.3433356, 12.108323 ],\n",
       "       [ 2.1534114,  2.0699944,  2.091046 ],\n",
       "       [ 3.8964937,  4.9146266,  2.5200698],\n",
       "       [ 2.5077076,  2.1034014,  2.0884116],\n",
       "       [ 6.6907516,  2.998949 ,  9.341702 ],\n",
       "       [ 2.6447747,  3.9959433,  6.1140785],\n",
       "       [ 9.52982  ,  9.439863 ,  2.198049 ]], dtype=float32)>"
      ]
     },
     "execution_count": 14,
     "metadata": {},
     "output_type": "execute_result"
    }
   ],
   "source": [
    "print(tfp.mcmc.effective_sample_size(chain_samples5, cross_chain_dims = 1).numpy().mean())\n",
    "tfp.mcmc.effective_sample_size(chain_samples5, cross_chain_dims = 1)"
   ]
  },
  {
   "cell_type": "code",
   "execution_count": 9,
   "metadata": {},
   "outputs": [
    {
     "data": {
      "text/plain": [
       "{'step_size': 0.1,\n",
       " 'num_steps': 1100,\n",
       " 'burnin': 0,\n",
       " 'nchain': 2,\n",
       " 'seed': 0,\n",
       " 'kernel_type': 'hmc',\n",
       " 'step_adaptor_type': 'simple'}"
      ]
     },
     "execution_count": 9,
     "metadata": {},
     "output_type": "execute_result"
    }
   ],
   "source": [
    "\n",
    "mcmc_config.update(dict(burnin = 0, num_steps = 1100, nchain = 2, kernel_type = 'hmc', step_adaptor_type = 'simple'))\n",
    "mcmc_config"
   ]
  },
  {
   "cell_type": "code",
   "execution_count": 10,
   "metadata": {},
   "outputs": [
    {
     "name": "stdout",
     "output_type": "stream",
     "text": [
      "fixing tau2 and rho\n",
      "kernel type is hmc\n",
      "simple step size\n",
      "1100\n",
      "<function run_chain_CAR.<locals>.trace_fn at 0x000002287A985E50>\n",
      "no cache clearing\n",
      "Acceptance Ratio: 0.34286341071128845\n",
      "52.61782019999998\n"
     ]
    }
   ],
   "source": [
    "t0 = time.perf_counter()\n",
    "CAR_samples1, chain_samples1, sampler_stat1 = run_mcmc_CAR(data = data_NY,\n",
    "                                                        adjacency = adj_NY,\n",
    "                                                        models = models,\n",
    "                                                        debug_mode = True,\n",
    "                                                        **mcmc_config)  \n",
    "print(time.perf_counter() - t0)"
   ]
  },
  {
   "cell_type": "code",
   "execution_count": 11,
   "metadata": {},
   "outputs": [
    {
     "data": {
      "text/plain": [
       "(<tf.Tensor: shape=(1100,), dtype=float32, numpy=\n",
       " array([0.1       , 0.0990099 , 0.09802961, ..., 0.0199498 , 0.0199498 ,\n",
       "        0.0199498 ], dtype=float32)>,\n",
       " <tf.Tensor: shape=(1100,), dtype=float32, numpy=\n",
       " array([-6.3840424e+01, -3.1454773e+01, -3.2388046e+01, ...,\n",
       "        -4.6310425e-02, -6.3879868e+01, -6.3866180e+01], dtype=float32)>)"
      ]
     },
     "execution_count": 11,
     "metadata": {},
     "output_type": "execute_result"
    }
   ],
   "source": [
    "sampler_stat1"
   ]
  },
  {
   "cell_type": "code",
   "execution_count": 19,
   "metadata": {},
   "outputs": [
    {
     "data": {
      "text/plain": [
       "[<matplotlib.lines.Line2D at 0x2287cba3d90>]"
      ]
     },
     "execution_count": 19,
     "metadata": {},
     "output_type": "execute_result"
    },
    {
     "data": {
      "image/png": "[encoded data removed]",
      "text/plain": [
       "<Figure size 640x480 with 1 Axes>"
      ]
     },
     "metadata": {},
     "output_type": "display_data"
    }
   ],
   "source": [
    "plt.plot(range(1100), sampler_stat1[0].numpy())"
   ]
  },
  {
   "cell_type": "code",
   "execution_count": 20,
   "metadata": {},
   "outputs": [
    {
     "data": {
      "text/plain": [
       "[<matplotlib.lines.Line2D at 0x2287cfb2730>]"
      ]
     },
     "execution_count": 20,
     "metadata": {},
     "output_type": "execute_result"
    },
    {
     "data": {
      "image/png": "[encoded data removed]",
      "text/plain": [
       "<Figure size 640x480 with 1 Axes>"
      ]
     },
     "metadata": {},
     "output_type": "display_data"
    }
   ],
   "source": [
    "plt.plot(range(1100), sampler_stat1[1].numpy())"
   ]
  },
  {
   "cell_type": "code",
   "execution_count": null,
   "metadata": {},
   "outputs": [],
   "source": [
    "mcmc_config.update(dict(burnin = 2500, num_steps = 1000, nchain = 2, kernel_type = 'hmc'))\n",
    "mcmc_config"
   ]
  },
  {
   "cell_type": "code",
   "execution_count": null,
   "metadata": {},
   "outputs": [],
   "source": [
    "t0 = time.perf_counter()\n",
    "CAR_samples2, chain_samples2, sampler_stat2 = run_mcmc_CAR(data = data_NY,\n",
    "                                                        adjacency = adj_NY,\n",
    "                                                        models = models,\n",
    "                                                        debug_mode = True,\n",
    "                                                        **mcmc_config)  \n",
    "print(time.perf_counter() - t0)"
   ]
  },
  {
   "cell_type": "code",
   "execution_count": null,
   "metadata": {},
   "outputs": [],
   "source": [
    "mcmc_config.update(dict(burnin = 250, num_steps = 1000, nchain = 2, kernel_type = 'hmc', step_adaptor_type = 'dual_averaging'))\n",
    "mcmc_config"
   ]
  },
  {
   "cell_type": "code",
   "execution_count": null,
   "metadata": {},
   "outputs": [],
   "source": [
    "t0 = time.perf_counter()\n",
    "CAR_samples3, chain_samples3, sampler_stat3 = run_mcmc_CAR(data = data_NY,\n",
    "                                                        adjacency = adj_NY,\n",
    "                                                        models = models,\n",
    "                                                        debug_mode = True,\n",
    "                                                        **mcmc_config)  \n",
    "print(time.perf_counter() - t0)"
   ]
  },
  {
   "cell_type": "code",
   "execution_count": null,
   "metadata": {},
   "outputs": [],
   "source": [
    "mcmc_config.update(dict(burnin = 2500, num_steps = 1000, nchain = 2, kernel_type = 'hmc', step_adaptor_type = 'dual_averaging'))\n",
    "mcmc_config"
   ]
  },
  {
   "cell_type": "code",
   "execution_count": null,
   "metadata": {},
   "outputs": [],
   "source": [
    "t0 = time.perf_counter()\n",
    "CAR_samples4, chain_samples4, sampler_stat4 = run_mcmc_CAR(data = data_NY,\n",
    "                                                        adjacency = adj_NY,\n",
    "                                                        models = models,\n",
    "                                                        debug_mode = True,\n",
    "                                                        **mcmc_config)  \n",
    "print(time.perf_counter() - t0)"
   ]
  },
  {
   "cell_type": "code",
   "execution_count": null,
   "metadata": {},
   "outputs": [],
   "source": [
    "print(sampler_stat1[0].numpy().mean())\n",
    "print(sampler_stat2[0].numpy().mean())\n",
    "print(sampler_stat3[0].numpy().mean())\n",
    "print(sampler_stat4[0].numpy().mean())"
   ]
  },
  {
   "cell_type": "code",
   "execution_count": null,
   "metadata": {},
   "outputs": [],
   "source": [
    "chain_samples3[:,0,1,1]"
   ]
  },
  {
   "cell_type": "code",
   "execution_count": null,
   "metadata": {},
   "outputs": [],
   "source": []
  },
  {
   "cell_type": "code",
   "execution_count": null,
   "metadata": {},
   "outputs": [],
   "source": []
  },
  {
   "cell_type": "code",
   "execution_count": null,
   "metadata": {},
   "outputs": [],
   "source": [
    "t0 = time.perf_counter()\n",
    "CAR_samples, chain_samples, sampler_stat = run_mcmc_CAR(data = training2010,\n",
    "                                                        adjacency = county_adj,\n",
    "                                                        models = models,\n",
    "                                                        debug_mode = True,\n",
    "                                                        **mcmc_config)  \n",
    "print(time.perf_counter() - t0)"
   ]
  },
  {
   "cell_type": "markdown",
   "metadata": {},
   "source": [
    "Saving and loading Python objects with Pickle"
   ]
  },
  {
   "cell_type": "code",
   "execution_count": null,
   "metadata": {},
   "outputs": [],
   "source": [
    "print(tfp.mcmc.effective_sample_size(chain_samples, cross_chain_dims = 1).numpy().mean())\n",
    "print(tfp.mcmc.potential_scale_reduction(chain_samples, independent_chain_ndims=1).numpy().mean())"
   ]
  },
  {
   "cell_type": "code",
   "execution_count": null,
   "metadata": {},
   "outputs": [],
   "source": [
    "import pickle\n",
    "\n",
    "# using local data file because these are too big for github\n",
    "local_dir = 'C:/Users/Admin-Dell/Dropbox/Nick_Cranston/HSPH/Research/Nethery Project/Data/'\n",
    "with open(local_dir + 'CAR_samples_fullUS_n10000_hmc_Jan132023.pickle', 'wb') as results_file:\n",
    "  pickle.dump([CAR_samples, chain_samples, sampler_stat], results_file)"
   ]
  },
  {
   "cell_type": "markdown",
   "metadata": {},
   "source": [
    "#### Running with NUTS"
   ]
  },
  {
   "cell_type": "code",
   "execution_count": null,
   "metadata": {},
   "outputs": [],
   "source": [
    "mcmc_config.update(dict(kernel_type = 'nuts'))\n",
    "mcmc_config"
   ]
  },
  {
   "cell_type": "code",
   "execution_count": null,
   "metadata": {},
   "outputs": [],
   "source": [
    "t0 = time.perf_counter()\n",
    "CAR_samples2, chain_samples2, sampler_stat2 = run_mcmc_CAR(data = training2010,\n",
    "                                                        adjacency = county_adj,\n",
    "                                                        models = models,\n",
    "                                                        debug_mode = True,\n",
    "                                                        **mcmc_config)  \n",
    "print(time.perf_counter() - t0)"
   ]
  },
  {
   "cell_type": "code",
   "execution_count": null,
   "metadata": {},
   "outputs": [],
   "source": [
    "# using local data file because these are too big for github\n",
    "local_dir = 'C:/Users/Admin-Dell/Dropbox/Nick_Cranston/HSPH/Research/Nethery Project/Data/'\n",
    "with open(local_dir + 'CAR_samples_fullUS_n10000_nuts_Jan132023.pickle', 'wb') as results_file:\n",
    "  pickle.dump([CAR_samples2, chain_samples2, sampler_stat2], results_file)"
   ]
  },
  {
   "cell_type": "markdown",
   "metadata": {},
   "source": [
    "### Loading results and analyzing"
   ]
  },
  {
   "cell_type": "code",
   "execution_count": null,
   "metadata": {},
   "outputs": [],
   "source": [
    "local_dir = 'C:/Users/Admin-Dell/Dropbox/Nick_Cranston/HSPH/Research/Nethery Project/Data/'\n",
    "file = local_dir + 'CAR_samples_fullUS_n10000_nuts_Jan132023.pickle'\n",
    "with open(file, \"rb\") as input_file:\n",
    "     CAR_samples, chain_samples, sampler_stat = pickle.load(input_file)"
   ]
  },
  {
   "cell_type": "code",
   "execution_count": null,
   "metadata": {},
   "outputs": [],
   "source": [
    "chain_samples.shape"
   ]
  },
  {
   "cell_type": "code",
   "execution_count": null,
   "metadata": {},
   "outputs": [],
   "source": [
    "ESS = tfp.mcmc.effective_sample_size(chain_samples, cross_chain_dims = 1)"
   ]
  },
  {
   "cell_type": "code",
   "execution_count": null,
   "metadata": {},
   "outputs": [],
   "source": [
    "ESS.numpy().mean()"
   ]
  },
  {
   "cell_type": "code",
   "execution_count": null,
   "metadata": {},
   "outputs": [],
   "source": [
    "rhat = tfp.mcmc.potential_scale_reduction(chain_samples)"
   ]
  },
  {
   "cell_type": "code",
   "execution_count": null,
   "metadata": {},
   "outputs": [],
   "source": [
    "rhat.numpy().mean()"
   ]
  },
  {
   "cell_type": "code",
   "execution_count": null,
   "metadata": {},
   "outputs": [],
   "source": [
    "local_dir = 'C:/Users/Admin-Dell/Dropbox/Nick_Cranston/HSPH/Research/Nethery Project/Data/'\n",
    "file = local_dir + 'CAR_samples_fullUS_n10000_hmc_Jan132023.pickle'\n",
    "with open(file, \"rb\") as input_file:\n",
    "     CAR_samples2, chain_samples2, sampler_stat2 = pickle.load(input_file)"
   ]
  },
  {
   "cell_type": "code",
   "execution_count": null,
   "metadata": {},
   "outputs": [],
   "source": [
    "ESS_hmc = tfp.mcmc.effective_sample_size(chain_samples2, cross_chain_dims = 1)"
   ]
  },
  {
   "cell_type": "code",
   "execution_count": null,
   "metadata": {},
   "outputs": [],
   "source": [
    "ESS_hmc.numpy().mean()"
   ]
  },
  {
   "cell_type": "code",
   "execution_count": null,
   "metadata": {},
   "outputs": [],
   "source": [
    "rhat_hmc = tfp.mcmc.potential_scale_reduction(chain_samples2)"
   ]
  },
  {
   "cell_type": "code",
   "execution_count": null,
   "metadata": {},
   "outputs": [],
   "source": [
    "rhat_hmc.numpy().mean()"
   ]
  },
  {
   "cell_type": "code",
   "execution_count": null,
   "metadata": {},
   "outputs": [],
   "source": [
    "chain_samples.shape"
   ]
  },
  {
   "cell_type": "code",
   "execution_count": null,
   "metadata": {},
   "outputs": [],
   "source": [
    "chain_pull = chain_samples[:,0,0,0]\n",
    "n, bins, patches = plt.hist(x = chain_pull, bins = 'auto')"
   ]
  },
  {
   "cell_type": "code",
   "execution_count": null,
   "metadata": {},
   "outputs": [],
   "source": [
    "chain_pull = chain_samples[:,1,0,0]\n",
    "n, bins, patches = plt.hist(x = chain_pull, bins = 'auto')"
   ]
  },
  {
   "cell_type": "code",
   "execution_count": null,
   "metadata": {},
   "outputs": [],
   "source": [
    "sampler_stat"
   ]
  },
  {
   "cell_type": "code",
   "execution_count": null,
   "metadata": {},
   "outputs": [],
   "source": [
    "sampler_stat2"
   ]
  },
  {
   "cell_type": "code",
   "execution_count": null,
   "metadata": {},
   "outputs": [],
   "source": [
    "print(tfp.mcmc.effective_sample_size(chain_samples2, cross_chain_dims = 1).numpy().mean())\n",
    "print(tfp.mcmc.potential_scale_reduction(chain_samples2).numpy().mean())"
   ]
  },
  {
   "cell_type": "code",
   "execution_count": null,
   "metadata": {},
   "outputs": [],
   "source": [
    "CAR_ensemble_weights = tf.reduce_mean(CAR_samples[0], axis = 2)\n",
    "\n",
    "weights_dict = {\n",
    "    \"acs\": CAR_ensemble_weights[:,0],\n",
    "    \"pep\": CAR_ensemble_weights[:,1],\n",
    "    \"worldpop\": CAR_ensemble_weights[:,2]\n",
    "}\n",
    "\n",
    "color_weights = make_color_norm(\n",
    "    list(weights_dict.values())[1],   \n",
    "    method=\"percentile\")"
   ]
  },
  {
   "cell_type": "code",
   "execution_count": null,
   "metadata": {},
   "outputs": [],
   "source": [
    "# get exponentiated values and sum across models\n",
    "exp_phi = tf.math.exp(CAR_ensemble_weights)\n",
    "exp_phi_rows = tf.reduce_sum(exp_phi, 1)\n",
    "\n",
    "# get model weights and calculate mean estimate\n",
    "u = exp_phi/exp_phi_rows[...,None]\n"
   ]
  },
  {
   "cell_type": "code",
   "execution_count": null,
   "metadata": {},
   "outputs": [],
   "source": [
    "norm_weights_dict = {\n",
    "    \"acs\": u[:,0],\n",
    "    \"pep\": u[:,1],\n",
    "    \"worldpop\": u[:,2]\n",
    "}\n",
    "\n",
    "color_norm_weights = make_color_norm(\n",
    "    list(norm_weights_dict.values())[1],   \n",
    "    method=\"percentile\")"
   ]
  },
  {
   "cell_type": "code",
   "execution_count": null,
   "metadata": {},
   "outputs": [],
   "source": [
    "import plotly\n",
    "from urllib.request import urlopen\n",
    "import json\n",
    "with urlopen('https://raw.githubusercontent.com/plotly/datasets/master/geojson-counties-fips.json') as response:\n",
    "    counties = json.load(response)\n",
    "\n",
    "import pandas as pd\n",
    "# df = pd.read_csv(\"https://raw.githubusercontent.com/plotly/datasets/master/fips-unemp-16.csv\",\n",
    "#                    dtype={\"fips\": str})\n",
    "import matplotlib.colors as colors\n",
    "\n",
    "import plotly.express as px"
   ]
  },
  {
   "cell_type": "code",
   "execution_count": null,
   "metadata": {
    "scrolled": false
   },
   "outputs": [],
   "source": [
    "for model_name in models:\n",
    "    output = pd.DataFrame(np.column_stack([training2010[[\"GEOID\"]], weights_dict[model_name]]))\n",
    "    output = output.set_axis(['GEOID', model_name], axis=1)\n",
    "    output[model_name] = output[model_name].astype(float)\n",
    "    fig = px.choropleth_mapbox(output, geojson=counties, locations='GEOID', color=model_name,\n",
    "                           color_continuous_scale=\"Viridis\",\n",
    "                           #range_color=(0.05,0.07),\n",
    "                           mapbox_style=\"carto-positron\",\n",
    "                           #featureidkey=\"properties.MWS_ID\",\n",
    "                           zoom=3, center = {\"lat\": 37.0902, \"lon\": -95.7129},\n",
    "                           opacity=0.5,\n",
    "                           labels={'unemp':'unemployment rate'}\n",
    "                          )\n",
    "    fig.update_layout(margin={\"r\":0,\"t\":0,\"l\":0,\"b\":0})\n",
    "    fig.show()"
   ]
  },
  {
   "cell_type": "code",
   "execution_count": null,
   "metadata": {
    "scrolled": false
   },
   "outputs": [],
   "source": [
    "for model_name in models:\n",
    "    output = pd.DataFrame(np.column_stack([training2010[[\"GEOID\"]], norm_weights_dict[model_name]]))\n",
    "    output = output.set_axis(['GEOID', model_name], axis=1)\n",
    "    output[model_name] = output[model_name].astype(float)\n",
    "    fig = px.choropleth_mapbox(output, geojson=counties, locations='GEOID', color=model_name,\n",
    "                           color_continuous_scale=\"Viridis\",\n",
    "                           #range_color=(0.05,0.07),\n",
    "                           mapbox_style=\"carto-positron\",\n",
    "                           #featureidkey=\"properties.MWS_ID\",\n",
    "                           zoom=3, center = {\"lat\": 37.0902, \"lon\": -95.7129},\n",
    "                           opacity=0.5,\n",
    "                           labels={'unemp':'unemployment rate'}\n",
    "                          )\n",
    "    fig.update_layout(margin={\"r\":0,\"t\":0,\"l\":0,\"b\":0})\n",
    "    fig.show()"
   ]
  }
 ],
 "metadata": {
  "@webio": {
   "lastCommId": null,
   "lastKernelId": null
  },
  "accelerator": "GPU",
  "colab": {
   "collapsed_sections": [
    "FyVOAW4EODnT",
    "ebzyBOEoNQ_a",
    "vAgjEq1-dty-"
   ],
   "provenance": []
  },
  "kernelspec": {
   "display_name": "Python 3 (ipykernel)",
   "language": "python",
   "name": "python3"
  },
  "language_info": {
   "codemirror_mode": {
    "name": "ipython",
    "version": 3
   },
   "file_extension": ".py",
   "mimetype": "text/x-python",
   "name": "python",
   "nbconvert_exporter": "python",
   "pygments_lexer": "ipython3",
   "version": "3.9.13"
  }
 },
 "nbformat": 4,
 "nbformat_minor": 1
}
