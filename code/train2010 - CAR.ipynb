{
 "cells": [
  {
   "cell_type": "markdown",
   "metadata": {},
   "source": [
    "### Import Libraries"
   ]
  },
  {
   "cell_type": "code",
   "execution_count": 1,
   "metadata": {},
   "outputs": [
    {
     "name": "stderr",
     "output_type": "stream",
     "text": [
      "C:\\Users\\nickl\\anaconda3\\lib\\site-packages\\gpflow\\experimental\\utils.py:42: UserWarning: You're calling gpflow.experimental.check_shapes.decorator.check_shapes which is considered *experimental*. Expect: breaking changes, poor documentation, and bugs.\n",
      "  warn(\n",
      "C:\\Users\\nickl\\anaconda3\\lib\\site-packages\\gpflow\\experimental\\utils.py:42: UserWarning: You're calling gpflow.experimental.check_shapes.inheritance.inherit_check_shapes which is considered *experimental*. Expect: breaking changes, poor documentation, and bugs.\n",
      "  warn(\n"
     ]
    },
    {
     "name": "stdout",
     "output_type": "stream",
     "text": [
      "TensorFlow version: 2.10.0. Expected: 2.7.0\n",
      "TensorFlow Probability version: 0.18.0. Expected: 0.15.0\n"
     ]
    }
   ],
   "source": [
    "from wrapper_functions_CAR import *\n",
    "tf.config.run_functions_eagerly(True)\n",
    "np.random.seed(10)"
   ]
  },
  {
   "cell_type": "markdown",
   "metadata": {},
   "source": [
    "### Create the fake data\n",
    "\n"
   ]
  },
  {
   "cell_type": "code",
   "execution_count": null,
   "metadata": {},
   "outputs": [],
   "source": [
    "training2010 = pd.read_csv('../data/merged_wp_census_data2_081122.csv')\n",
    "county_adj = pd.read_csv('../data/countyadj2.csv', index_col = 0)\n",
    "models = ['pep', 'worldpop']"
   ]
  },
  {
   "cell_type": "code",
   "execution_count": null,
   "metadata": {},
   "outputs": [],
   "source": [
    "data_NY, adj_NY = subset_data_by_state(training2010, county_adj, 'New York', 'NY')"
   ]
  },
  {
   "cell_type": "markdown",
   "metadata": {
    "id": "U-Nmbq-0wgYy"
   },
   "source": [
    "# Default Configs"
   ]
  },
  {
   "cell_type": "code",
   "execution_count": null,
   "metadata": {
    "colab": {
     "background_save": true
    },
    "id": "fY1Z6ccs2XUP"
   },
   "outputs": [],
   "source": [
    "# MCMC configs.\n",
    "mcmc_step_size=0.1 # @param\n",
    "mcmc_sample_size=500 # @param\n",
    "mcmc_num_steps=10_000 # @param\n",
    "mcmc_burnin=2_500 # @param\n",
    "mcmc_nchain=10 # @param\n",
    "mcmc_seed=0 # @param\n",
    "\n",
    "DEFAULT_MCMC_CONFIG = dict(step_size=mcmc_step_size, \n",
    "                           num_steps=mcmc_sample_size, \n",
    "                           burnin=mcmc_burnin, \n",
    "                           nchain=mcmc_nchain, \n",
    "                           seed=mcmc_seed)"
   ]
  },
  {
   "cell_type": "markdown",
   "metadata": {},
   "source": [
    "#### Running with HMC"
   ]
  },
  {
   "cell_type": "code",
   "execution_count": null,
   "metadata": {},
   "outputs": [],
   "source": [
    "mcmc_config = DEFAULT_MCMC_CONFIG.copy()\n",
    "mcmc_config.update(dict(burnin = 2_500, num_steps = 12_500, nchain = 5, \n",
    "                        kernel_type = 'hmc', step_adaptor_type = 'simple'))\n",
    "mcmc_config"
   ]
  },
  {
   "cell_type": "code",
   "execution_count": null,
   "metadata": {},
   "outputs": [],
   "source": [
    "phi_true, u_true, data = simulate_data(data_NY[:],\n",
    "                                       adj_NY[:], \n",
    "                                       sim_numbers = True,\n",
    "                                       scale_down = 1,\n",
    "                                       poisson_noise = False,\n",
    "                                       pivot = -1, \n",
    "                                       one_model = False, \n",
    "                                       models = models)"
   ]
  },
  {
   "cell_type": "code",
   "execution_count": null,
   "metadata": {},
   "outputs": [],
   "source": [
    "t0 = time.perf_counter()\n",
    "CAR_samples, chain_samples, sampler_stat = run_mcmc_CAR(data = data[:],\n",
    "                                                        adjacency = adj_NY[:],\n",
    "                                                        pivot = -1,\n",
    "                                                        models = models,                                                        \n",
    "                                                        debug_mode = True,\n",
    "                                                        num_adaptation_steps = 2000,\n",
    "                                                        #num_adaptation_steps = 0,\n",
    "                                                        **mcmc_config)  \n",
    "print(time.perf_counter() - t0)"
   ]
  },
  {
   "cell_type": "code",
   "execution_count": null,
   "metadata": {},
   "outputs": [],
   "source": [
    "pivot_fit = -1\n",
    "pivot_DGP = -1\n",
    "res_dict = {'CAR_samples': CAR_samples,\n",
    "            'chain_samples': chain_samples, \n",
    "            'sampler_stat': sampler_stat,\n",
    "            'phi_true': phi_true, \n",
    "            'u_true': u_true, \n",
    "            'data': data, \n",
    "            'adjacency': adj_NY,\n",
    "            'pivot_fit': pivot_fit,\n",
    "            'pivot_DGP': pivot_DGP, \n",
    "            'models': models,\n",
    "            'mcmc_config': mcmc_config}"
   ]
  },
  {
   "cell_type": "markdown",
   "metadata": {},
   "source": [
    "Saving and loading Python objects with Pickle"
   ]
  },
  {
   "cell_type": "code",
   "execution_count": null,
   "metadata": {},
   "outputs": [],
   "source": [
    "import pickle\n",
    "\n",
    "# using local data file because these are too big for github\n",
    "#local_dir = 'C:/Users/nickl/Dropbox/Nick_Cranston/HSPH/Research/Nethery Project/Data/'\n",
    "local_dir = 'C:/Users/Admin-Dell/Dropbox/Nick_Cranston/HSPH/Research/Nethery Project/Data/'\n",
    "with open(local_dir + 'CAR_samples_NY_n10000_realdata_fl64_2models_June282023.pickle', 'wb') as results_file:\n",
    "  # pickle.dump([res_dict, mcmc_config], results_file)\n",
    "  pickle.dump(res_dict, results_file)"
   ]
  },
  {
   "cell_type": "markdown",
   "metadata": {},
   "source": [
    "### Loading results and analyzing"
   ]
  },
  {
   "cell_type": "code",
   "execution_count": 2,
   "metadata": {},
   "outputs": [
    {
     "data": {
      "text/plain": [
       "dict_keys(['CAR_samples', 'chain_samples', 'sampler_stat', 'phi_true', 'u_true', 'data', 'adjacency', 'pivot_fit', 'pivot_DGP', 'models', 'mcmc_config'])"
      ]
     },
     "execution_count": 2,
     "metadata": {},
     "output_type": "execute_result"
    }
   ],
   "source": [
    "#local_dir = 'C:/Users/Admin-Dell/Dropbox/Nick_Cranston/HSPH/Research/Nethery Project/Data/'\n",
    "local_dir = 'C:/Users/nickl/Dropbox/Nick_Cranston/HSPH/Research/Nethery Project/Data/'\n",
    "file = local_dir + 'CAR_samples_NY_n10000_realdata_fl64_2models_June282023.pickle'\n",
    "with open(file, \"rb\") as input_file:\n",
    "     #CAR_samples, chain_samples, sampler_stat, mcmc_config, phi_true, u_true, data_sub = pickle.load(input_file)\n",
    "    res_dict = pickle.load(input_file)\n",
    "res_dict.keys()"
   ]
  },
  {
   "cell_type": "markdown",
   "metadata": {},
   "source": [
    "## Getting the gradient and likelihood values"
   ]
  },
  {
   "cell_type": "code",
   "execution_count": 3,
   "metadata": {},
   "outputs": [
    {
     "name": "stdout",
     "output_type": "stream",
     "text": [
      "fixing tau2 and rho\n",
      "when adding in tau2 and rho, need to update the likelihood function!\n"
     ]
    },
    {
     "data": {
      "text/html": [
       "<div>\n",
       "<style scoped>\n",
       "    .dataframe tbody tr th:only-of-type {\n",
       "        vertical-align: middle;\n",
       "    }\n",
       "\n",
       "    .dataframe tbody tr th {\n",
       "        vertical-align: top;\n",
       "    }\n",
       "\n",
       "    .dataframe thead th {\n",
       "        text-align: right;\n",
       "    }\n",
       "</style>\n",
       "<table border=\"1\" class=\"dataframe\">\n",
       "  <thead>\n",
       "    <tr style=\"text-align: right;\">\n",
       "      <th></th>\n",
       "      <th>iter</th>\n",
       "      <th>logL</th>\n",
       "      <th>mean_abs_grad</th>\n",
       "      <th>step_size</th>\n",
       "      <th>phi_logL</th>\n",
       "      <th>det_logL</th>\n",
       "      <th>Pois_logL</th>\n",
       "    </tr>\n",
       "  </thead>\n",
       "  <tbody>\n",
       "    <tr>\n",
       "      <th>0</th>\n",
       "      <td>1.0</td>\n",
       "      <td>1.215951e+09</td>\n",
       "      <td>0.136807</td>\n",
       "      <td>0.099010</td>\n",
       "      <td>-5.329559</td>\n",
       "      <td>461.630202</td>\n",
       "      <td>1.215950e+09</td>\n",
       "    </tr>\n",
       "    <tr>\n",
       "      <th>1</th>\n",
       "      <td>2.0</td>\n",
       "      <td>1.215951e+09</td>\n",
       "      <td>0.136807</td>\n",
       "      <td>0.098030</td>\n",
       "      <td>-5.329559</td>\n",
       "      <td>461.630202</td>\n",
       "      <td>1.215950e+09</td>\n",
       "    </tr>\n",
       "    <tr>\n",
       "      <th>2</th>\n",
       "      <td>3.0</td>\n",
       "      <td>1.215951e+09</td>\n",
       "      <td>0.136807</td>\n",
       "      <td>0.097059</td>\n",
       "      <td>-5.329559</td>\n",
       "      <td>461.630202</td>\n",
       "      <td>1.215950e+09</td>\n",
       "    </tr>\n",
       "    <tr>\n",
       "      <th>3</th>\n",
       "      <td>4.0</td>\n",
       "      <td>1.215951e+09</td>\n",
       "      <td>0.542124</td>\n",
       "      <td>0.096098</td>\n",
       "      <td>-58.789859</td>\n",
       "      <td>461.630202</td>\n",
       "      <td>1.215950e+09</td>\n",
       "    </tr>\n",
       "    <tr>\n",
       "      <th>4</th>\n",
       "      <td>5.0</td>\n",
       "      <td>1.215951e+09</td>\n",
       "      <td>0.542124</td>\n",
       "      <td>0.097059</td>\n",
       "      <td>-58.789859</td>\n",
       "      <td>461.630202</td>\n",
       "      <td>1.215950e+09</td>\n",
       "    </tr>\n",
       "    <tr>\n",
       "      <th>...</th>\n",
       "      <td>...</td>\n",
       "      <td>...</td>\n",
       "      <td>...</td>\n",
       "      <td>...</td>\n",
       "      <td>...</td>\n",
       "      <td>...</td>\n",
       "      <td>...</td>\n",
       "    </tr>\n",
       "    <tr>\n",
       "      <th>94</th>\n",
       "      <td>95.0</td>\n",
       "      <td>1.215950e+09</td>\n",
       "      <td>1.173794</td>\n",
       "      <td>0.059016</td>\n",
       "      <td>-288.364191</td>\n",
       "      <td>461.630202</td>\n",
       "      <td>1.215950e+09</td>\n",
       "    </tr>\n",
       "    <tr>\n",
       "      <th>95</th>\n",
       "      <td>96.0</td>\n",
       "      <td>1.215950e+09</td>\n",
       "      <td>1.173794</td>\n",
       "      <td>0.058431</td>\n",
       "      <td>-288.364191</td>\n",
       "      <td>461.630202</td>\n",
       "      <td>1.215950e+09</td>\n",
       "    </tr>\n",
       "    <tr>\n",
       "      <th>96</th>\n",
       "      <td>97.0</td>\n",
       "      <td>1.215950e+09</td>\n",
       "      <td>1.173794</td>\n",
       "      <td>0.057853</td>\n",
       "      <td>-288.364191</td>\n",
       "      <td>461.630202</td>\n",
       "      <td>1.215950e+09</td>\n",
       "    </tr>\n",
       "    <tr>\n",
       "      <th>97</th>\n",
       "      <td>98.0</td>\n",
       "      <td>1.215950e+09</td>\n",
       "      <td>1.173794</td>\n",
       "      <td>0.057280</td>\n",
       "      <td>-288.364191</td>\n",
       "      <td>461.630202</td>\n",
       "      <td>1.215950e+09</td>\n",
       "    </tr>\n",
       "    <tr>\n",
       "      <th>98</th>\n",
       "      <td>99.0</td>\n",
       "      <td>1.215950e+09</td>\n",
       "      <td>1.182713</td>\n",
       "      <td>0.056713</td>\n",
       "      <td>-289.020340</td>\n",
       "      <td>461.630202</td>\n",
       "      <td>1.215950e+09</td>\n",
       "    </tr>\n",
       "  </tbody>\n",
       "</table>\n",
       "<p>99 rows × 7 columns</p>\n",
       "</div>"
      ],
      "text/plain": [
       "    iter          logL  mean_abs_grad  step_size    phi_logL    det_logL  \\\n",
       "0    1.0  1.215951e+09       0.136807   0.099010   -5.329559  461.630202   \n",
       "1    2.0  1.215951e+09       0.136807   0.098030   -5.329559  461.630202   \n",
       "2    3.0  1.215951e+09       0.136807   0.097059   -5.329559  461.630202   \n",
       "3    4.0  1.215951e+09       0.542124   0.096098  -58.789859  461.630202   \n",
       "4    5.0  1.215951e+09       0.542124   0.097059  -58.789859  461.630202   \n",
       "..   ...           ...            ...        ...         ...         ...   \n",
       "94  95.0  1.215950e+09       1.173794   0.059016 -288.364191  461.630202   \n",
       "95  96.0  1.215950e+09       1.173794   0.058431 -288.364191  461.630202   \n",
       "96  97.0  1.215950e+09       1.173794   0.057853 -288.364191  461.630202   \n",
       "97  98.0  1.215950e+09       1.173794   0.057280 -288.364191  461.630202   \n",
       "98  99.0  1.215950e+09       1.182713   0.056713 -289.020340  461.630202   \n",
       "\n",
       "       Pois_logL  \n",
       "0   1.215950e+09  \n",
       "1   1.215950e+09  \n",
       "2   1.215950e+09  \n",
       "3   1.215950e+09  \n",
       "4   1.215950e+09  \n",
       "..           ...  \n",
       "94  1.215950e+09  \n",
       "95  1.215950e+09  \n",
       "96  1.215950e+09  \n",
       "97  1.215950e+09  \n",
       "98  1.215950e+09  \n",
       "\n",
       "[99 rows x 7 columns]"
      ]
     },
     "execution_count": 3,
     "metadata": {},
     "output_type": "execute_result"
    }
   ],
   "source": [
    "target_log_prob_fn = get_log_prob_from_results(res_dict)\n",
    "res = pull_gradient_wrapper(res_dict['chain_samples'], target_log_prob_fn, skip_val = 1, max_iter =  100, step_sizes = res_dict['sampler_stat'][0].numpy())\n",
    "res"
   ]
  },
  {
   "cell_type": "markdown",
   "metadata": {},
   "source": [
    "## Plotting MCMC diagnostics"
   ]
  },
  {
   "cell_type": "code",
   "execution_count": 4,
   "metadata": {},
   "outputs": [
    {
     "data": {
      "text/plain": [
       "Text(0, 0.5, 'log likelihood')"
      ]
     },
     "execution_count": 4,
     "metadata": {},
     "output_type": "execute_result"
    },
    {
     "data": {
      "image/png": "[encoded data removed]",
      "text/plain": [
       "<Figure size 1080x216 with 3 Axes>"
      ]
     },
     "metadata": {
      "needs_background": "light"
     },
     "output_type": "display_data"
    }
   ],
   "source": [
    "plt.rcParams['figure.figsize'] = [15, 3]\n",
    "\n",
    "plt.subplot(1, 3, 1)\n",
    "plt.plot(res['iter'],res['step_size'])\n",
    "plt.xlabel('MCMC iteration')\n",
    "plt.ylabel('HMC step size')\n",
    "\n",
    "plt.subplot(1, 3, 2)\n",
    "plt.plot(res['iter'],res['mean_abs_grad'])\n",
    "plt.xlabel('MCMC iteration')\n",
    "plt.ylabel('average absolute gradient')\n",
    "\n",
    "plt.subplot(1, 3, 3)\n",
    "plt.plot(res['iter'],res['logL'])\n",
    "plt.xlabel('MCMC iteration')\n",
    "plt.ylabel('log likelihood')"
   ]
  },
  {
   "cell_type": "code",
   "execution_count": 10,
   "metadata": {},
   "outputs": [
    {
     "data": {
      "text/plain": [
       "Text(0, 0.5, 'pois')"
      ]
     },
     "execution_count": 10,
     "metadata": {},
     "output_type": "execute_result"
    },
    {
     "data": {
      "image/png": "[encoded data removed]",
      "text/plain": [
       "<Figure size 1080x216 with 3 Axes>"
      ]
     },
     "metadata": {
      "needs_background": "light"
     },
     "output_type": "display_data"
    }
   ],
   "source": [
    "plt.rcParams['figure.figsize'] = [15, 3]\n",
    "\n",
    "plt.subplot(1, 3, 1)\n",
    "plt.plot(res['iter'],res['logL'])\n",
    "plt.xlabel('MCMC iteration')\n",
    "plt.ylabel('log likelihood')\n",
    "\n",
    "plt.subplot(1, 3, 2)\n",
    "plt.plot(res['iter'],res['phi_logL'])\n",
    "plt.xlabel('MCMC iteration')\n",
    "plt.ylabel('phi')\n",
    "\n",
    "plt.subplot(1, 3, 3)\n",
    "plt.plot(res['iter'],res['Pois_logL'])\n",
    "plt.xlabel('MCMC iteration')\n",
    "plt.ylabel('pois')"
   ]
  },
  {
   "cell_type": "markdown",
   "metadata": {},
   "source": [
    "## Getting the rhat and ESS values"
   ]
  },
  {
   "cell_type": "code",
   "execution_count": null,
   "metadata": {},
   "outputs": [],
   "source": [
    "u_samples = phi_to_u(res_dict['chain_samples'])\n",
    "ESS = tfp.mcmc.effective_sample_size(u_samples, cross_chain_dims = 1).numpy()\n",
    "rhat = tfp.mcmc.potential_scale_reduction(res_dict['chain_samples'], independent_chain_ndims=1).numpy()\n",
    "print(np.quantile(ESS, [0.5, 0.025, 0.975]))\n",
    "print(np.quantile(rhat, [0.5, 0.025, 0.975]))"
   ]
  },
  {
   "cell_type": "markdown",
   "metadata": {},
   "source": [
    "## Plotting the density of ensemble weights"
   ]
  },
  {
   "cell_type": "code",
   "execution_count": null,
   "metadata": {},
   "outputs": [],
   "source": [
    "import seaborn as sns\n",
    "#plt.rcParams['figure.figsize'] = [20, 10]\n",
    "plt.rcParams['figure.figsize'] = [15, 3]\n",
    "fig = plt.figure()\n",
    "\n",
    "## The true u plot\n",
    "plt.subplot(1, 2, 1)\n",
    "\n",
    "CAR_df = pd.DataFrame(res_dict['u_true'][0,:,:], columns = res_dict['models'])\n",
    "sns.set(style=\"darkgrid\")\n",
    "tt = sns.kdeplot(CAR_df['worldpop'], shade=True, color=\"r\", label = 'worldpop')\n",
    "tt = sns.kdeplot(CAR_df[\"pep\"], shade=True, color=\"b\", label = 'pep')\n",
    "plt.ylabel(labels[pivot_DGP + 1])\n",
    "plt.xlabel('')\n",
    "plt.xlim(0,1)\n",
    "plt.title('u true')\n",
    "\n",
    "## The estimated u plot\n",
    "CAR_ensemble_phis = tf.reduce_mean(res_dict['CAR_samples'][0], axis = 2).numpy()\n",
    "u = phi_to_u(CAR_ensemble_phis, pivot = pivot_fit)\n",
    "CAR_df = pd.DataFrame(u, columns = models)\n",
    "\n",
    "plt.subplot(1, 2, 2)\n",
    "sns.set(style=\"darkgrid\")\n",
    "tt = sns.kdeplot(CAR_df['worldpop'], shade=True, color=\"r\", label = 'worldpop')\n",
    "tt = sns.kdeplot(CAR_df[\"pep\"], shade=True, color=\"b\", label = 'pep')\n",
    "#tt = sns.kdeplot(CAR_df[\"worldpop\"], shade=True, color=\"g\", label = 'worldpop')\n",
    "#plt.legend()\n",
    "plt.xlabel('')\n",
    "plt.ylabel('')\n",
    "plt.xlim(0,1)\n",
    "plt.title('estimated u')\n",
    "\n",
    "plt.legend()\n",
    "plt.show()"
   ]
  },
  {
   "cell_type": "markdown",
   "metadata": {},
   "source": [
    "## Plotting scatterplots of the fitted vs true u values and predictions vs true"
   ]
  },
  {
   "cell_type": "code",
   "execution_count": null,
   "metadata": {},
   "outputs": [],
   "source": [
    "#plt.rcParams['figure.figsize'] = [15, 3]\n",
    "fig = plt.figure()\n",
    "\n",
    "phi = res_dict['CAR_samples'][0]\n",
    "\n",
    "predictions = np.empty(shape=(phi.shape[0], \n",
    "                              phi.shape[2]), \n",
    "                       dtype='float64')\n",
    "\n",
    "u = np.empty(shape = phi.shape, dtype = 'float64')\n",
    "for i in range(phi.shape[2]):\n",
    "    u[:,:,i] = phi_to_u(phi[:,:,i], pivot = -1)\n",
    "    predictions[:,i] = tf.reduce_sum(res_dict['data'][res_dict['models']].values*u[:,:,i], axis = 1)\n",
    "   # predictions[:,i] = tf.reduce_sum(data_pivot[models].values*u, axis = 1)\n",
    "\n",
    "y_pred = np.mean(predictions, axis = 1)\n",
    "    \n",
    "\n",
    "## Make the u plot    \n",
    "CAR_df = pd.DataFrame(np.mean(u, axis = 2), columns = res_dict['models'])\n",
    "\n",
    "plt.subplot(1, 2, 1)\n",
    "x = np.ndarray.flatten(res_dict['u_true'][0,:,:].numpy())\n",
    "y = np.ndarray.flatten(CAR_df.values)\n",
    "plt.scatter(x, y)\n",
    "plt.xlabel(\"true u\")\n",
    "plt.ylabel('estimated_u')\n",
    "\n",
    "plt.xlim([min([min(x), min(y)]), max([max(x), max(y)])])\n",
    "plt.ylim([min([min(x), min(y)]), max([max(x), max(y)])])\n",
    "ax = plt.gca()\n",
    "ax.set_aspect('equal', adjustable='box')\n",
    "\n",
    "## obtain m (slope) and b(intercept) of linear regression line\n",
    "m, b = np.polyfit(x, y, 1)\n",
    "## add linear regression line to scatterplot \n",
    "#plt.plot(x, m*x+b, color = 'red')\n",
    "## add y = x lin\n",
    "plt.plot(x, x, color = 'red')\n",
    "\n",
    "## Make the predictions plot\n",
    "plt.subplot(1, 2, 2)\n",
    "\n",
    "x = res_dict['data']['census']\n",
    "y = y_pred\n",
    "#y = y_pred.numpy()\n",
    "plt.scatter(x, y)\n",
    "plt.xlabel(\"true census values\")\n",
    "plt.ylabel(\"predicted census values\")\n",
    "\n",
    "#obtain m (slope) and b(intercept) of linear regression line\n",
    "m, b = np.polyfit(x, y.astype('float64'), 1)\n",
    "\n",
    "plt.xlim([min([min(x), min(y)]), max([max(x), max(y)])])\n",
    "plt.ylim([min([min(x), min(y)]), max([max(x), max(y)])])\n",
    "ax = plt.gca()\n",
    "ax.set_aspect('equal', adjustable='box')\n",
    "ax.set_xscale(\"log\")\n",
    "ax.set_yscale(\"log\")\n",
    "\n",
    "## obtain m (slope) and b(intercept) of linear regression line\n",
    "m, b = np.polyfit(x, y, 1)\n",
    "## add linear regression line to scatterplot \n",
    "#plt.plot(x, m*x+b, color = 'red')\n",
    "## add y = x line\n",
    "plt.plot(x, x, color = 'red')\n",
    "\n",
    "plt.show()"
   ]
  },
  {
   "cell_type": "markdown",
   "metadata": {},
   "source": [
    "## Plotting the chloroploth maps"
   ]
  },
  {
   "cell_type": "code",
   "execution_count": null,
   "metadata": {},
   "outputs": [],
   "source": [
    "# Create the weights dict for plotting the outcomes\n",
    "\n",
    "weights_dict = {\n",
    "    \"acs\": CAR_ensemble_weights[:,0],\n",
    "    \"pep\": CAR_ensemble_weights[:,1],\n",
    "    \"worldpop\": CAR_ensemble_weights[:,2]\n",
    "}\n",
    "\n",
    "color_weights = make_color_norm(\n",
    "    list(weights_dict.values())[1],   \n",
    "    method=\"percentile\")"
   ]
  },
  {
   "cell_type": "code",
   "execution_count": null,
   "metadata": {},
   "outputs": [],
   "source": [
    "norm_weights_dict = {\n",
    "    \"acs\": u[:,0],\n",
    "    \"pep\": u[:,1],\n",
    "    \"worldpop\": u[:,2]\n",
    "}\n",
    "\n",
    "color_norm_weights = make_color_norm(\n",
    "    list(norm_weights_dict.values())[1],   \n",
    "    method=\"percentile\")"
   ]
  },
  {
   "cell_type": "code",
   "execution_count": null,
   "metadata": {},
   "outputs": [],
   "source": [
    "import plotly\n",
    "from urllib.request import urlopen\n",
    "import json\n",
    "with urlopen('https://raw.githubusercontent.com/plotly/datasets/master/geojson-counties-fips.json') as response:\n",
    "    counties = json.load(response)\n",
    "\n",
    "import pandas as pd\n",
    "# df = pd.read_csv(\"https://raw.githubusercontent.com/plotly/datasets/master/fips-unemp-16.csv\",\n",
    "#                    dtype={\"fips\": str})\n",
    "import matplotlib.colors as colors\n",
    "\n",
    "import plotly.express as px"
   ]
  },
  {
   "cell_type": "code",
   "execution_count": null,
   "metadata": {
    "scrolled": false
   },
   "outputs": [],
   "source": [
    "for model_name in models:\n",
    "    output = pd.DataFrame(np.column_stack([data_sub[[\"GEOID\"]], weights_dict[model_name]]))\n",
    "    output = output.set_axis(['GEOID', model_name], axis=1)\n",
    "    output[model_name] = output[model_name].astype(float)\n",
    "    fig = px.choropleth_mapbox(output, geojson=counties, locations='GEOID', color=model_name,\n",
    "                           color_continuous_scale=\"Viridis\",\n",
    "                           #range_color=(0.05,0.07),\n",
    "                           mapbox_style=\"carto-positron\",\n",
    "                           #mapbox_style='white-bg',\n",
    "                           #featureidkey=\"properties.MWS_ID\",\n",
    "                           zoom=3, center = {\"lat\": 37.0902, \"lon\": -95.7129},\n",
    "                           opacity=0.5#,\n",
    "                           #labels={'unemp':'unemployment rate'}\n",
    "                          )\n",
    "    fig.update_layout(margin={\"r\":0,\"t\":0,\"l\":0,\"b\":0})\n",
    "    fig.show()"
   ]
  },
  {
   "cell_type": "code",
   "execution_count": null,
   "metadata": {},
   "outputs": [],
   "source": [
    "# pd.concat([data_NY[[\"GEOID\"]].reset_index(drop=True), pd.DataFrame( phi_true[0].numpy(), columns = models)], axis=1)\n",
    "# pd.DataFrame( phi_true[0].numpy(), columns = models)"
   ]
  },
  {
   "cell_type": "code",
   "execution_count": null,
   "metadata": {},
   "outputs": [],
   "source": [
    "full_phi = pd.concat([data_sub[[\"GEOID\"]].reset_index(drop=True), \n",
    "                         pd.DataFrame(phi_true[0].numpy(), columns = models)], \n",
    "                        axis=1)\n",
    "\n",
    "full_u = pd.concat([data_sub[[\"GEOID\"]].reset_index(drop=True), \n",
    "                         pd.DataFrame(u_true[0].numpy(), columns = models)], \n",
    "                        axis=1)\n",
    "\n",
    "\n",
    "#full_phi[['GEOID', 'acs']], full_u"
   ]
  },
  {
   "cell_type": "code",
   "execution_count": null,
   "metadata": {},
   "outputs": [],
   "source": [
    "for model_name in models:\n",
    "    output = full_phi[['GEOID', model_name]]\n",
    "    fig = px.choropleth_mapbox(output, geojson=counties, locations='GEOID', color=model_name,\n",
    "                           color_continuous_scale=\"Viridis\",\n",
    "                           #range_color=(0.05,0.07),\n",
    "                           mapbox_style=\"carto-positron\",\n",
    "                           #mapbox_style='white-bg',\n",
    "                           #featureidkey=\"properties.MWS_ID\",\n",
    "                           zoom=3, center = {\"lat\": 37.0902, \"lon\": -95.7129},\n",
    "                           opacity=0.5#,\n",
    "                           #labels={'unemp':'unemployment rate'}\n",
    "                          )\n",
    "    fig.update_layout(margin={\"r\":0,\"t\":0,\"l\":0,\"b\":0})\n",
    "    fig.show()"
   ]
  }
 ],
 "metadata": {
  "@webio": {
   "lastCommId": null,
   "lastKernelId": null
  },
  "accelerator": "GPU",
  "colab": {
   "collapsed_sections": [
    "FyVOAW4EODnT",
    "ebzyBOEoNQ_a",
    "vAgjEq1-dty-"
   ],
   "provenance": []
  },
  "kernelspec": {
   "display_name": "Python 3 (ipykernel)",
   "language": "python",
   "name": "python3"
  },
  "language_info": {
   "codemirror_mode": {
    "name": "ipython",
    "version": 3
   },
   "file_extension": ".py",
   "mimetype": "text/x-python",
   "name": "python",
   "nbconvert_exporter": "python",
   "pygments_lexer": "ipython3",
   "version": "3.9.12"
  }
 },
 "nbformat": 4,
 "nbformat_minor": 1
}
