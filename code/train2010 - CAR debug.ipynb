{
 "cells": [
  {
   "cell_type": "markdown",
   "metadata": {},
   "source": [
    "### Import Libraries"
   ]
  },
  {
   "cell_type": "code",
   "execution_count": 1,
   "metadata": {},
   "outputs": [
    {
     "name": "stderr",
     "output_type": "stream",
     "text": [
      "C:\\Users\\nickl\\anaconda3\\lib\\site-packages\\gpflow\\experimental\\utils.py:42: UserWarning: You're calling gpflow.experimental.check_shapes.decorator.check_shapes which is considered *experimental*. Expect: breaking changes, poor documentation, and bugs.\n",
      "  warn(\n",
      "C:\\Users\\nickl\\anaconda3\\lib\\site-packages\\gpflow\\experimental\\utils.py:42: UserWarning: You're calling gpflow.experimental.check_shapes.inheritance.inherit_check_shapes which is considered *experimental*. Expect: breaking changes, poor documentation, and bugs.\n",
      "  warn(\n"
     ]
    },
    {
     "name": "stdout",
     "output_type": "stream",
     "text": [
      "TensorFlow version: 2.10.0. Expected: 2.7.0\n",
      "TensorFlow Probability version: 0.18.0. Expected: 0.15.0\n"
     ]
    }
   ],
   "source": [
    "from wrapper_functions_CAR import *\n",
    "tf.config.run_functions_eagerly(True)\n",
    "np.random.seed(10)"
   ]
  },
  {
   "cell_type": "markdown",
   "metadata": {},
   "source": [
    "### Create the fake data\n",
    "\n"
   ]
  },
  {
   "cell_type": "code",
   "execution_count": 2,
   "metadata": {},
   "outputs": [],
   "source": [
    "training2010 = pd.read_csv('../data/merged_wp_census_data2_081122.csv')\n",
    "county_adj = pd.read_csv('../data/countyadj2.csv', index_col = 0)\n",
    "#models = ['acs', 'pep', 'worldpop']\n",
    "models = ['acs', 'pep']"
   ]
  },
  {
   "cell_type": "code",
   "execution_count": 3,
   "metadata": {},
   "outputs": [],
   "source": [
    "data_NY, adj_NY = subset_data_by_state(training2010, county_adj, 'New York', 'NY')\n",
    "#phi_true, u_true, data = simulate_data(data_NY, adj_NY, pivot = -1, sim_numbers = True, one_model = False, models = models)"
   ]
  },
  {
   "cell_type": "code",
   "execution_count": 4,
   "metadata": {},
   "outputs": [
    {
     "name": "stdout",
     "output_type": "stream",
     "text": [
      "fixing tau2 and rho\n"
     ]
    },
    {
     "ename": "ValueError",
     "evalue": "Length of values (1) does not match length of index (62)",
     "output_type": "error",
     "traceback": [
      "\u001b[1;31m---------------------------------------------------------------------------\u001b[0m",
      "\u001b[1;31mValueError\u001b[0m                                Traceback (most recent call last)",
      "Input \u001b[1;32mIn [4]\u001b[0m, in \u001b[0;36m<cell line: 1>\u001b[1;34m()\u001b[0m\n\u001b[1;32m----> 1\u001b[0m phi_true, u_true, data_pivot \u001b[38;5;241m=\u001b[39m \u001b[43msimulate_data\u001b[49m\u001b[43m(\u001b[49m\u001b[43mdata_NY\u001b[49m\u001b[43m[\u001b[49m\u001b[43m:\u001b[49m\u001b[43m]\u001b[49m\u001b[43m,\u001b[49m\u001b[43m \u001b[49m\n\u001b[0;32m      2\u001b[0m \u001b[43m                                                 \u001b[49m\u001b[43madj_NY\u001b[49m\u001b[43m[\u001b[49m\u001b[43m:\u001b[49m\u001b[43m]\u001b[49m\u001b[43m,\u001b[49m\u001b[43m \u001b[49m\n\u001b[0;32m      3\u001b[0m \u001b[43m                                                 \u001b[49m\u001b[43msim_numbers\u001b[49m\u001b[43m \u001b[49m\u001b[38;5;241;43m=\u001b[39;49m\u001b[43m \u001b[49m\u001b[38;5;28;43;01mFalse\u001b[39;49;00m\u001b[43m,\u001b[49m\n\u001b[0;32m      4\u001b[0m \u001b[43m                                                 \u001b[49m\u001b[43mscale_down\u001b[49m\u001b[43m \u001b[49m\u001b[38;5;241;43m=\u001b[39;49m\u001b[43m \u001b[49m\u001b[38;5;241;43m1\u001b[39;49m\u001b[43m,\u001b[49m\n\u001b[0;32m      5\u001b[0m \u001b[43m                                                 \u001b[49m\u001b[43mpoisson_noise\u001b[49m\u001b[43m \u001b[49m\u001b[38;5;241;43m=\u001b[39;49m\u001b[43m \u001b[49m\u001b[38;5;28;43;01mFalse\u001b[39;49;00m\u001b[43m,\u001b[49m\n\u001b[0;32m      6\u001b[0m \u001b[43m                                                 \u001b[49m\u001b[43mpivot\u001b[49m\u001b[43m \u001b[49m\u001b[38;5;241;43m=\u001b[39;49m\u001b[43m \u001b[49m\u001b[38;5;241;43m-\u001b[39;49m\u001b[38;5;241;43m1\u001b[39;49m\u001b[43m,\u001b[49m\u001b[43m \u001b[49m\n\u001b[0;32m      7\u001b[0m \u001b[43m                                                 \u001b[49m\u001b[43mone_model\u001b[49m\u001b[43m \u001b[49m\u001b[38;5;241;43m=\u001b[39;49m\u001b[43m \u001b[49m\u001b[38;5;28;43;01mFalse\u001b[39;49;00m\u001b[43m,\u001b[49m\u001b[43m \u001b[49m\n\u001b[0;32m      8\u001b[0m \u001b[43m                                                 \u001b[49m\u001b[43mmodels\u001b[49m\u001b[43m \u001b[49m\u001b[38;5;241;43m=\u001b[39;49m\u001b[43m \u001b[49m\u001b[43mmodels\u001b[49m\u001b[43m)\u001b[49m\n",
      "File \u001b[1;32m~\\Documents\\github_projects\\pop_ensemble\\code\\wrapper_functions_CAR.py:184\u001b[0m, in \u001b[0;36msimulate_data\u001b[1;34m(data_OG, adjacency, pivot, sim_numbers, scale_down, poisson_noise, one_model, models)\u001b[0m\n\u001b[0;32m    181\u001b[0m tmp \u001b[38;5;241m=\u001b[39m data[models]\u001b[38;5;241m.\u001b[39mvalues\u001b[38;5;241m*\u001b[39mu_true\n\u001b[0;32m    182\u001b[0m n \u001b[38;5;241m=\u001b[39m tf\u001b[38;5;241m.\u001b[39mreduce_sum(tmp, axis \u001b[38;5;241m=\u001b[39m \u001b[38;5;241m2\u001b[39m)\n\u001b[1;32m--> 184\u001b[0m data[\u001b[38;5;124m'\u001b[39m\u001b[38;5;124mcensus_exp\u001b[39m\u001b[38;5;124m'\u001b[39m] \u001b[38;5;241m=\u001b[39m n\n\u001b[0;32m    186\u001b[0m \u001b[38;5;66;03m#data['census'] = np.random.poisson(n)[0]\u001b[39;00m\n\u001b[0;32m    187\u001b[0m data\u001b[38;5;241m.\u001b[39mloc[:,\u001b[38;5;124m'\u001b[39m\u001b[38;5;124mcensus\u001b[39m\u001b[38;5;124m'\u001b[39m] \u001b[38;5;241m=\u001b[39m np\u001b[38;5;241m.\u001b[39mrandom\u001b[38;5;241m.\u001b[39mpoisson(n)[\u001b[38;5;241m0\u001b[39m]\n",
      "File \u001b[1;32m~\\anaconda3\\lib\\site-packages\\pandas\\core\\frame.py:3655\u001b[0m, in \u001b[0;36mDataFrame.__setitem__\u001b[1;34m(self, key, value)\u001b[0m\n\u001b[0;32m   3652\u001b[0m     \u001b[38;5;28mself\u001b[39m\u001b[38;5;241m.\u001b[39m_setitem_array([key], value)\n\u001b[0;32m   3653\u001b[0m \u001b[38;5;28;01melse\u001b[39;00m:\n\u001b[0;32m   3654\u001b[0m     \u001b[38;5;66;03m# set column\u001b[39;00m\n\u001b[1;32m-> 3655\u001b[0m     \u001b[38;5;28;43mself\u001b[39;49m\u001b[38;5;241;43m.\u001b[39;49m\u001b[43m_set_item\u001b[49m\u001b[43m(\u001b[49m\u001b[43mkey\u001b[49m\u001b[43m,\u001b[49m\u001b[43m \u001b[49m\u001b[43mvalue\u001b[49m\u001b[43m)\u001b[49m\n",
      "File \u001b[1;32m~\\anaconda3\\lib\\site-packages\\pandas\\core\\frame.py:3832\u001b[0m, in \u001b[0;36mDataFrame._set_item\u001b[1;34m(self, key, value)\u001b[0m\n\u001b[0;32m   3822\u001b[0m \u001b[38;5;28;01mdef\u001b[39;00m \u001b[38;5;21m_set_item\u001b[39m(\u001b[38;5;28mself\u001b[39m, key, value) \u001b[38;5;241m-\u001b[39m\u001b[38;5;241m>\u001b[39m \u001b[38;5;28;01mNone\u001b[39;00m:\n\u001b[0;32m   3823\u001b[0m     \u001b[38;5;124;03m\"\"\"\u001b[39;00m\n\u001b[0;32m   3824\u001b[0m \u001b[38;5;124;03m    Add series to DataFrame in specified column.\u001b[39;00m\n\u001b[0;32m   3825\u001b[0m \n\u001b[1;32m   (...)\u001b[0m\n\u001b[0;32m   3830\u001b[0m \u001b[38;5;124;03m    ensure homogeneity.\u001b[39;00m\n\u001b[0;32m   3831\u001b[0m \u001b[38;5;124;03m    \"\"\"\u001b[39;00m\n\u001b[1;32m-> 3832\u001b[0m     value \u001b[38;5;241m=\u001b[39m \u001b[38;5;28;43mself\u001b[39;49m\u001b[38;5;241;43m.\u001b[39;49m\u001b[43m_sanitize_column\u001b[49m\u001b[43m(\u001b[49m\u001b[43mvalue\u001b[49m\u001b[43m)\u001b[49m\n\u001b[0;32m   3834\u001b[0m     \u001b[38;5;28;01mif\u001b[39;00m (\n\u001b[0;32m   3835\u001b[0m         key \u001b[38;5;129;01min\u001b[39;00m \u001b[38;5;28mself\u001b[39m\u001b[38;5;241m.\u001b[39mcolumns\n\u001b[0;32m   3836\u001b[0m         \u001b[38;5;129;01mand\u001b[39;00m value\u001b[38;5;241m.\u001b[39mndim \u001b[38;5;241m==\u001b[39m \u001b[38;5;241m1\u001b[39m\n\u001b[0;32m   3837\u001b[0m         \u001b[38;5;129;01mand\u001b[39;00m \u001b[38;5;129;01mnot\u001b[39;00m is_extension_array_dtype(value)\n\u001b[0;32m   3838\u001b[0m     ):\n\u001b[0;32m   3839\u001b[0m         \u001b[38;5;66;03m# broadcast across multiple columns if necessary\u001b[39;00m\n\u001b[0;32m   3840\u001b[0m         \u001b[38;5;28;01mif\u001b[39;00m \u001b[38;5;129;01mnot\u001b[39;00m \u001b[38;5;28mself\u001b[39m\u001b[38;5;241m.\u001b[39mcolumns\u001b[38;5;241m.\u001b[39mis_unique \u001b[38;5;129;01mor\u001b[39;00m \u001b[38;5;28misinstance\u001b[39m(\u001b[38;5;28mself\u001b[39m\u001b[38;5;241m.\u001b[39mcolumns, MultiIndex):\n",
      "File \u001b[1;32m~\\anaconda3\\lib\\site-packages\\pandas\\core\\frame.py:4535\u001b[0m, in \u001b[0;36mDataFrame._sanitize_column\u001b[1;34m(self, value)\u001b[0m\n\u001b[0;32m   4532\u001b[0m     \u001b[38;5;28;01mreturn\u001b[39;00m _reindex_for_setitem(value, \u001b[38;5;28mself\u001b[39m\u001b[38;5;241m.\u001b[39mindex)\n\u001b[0;32m   4534\u001b[0m \u001b[38;5;28;01mif\u001b[39;00m is_list_like(value):\n\u001b[1;32m-> 4535\u001b[0m     \u001b[43mcom\u001b[49m\u001b[38;5;241;43m.\u001b[39;49m\u001b[43mrequire_length_match\u001b[49m\u001b[43m(\u001b[49m\u001b[43mvalue\u001b[49m\u001b[43m,\u001b[49m\u001b[43m \u001b[49m\u001b[38;5;28;43mself\u001b[39;49m\u001b[38;5;241;43m.\u001b[39;49m\u001b[43mindex\u001b[49m\u001b[43m)\u001b[49m\n\u001b[0;32m   4536\u001b[0m \u001b[38;5;28;01mreturn\u001b[39;00m sanitize_array(value, \u001b[38;5;28mself\u001b[39m\u001b[38;5;241m.\u001b[39mindex, copy\u001b[38;5;241m=\u001b[39m\u001b[38;5;28;01mTrue\u001b[39;00m, allow_2d\u001b[38;5;241m=\u001b[39m\u001b[38;5;28;01mTrue\u001b[39;00m)\n",
      "File \u001b[1;32m~\\anaconda3\\lib\\site-packages\\pandas\\core\\common.py:557\u001b[0m, in \u001b[0;36mrequire_length_match\u001b[1;34m(data, index)\u001b[0m\n\u001b[0;32m    553\u001b[0m \u001b[38;5;124;03m\"\"\"\u001b[39;00m\n\u001b[0;32m    554\u001b[0m \u001b[38;5;124;03mCheck the length of data matches the length of the index.\u001b[39;00m\n\u001b[0;32m    555\u001b[0m \u001b[38;5;124;03m\"\"\"\u001b[39;00m\n\u001b[0;32m    556\u001b[0m \u001b[38;5;28;01mif\u001b[39;00m \u001b[38;5;28mlen\u001b[39m(data) \u001b[38;5;241m!=\u001b[39m \u001b[38;5;28mlen\u001b[39m(index):\n\u001b[1;32m--> 557\u001b[0m     \u001b[38;5;28;01mraise\u001b[39;00m \u001b[38;5;167;01mValueError\u001b[39;00m(\n\u001b[0;32m    558\u001b[0m         \u001b[38;5;124m\"\u001b[39m\u001b[38;5;124mLength of values \u001b[39m\u001b[38;5;124m\"\u001b[39m\n\u001b[0;32m    559\u001b[0m         \u001b[38;5;124mf\u001b[39m\u001b[38;5;124m\"\u001b[39m\u001b[38;5;124m(\u001b[39m\u001b[38;5;132;01m{\u001b[39;00m\u001b[38;5;28mlen\u001b[39m(data)\u001b[38;5;132;01m}\u001b[39;00m\u001b[38;5;124m) \u001b[39m\u001b[38;5;124m\"\u001b[39m\n\u001b[0;32m    560\u001b[0m         \u001b[38;5;124m\"\u001b[39m\u001b[38;5;124mdoes not match length of index \u001b[39m\u001b[38;5;124m\"\u001b[39m\n\u001b[0;32m    561\u001b[0m         \u001b[38;5;124mf\u001b[39m\u001b[38;5;124m\"\u001b[39m\u001b[38;5;124m(\u001b[39m\u001b[38;5;132;01m{\u001b[39;00m\u001b[38;5;28mlen\u001b[39m(index)\u001b[38;5;132;01m}\u001b[39;00m\u001b[38;5;124m)\u001b[39m\u001b[38;5;124m\"\u001b[39m\n\u001b[0;32m    562\u001b[0m     )\n",
      "\u001b[1;31mValueError\u001b[0m: Length of values (1) does not match length of index (62)"
     ]
    }
   ],
   "source": [
    "phi_true, u_true, data_pivot = simulate_data(data_NY[:], \n",
    "                                                 adj_NY[:], \n",
    "                                                 sim_numbers = False,\n",
    "                                                 scale_down = 1,\n",
    "                                                 poisson_noise = False,\n",
    "                                                 pivot = -1, \n",
    "                                                 one_model = False, \n",
    "                                                 models = models)"
   ]
  },
  {
   "cell_type": "code",
   "execution_count": null,
   "metadata": {},
   "outputs": [],
   "source": []
  },
  {
   "cell_type": "markdown",
   "metadata": {
    "id": "U-Nmbq-0wgYy"
   },
   "source": [
    "# Default Configs"
   ]
  },
  {
   "cell_type": "code",
   "execution_count": null,
   "metadata": {
    "colab": {
     "background_save": true
    },
    "id": "fY1Z6ccs2XUP"
   },
   "outputs": [],
   "source": [
    "# MCMC configs.\n",
    "mcmc_step_size=0.1 # @param\n",
    "mcmc_sample_size=500 # @param\n",
    "mcmc_num_steps=10_000 # @param\n",
    "mcmc_burnin=2_500 # @param\n",
    "mcmc_nchain=10 # @param\n",
    "mcmc_seed=0 # @param\n",
    "\n",
    "DEFAULT_MCMC_CONFIG = dict(step_size=mcmc_step_size, \n",
    "                           num_steps=mcmc_sample_size, \n",
    "                           burnin=mcmc_burnin, \n",
    "                           nchain=mcmc_nchain, \n",
    "                           seed=mcmc_seed)"
   ]
  },
  {
   "cell_type": "markdown",
   "metadata": {},
   "source": [
    "#### Running with HMC"
   ]
  },
  {
   "cell_type": "code",
   "execution_count": null,
   "metadata": {},
   "outputs": [],
   "source": [
    "mcmc_config = DEFAULT_MCMC_CONFIG.copy()\n",
    "mcmc_config.update(dict(burnin = 2_500, num_steps = 10_000, nchain = 5, \n",
    "                        kernel_type = 'hmc', step_adaptor_type = 'simple'))\n",
    "mcmc_config"
   ]
  },
  {
   "cell_type": "code",
   "execution_count": 13,
   "metadata": {
    "scrolled": true
   },
   "outputs": [],
   "source": [
    "res_dict = {}\n",
    "for pivot_DGP in range(-1, 2):\n",
    "    print('pivot DGP: ' + str(pivot_DGP))\n",
    "    \n",
    "    phi_true, u_true, data_pivot = simulate_data(data_NY[:], \n",
    "                                                 adj_NY[:], \n",
    "                                                 sim_numbers = False,\n",
    "                                                 scale_down = 1000,\n",
    "                                                 poisson_noise = True,\n",
    "                                                 pivot = pivot_DGP, \n",
    "                                                 one_model = False, \n",
    "                                                 models = models)\n",
    "    \n",
    "    for pivot_fit in range(-1, 2):\n",
    "        print('pivot fit: ' + str(pivot_fit))\n",
    "        t0 = time.perf_counter()\n",
    "        CAR_samples, chain_samples, sampler_stat = run_mcmc_CAR(data = data_pivot[:],\n",
    "                                                                adjacency = adj_NY[:],\n",
    "                                                                pivot = pivot_fit,\n",
    "                                                                models = models,                                                        \n",
    "                                                                debug_mode = True,\n",
    "                                                                **mcmc_config)  \n",
    "        print(time.perf_counter() - t0)\n",
    "        \n",
    "        res_dict['pDGP: ' + str(pivot_DGP) + '; pfit: ' + str(pivot_fit)] = [CAR_samples, chain_samples, sampler_stat, phi_true, u_true, data_pivot, pivot_DGP, pivot_fit, models]\n",
    "        "
   ]
  },
  {
   "cell_type": "markdown",
   "metadata": {},
   "source": [
    "Saving and loading Python objects with Pickle"
   ]
  },
  {
   "cell_type": "code",
   "execution_count": null,
   "metadata": {},
   "outputs": [],
   "source": [
    "data_pivot"
   ]
  },
  {
   "cell_type": "code",
   "execution_count": null,
   "metadata": {},
   "outputs": [],
   "source": [
    "import pickle\n",
    "\n",
    "# using local data file because these are too big for github\n",
    "#local_dir = 'C:/Users/nickl/Dropbox/Nick_Cranston/HSPH/Research/Nethery Project/Data/'\n",
    "local_dir = 'C:/Users/Admin-Dell/Dropbox/Nick_Cranston/HSPH/Research/Nethery Project/Data/'\n",
    "with open(local_dir + 'CAR_samples_NY_n10000_realdata_div1000_2models_May152023.pickle', 'wb') as results_file:\n",
    "  pickle.dump([res_dict, mcmc_config], results_file)\n",
    "  #pickle.dump([CAR_samples, CAR_samples0, CAR_samples1, CAR_samples2, CAR_samples], results_file)"
   ]
  },
  {
   "cell_type": "markdown",
   "metadata": {},
   "source": [
    "### Loading results and analyzing"
   ]
  },
  {
   "cell_type": "code",
   "execution_count": 2,
   "metadata": {},
   "outputs": [],
   "source": [
    "#local_dir = 'C:/Users/Admin-Dell/Dropbox/Nick_Cranston/HSPH/Research/Nethery Project/Data/'\n",
    "local_dir = 'C:/Users/nickl/Dropbox/Nick_Cranston/HSPH/Research/Nethery Project/Data/'\n",
    "file = local_dir + 'CAR_samples_NY_n10000_realdata_2models_May152023.pickle'\n",
    "with open(file, \"rb\") as input_file:\n",
    "     #CAR_samples, chain_samples, sampler_stat, mcmc_config, phi_true, u_true, data_sub = pickle.load(input_file)\n",
    "    res_dict, mcmc_config = pickle.load(input_file)"
   ]
  },
  {
   "cell_type": "code",
   "execution_count": 4,
   "metadata": {},
   "outputs": [
    {
     "data": {
      "text/plain": [
       "dict_keys(['pDGP: -1; pfit: -1', 'pDGP: -1; pfit: 0', 'pDGP: -1; pfit: 1', 'pDGP: 0; pfit: -1', 'pDGP: 0; pfit: 0', 'pDGP: 0; pfit: 1', 'pDGP: 1; pfit: -1', 'pDGP: 1; pfit: 0', 'pDGP: 1; pfit: 1'])"
      ]
     },
     "execution_count": 4,
     "metadata": {},
     "output_type": "execute_result"
    }
   ],
   "source": [
    "models = ['acs', 'pep']"
   ]
  },
  {
   "cell_type": "code",
   "execution_count": 26,
   "metadata": {},
   "outputs": [
    {
     "data": {
      "text/plain": [
       "((62, 2), (62, 8), numpy.ndarray, pandas.core.frame.DataFrame)"
      ]
     },
     "execution_count": 26,
     "metadata": {},
     "output_type": "execute_result"
    }
   ],
   "source": [
    "data_pivot = res_dict['pDGP: -1; pfit: -1'][5]\n",
    "tt = res_dict['pDGP: -1; pfit: -1'][4][0].numpy()\n",
    "tt.shape, data_pivot.shape, type(tt), type(data_pivot)"
   ]
  },
  {
   "cell_type": "code",
   "execution_count": 36,
   "metadata": {},
   "outputs": [
    {
     "data": {
      "text/html": [
       "<div>\n",
       "<style scoped>\n",
       "    .dataframe tbody tr th:only-of-type {\n",
       "        vertical-align: middle;\n",
       "    }\n",
       "\n",
       "    .dataframe tbody tr th {\n",
       "        vertical-align: top;\n",
       "    }\n",
       "\n",
       "    .dataframe thead th {\n",
       "        text-align: right;\n",
       "    }\n",
       "</style>\n",
       "<table border=\"1\" class=\"dataframe\">\n",
       "  <thead>\n",
       "    <tr style=\"text-align: right;\">\n",
       "      <th></th>\n",
       "      <th>GEOID</th>\n",
       "      <th>NAME</th>\n",
       "      <th>acs</th>\n",
       "      <th>census</th>\n",
       "      <th>pep</th>\n",
       "      <th>lon</th>\n",
       "      <th>lat</th>\n",
       "      <th>worldpop</th>\n",
       "      <th>u_acs</th>\n",
       "      <th>u_pep</th>\n",
       "    </tr>\n",
       "  </thead>\n",
       "  <tbody>\n",
       "    <tr>\n",
       "      <th>0</th>\n",
       "      <td>36001</td>\n",
       "      <td>Albany County, New York</td>\n",
       "      <td>304032</td>\n",
       "      <td>305061</td>\n",
       "      <td>304086</td>\n",
       "      <td>-73.974518</td>\n",
       "      <td>42.603919</td>\n",
       "      <td>3.032997e+05</td>\n",
       "      <td>0.500439</td>\n",
       "      <td>0.499561</td>\n",
       "    </tr>\n",
       "    <tr>\n",
       "      <th>1</th>\n",
       "      <td>36003</td>\n",
       "      <td>Allegany County, New York</td>\n",
       "      <td>49105</td>\n",
       "      <td>49467</td>\n",
       "      <td>48971</td>\n",
       "      <td>-78.033523</td>\n",
       "      <td>42.256043</td>\n",
       "      <td>4.897503e+04</td>\n",
       "      <td>0.646317</td>\n",
       "      <td>0.353683</td>\n",
       "    </tr>\n",
       "    <tr>\n",
       "      <th>2</th>\n",
       "      <td>36005</td>\n",
       "      <td>Bronx County, New York</td>\n",
       "      <td>1365725</td>\n",
       "      <td>1373032</td>\n",
       "      <td>1387298</td>\n",
       "      <td>-73.864945</td>\n",
       "      <td>40.856182</td>\n",
       "      <td>1.381498e+06</td>\n",
       "      <td>0.349783</td>\n",
       "      <td>0.650217</td>\n",
       "    </tr>\n",
       "    <tr>\n",
       "      <th>3</th>\n",
       "      <td>36007</td>\n",
       "      <td>Broome County, New York</td>\n",
       "      <td>200804</td>\n",
       "      <td>200524</td>\n",
       "      <td>200481</td>\n",
       "      <td>-75.817663</td>\n",
       "      <td>42.163367</td>\n",
       "      <td>2.004209e+05</td>\n",
       "      <td>0.565534</td>\n",
       "      <td>0.434466</td>\n",
       "    </tr>\n",
       "    <tr>\n",
       "      <th>4</th>\n",
       "      <td>36009</td>\n",
       "      <td>Cattaraugus County, New York</td>\n",
       "      <td>80776</td>\n",
       "      <td>80833</td>\n",
       "      <td>80218</td>\n",
       "      <td>-78.677160</td>\n",
       "      <td>42.249673</td>\n",
       "      <td>7.977512e+04</td>\n",
       "      <td>0.456967</td>\n",
       "      <td>0.543033</td>\n",
       "    </tr>\n",
       "    <tr>\n",
       "      <th>...</th>\n",
       "      <td>...</td>\n",
       "      <td>...</td>\n",
       "      <td>...</td>\n",
       "      <td>...</td>\n",
       "      <td>...</td>\n",
       "      <td>...</td>\n",
       "      <td>...</td>\n",
       "      <td>...</td>\n",
       "      <td>...</td>\n",
       "      <td>...</td>\n",
       "    </tr>\n",
       "    <tr>\n",
       "      <th>57</th>\n",
       "      <td>36115</td>\n",
       "      <td>Washington County, New York</td>\n",
       "      <td>63088</td>\n",
       "      <td>63528</td>\n",
       "      <td>63356</td>\n",
       "      <td>-73.442171</td>\n",
       "      <td>43.321778</td>\n",
       "      <td>6.305826e+04</td>\n",
       "      <td>0.782530</td>\n",
       "      <td>0.217470</td>\n",
       "    </tr>\n",
       "    <tr>\n",
       "      <th>58</th>\n",
       "      <td>36117</td>\n",
       "      <td>Wayne County, New York</td>\n",
       "      <td>93654</td>\n",
       "      <td>92940</td>\n",
       "      <td>93751</td>\n",
       "      <td>-77.035188</td>\n",
       "      <td>43.159389</td>\n",
       "      <td>9.382170e+04</td>\n",
       "      <td>0.554320</td>\n",
       "      <td>0.445680</td>\n",
       "    </tr>\n",
       "    <tr>\n",
       "      <th>59</th>\n",
       "      <td>36119</td>\n",
       "      <td>Westchester County, New York</td>\n",
       "      <td>939406</td>\n",
       "      <td>943601</td>\n",
       "      <td>950601</td>\n",
       "      <td>-73.762510</td>\n",
       "      <td>41.163507</td>\n",
       "      <td>9.534233e+05</td>\n",
       "      <td>0.619106</td>\n",
       "      <td>0.380894</td>\n",
       "    </tr>\n",
       "    <tr>\n",
       "      <th>60</th>\n",
       "      <td>36121</td>\n",
       "      <td>Wyoming County, New York</td>\n",
       "      <td>42367</td>\n",
       "      <td>42123</td>\n",
       "      <td>42126</td>\n",
       "      <td>-78.232321</td>\n",
       "      <td>42.701279</td>\n",
       "      <td>4.132217e+04</td>\n",
       "      <td>0.339609</td>\n",
       "      <td>0.660391</td>\n",
       "    </tr>\n",
       "    <tr>\n",
       "      <th>61</th>\n",
       "      <td>36123</td>\n",
       "      <td>Yates County, New York</td>\n",
       "      <td>25250</td>\n",
       "      <td>25384</td>\n",
       "      <td>25376</td>\n",
       "      <td>-77.119556</td>\n",
       "      <td>42.631861</td>\n",
       "      <td>2.515191e+04</td>\n",
       "      <td>0.182872</td>\n",
       "      <td>0.817128</td>\n",
       "    </tr>\n",
       "  </tbody>\n",
       "</table>\n",
       "<p>62 rows × 10 columns</p>\n",
       "</div>"
      ],
      "text/plain": [
       "    GEOID                          NAME      acs   census      pep        lon  \\\n",
       "0   36001       Albany County, New York   304032   305061   304086 -73.974518   \n",
       "1   36003     Allegany County, New York    49105    49467    48971 -78.033523   \n",
       "2   36005        Bronx County, New York  1365725  1373032  1387298 -73.864945   \n",
       "3   36007       Broome County, New York   200804   200524   200481 -75.817663   \n",
       "4   36009  Cattaraugus County, New York    80776    80833    80218 -78.677160   \n",
       "..    ...                           ...      ...      ...      ...        ...   \n",
       "57  36115   Washington County, New York    63088    63528    63356 -73.442171   \n",
       "58  36117        Wayne County, New York    93654    92940    93751 -77.035188   \n",
       "59  36119  Westchester County, New York   939406   943601   950601 -73.762510   \n",
       "60  36121      Wyoming County, New York    42367    42123    42126 -78.232321   \n",
       "61  36123        Yates County, New York    25250    25384    25376 -77.119556   \n",
       "\n",
       "          lat      worldpop     u_acs     u_pep  \n",
       "0   42.603919  3.032997e+05  0.500439  0.499561  \n",
       "1   42.256043  4.897503e+04  0.646317  0.353683  \n",
       "2   40.856182  1.381498e+06  0.349783  0.650217  \n",
       "3   42.163367  2.004209e+05  0.565534  0.434466  \n",
       "4   42.249673  7.977512e+04  0.456967  0.543033  \n",
       "..        ...           ...       ...       ...  \n",
       "57  43.321778  6.305826e+04  0.782530  0.217470  \n",
       "58  43.159389  9.382170e+04  0.554320  0.445680  \n",
       "59  41.163507  9.534233e+05  0.619106  0.380894  \n",
       "60  42.701279  4.132217e+04  0.339609  0.660391  \n",
       "61  42.631861  2.515191e+04  0.182872  0.817128  \n",
       "\n",
       "[62 rows x 10 columns]"
      ]
     },
     "execution_count": 36,
     "metadata": {},
     "output_type": "execute_result"
    }
   ],
   "source": [
    "nn = ['u_' + m for m in models]\n",
    "B = pd.DataFrame(tt, columns = nn)\n",
    "pd.concat([data_pivot.reset_index(drop = True), B], axis = 1)"
   ]
  },
  {
   "cell_type": "markdown",
   "metadata": {},
   "source": [
    "## Getting the rhat and ESS values"
   ]
  },
  {
   "cell_type": "code",
   "execution_count": 16,
   "metadata": {},
   "outputs": [
    {
     "data": {
      "text/plain": [
       "(dict_keys(['pDGP: -1; pfit: -1', 'pDGP: -1; pfit: 0', 'pDGP: -1; pfit: 1', 'pDGP: 0; pfit: -1', 'pDGP: 0; pfit: 0', 'pDGP: 0; pfit: 1', 'pDGP: 1; pfit: -1', 'pDGP: 1; pfit: 0', 'pDGP: 1; pfit: 1']),\n",
       " [1.1682984e-05,\n",
       "  0.0046667918,\n",
       "  1.5436617e-05,\n",
       "  0.00014921912,\n",
       "  3.2046146e-06,\n",
       "  1.8835599e-05,\n",
       "  7.647128e-07,\n",
       "  2.9182307e-05,\n",
       "  0.0025182196])"
      ]
     },
     "execution_count": 16,
     "metadata": {},
     "output_type": "execute_result"
    }
   ],
   "source": [
    "res_dict.keys(), stepsize_vec"
   ]
  },
  {
   "cell_type": "code",
   "execution_count": 18,
   "metadata": {},
   "outputs": [
    {
     "data": {
      "text/html": [
       "<div>\n",
       "<style scoped>\n",
       "    .dataframe tbody tr th:only-of-type {\n",
       "        vertical-align: middle;\n",
       "    }\n",
       "\n",
       "    .dataframe tbody tr th {\n",
       "        vertical-align: top;\n",
       "    }\n",
       "\n",
       "    .dataframe thead th {\n",
       "        text-align: right;\n",
       "    }\n",
       "</style>\n",
       "<table border=\"1\" class=\"dataframe\">\n",
       "  <thead>\n",
       "    <tr style=\"text-align: right;\">\n",
       "      <th></th>\n",
       "      <th>no pivot fit</th>\n",
       "      <th>acs pivot fit</th>\n",
       "      <th>pep pivot fit</th>\n",
       "    </tr>\n",
       "  </thead>\n",
       "  <tbody>\n",
       "    <tr>\n",
       "      <th>no pivot DGP</th>\n",
       "      <td>1.168298e-05</td>\n",
       "      <td>0.004667</td>\n",
       "      <td>0.000015</td>\n",
       "    </tr>\n",
       "    <tr>\n",
       "      <th>acs pivot DGP</th>\n",
       "      <td>1.492191e-04</td>\n",
       "      <td>0.000003</td>\n",
       "      <td>0.000019</td>\n",
       "    </tr>\n",
       "    <tr>\n",
       "      <th>pep pivot DGP</th>\n",
       "      <td>7.647128e-07</td>\n",
       "      <td>0.000029</td>\n",
       "      <td>0.002518</td>\n",
       "    </tr>\n",
       "  </tbody>\n",
       "</table>\n",
       "</div>"
      ],
      "text/plain": [
       "               no pivot fit  acs pivot fit  pep pivot fit\n",
       "no pivot DGP   1.168298e-05       0.004667       0.000015\n",
       "acs pivot DGP  1.492191e-04       0.000003       0.000019\n",
       "pep pivot DGP  7.647128e-07       0.000029       0.002518"
      ]
     },
     "execution_count": 18,
     "metadata": {},
     "output_type": "execute_result"
    }
   ],
   "source": [
    "stepsize_vec = list()\n",
    "for key in res_dict.keys():\n",
    "    sampler_stat = res_dict[key][2]\n",
    "    stepsize_vec.append(sampler_stat[0][0].numpy())\n",
    "    \n",
    "# make the data frame\n",
    "df_stepsize = pd.DataFrame(np.reshape(np.array(stepsize_vec), (3,3)), \n",
    "                       index = ['no pivot DGP','acs pivot DGP','pep pivot DGP'], \n",
    "                       columns = ['no pivot fit','acs pivot fit','pep pivot fit'])\n",
    "df_stepsize"
   ]
  },
  {
   "cell_type": "code",
   "execution_count": 11,
   "metadata": {},
   "outputs": [
    {
     "name": "stdout",
     "output_type": "stream",
     "text": [
      "[5.00000954 5.0000029  5.00011246]\n",
      "[ 637076.375        44222.35048828 2346028.75625   ]\n",
      "[ 7.32836008  5.35947452 14.29406428]\n",
      "[ 3.57142806  1.59050885 14.59372241]\n",
      "[5.00004983 5.00001287 5.00016375]\n",
      "[114453.26953125  37444.62558594 428609.503125  ]\n",
      "[5.04103756 5.01119919 5.18324046]\n",
      "[134.42417908  17.00161848 765.81586304]\n",
      "[5.00002766 5.00000587 5.00022035]\n",
      "[215944.3515625   27592.26240234 874653.6546875 ]\n",
      "[5.00005627 5.00001404 5.00066663]\n",
      "[105245.28515625  16535.31437988 399333.59453125]\n",
      "[5.         5.         5.00000095]\n",
      "[4.54075100e+07 2.99653667e+06 1.61172217e+08]\n",
      "[5.0001893  5.00006272 5.00128139]\n",
      "[31891.19824219  5702.54732666 90513.62363281]\n",
      "[ 6.56389284  5.37512708 14.11679049]\n",
      "[ 4.67269111  1.50161809 13.92534544]\n"
     ]
    }
   ],
   "source": [
    "## Get the convergence diagnostics from model fits\n",
    "rhat_vec = []\n",
    "for key in res_dict.keys():\n",
    "    #print(key)\n",
    "    chain_samples = res_dict[key][1]\n",
    "    u_samples = phi_to_u(chain_samples, res_dict[key][7])\n",
    "    ESS = tfp.mcmc.effective_sample_size(u_samples, cross_chain_dims = 1).numpy()\n",
    "    rhat = tfp.mcmc.potential_scale_reduction(chain_samples, independent_chain_ndims=1).numpy()\n",
    "    print(np.quantile(ESS, [0.5, 0.025, 0.975]))\n",
    "    print(np.quantile(rhat, [0.5, 0.025, 0.975]))"
   ]
  },
  {
   "cell_type": "markdown",
   "metadata": {},
   "source": [
    "## Plotting the density of ensemble weights"
   ]
  },
  {
   "cell_type": "code",
   "execution_count": null,
   "metadata": {},
   "outputs": [],
   "source": [
    "import seaborn as sns\n",
    "#plt.rcParams['figure.figsize'] = [20, 10]\n",
    "plt.rcParams['figure.figsize'] = [15, 3]\n",
    "labels = models[:]\n",
    "labels.insert(0, 'none')\n",
    "\n",
    "fig = plt.figure()\n",
    "iter = 0\n",
    "\n",
    "for pivot_DGP in range(-1,0):\n",
    "    \n",
    "    iter = iter + 1\n",
    "    \n",
    "    u_true = res_dict['pDGP: ' + str(pivot_DGP) + '; pfit: -1'][4]\n",
    "    \n",
    "    CAR_df = pd.DataFrame(u_true[0,:,:], columns = models)\n",
    "    #CAR_df = pd.DataFrame(CAR_ensemble_weights.numpy(), columns = [\"acs\",\"pep\",\"worldpop\"])\n",
    "\n",
    "    #plt.subplot(3, 4, iter)\n",
    "    plt.subplot(1, 4, iter)\n",
    "    sns.set(style=\"darkgrid\")\n",
    "    tt = sns.kdeplot(CAR_df['acs'], shade=True, color=\"r\", label = 'acs')\n",
    "    tt = sns.kdeplot(CAR_df[\"pep\"], shade=True, color=\"b\", label = 'pep')\n",
    "    #tt = sns.kdeplot(CAR_df[\"worldpop\"], shade=True, color=\"g\", label = 'worldpop')\n",
    "    if pivot_DGP == -1:\n",
    "        plt.title('u true')\n",
    "    plt.ylabel(labels[pivot_DGP + 1])\n",
    "    plt.xlabel('')\n",
    "    plt.xlim(0,1)\n",
    "    \n",
    "    for pivot_fit in range(-1,2):\n",
    "        iter = iter + 1\n",
    "        key = 'pDGP: ' + str(pivot_DGP) + '; pfit: ' + str(pivot_fit)  \n",
    "\n",
    "        # get the ensemble weights\n",
    "        CAR_ensemble_phis = tf.reduce_mean(res_dict[key][0][0], axis = 2).numpy()\n",
    "        u = phi_to_u(CAR_ensemble_phis, pivot = pivot_fit)\n",
    "        CAR_df = pd.DataFrame(u, columns = models)\n",
    "\n",
    "        #plt.subplot(3, 4, iter)\n",
    "        plt.subplot(1, 4, iter)\n",
    "        sns.set(style=\"darkgrid\")\n",
    "        tt = sns.kdeplot(CAR_df['acs'], shade=True, color=\"r\", label = 'acs')\n",
    "        tt = sns.kdeplot(CAR_df[\"pep\"], shade=True, color=\"b\", label = 'pep')\n",
    "        #tt = sns.kdeplot(CAR_df[\"worldpop\"], shade=True, color=\"g\", label = 'worldpop')\n",
    "        #plt.legend()\n",
    "        plt.xlabel('')\n",
    "        plt.ylabel('')\n",
    "        if pivot_DGP == -1:\n",
    "            plt.title(labels[pivot_fit + 1])\n",
    "        plt.xlim(0,1)\n",
    "        \n",
    "plt.legend()\n",
    "plt.show()"
   ]
  },
  {
   "cell_type": "markdown",
   "metadata": {},
   "source": [
    "## Plotting scatterplots of the fitted vs true u values"
   ]
  },
  {
   "cell_type": "code",
   "execution_count": 6,
   "metadata": {},
   "outputs": [],
   "source": [
    "key = 'pDGP: -1; pfit: -1'\n",
    "phis = res_dict[key][0][0]"
   ]
  },
  {
   "cell_type": "code",
   "execution_count": 9,
   "metadata": {},
   "outputs": [
    {
     "data": {
      "image/png": "[encoded data removed]",
      "text/plain": [
       "<Figure size 864x216 with 3 Axes>"
      ]
     },
     "metadata": {
      "needs_background": "light"
     },
     "output_type": "display_data"
    }
   ],
   "source": [
    "plt.rcParams['figure.figsize'] = [12, 3]\n",
    "labels = models[:]\n",
    "labels.insert(0, 'none')\n",
    "\n",
    "fig = plt.figure()\n",
    "iter = 0\n",
    "\n",
    "for pivot_DGP in range(-1,0):\n",
    "    \n",
    "    ## Get the true u values\n",
    "    u_true = res_dict['pDGP: ' + str(pivot_DGP) + '; pfit: -1'][4]\n",
    "    CAR_df = pd.DataFrame(u_true[0,:,:], columns = models)\n",
    "    \n",
    "    for pivot_fit in range(-1,2):\n",
    "        iter = iter + 1\n",
    "        key = 'pDGP: ' + str(pivot_DGP) + '; pfit: ' + str(pivot_fit)    \n",
    "\n",
    "        ## get the ensemble weights\n",
    "        phi = res_dict[key][0][0]\n",
    "        \n",
    "        ## Get the u values from each run\n",
    "        u = np.empty(shape=(phi.shape[0], \n",
    "                              len(models), \n",
    "                              phi.shape[2]), \n",
    "                       dtype='float64')\n",
    "        for i in range(phi.shape[2]):\n",
    "            u[:,:,i] = phi_to_u(phi.numpy()[:,:,i], pivot = pivot_fit)   \n",
    "            \n",
    "        CAR_df = pd.DataFrame(np.mean(u, axis = 2), columns = models)\n",
    "\n",
    "        #plt.subplot(3, 4, iter)\n",
    "        plt.subplot(1, 3, iter)\n",
    "\n",
    "        x = np.ndarray.flatten(u_true[0,:,:].numpy())\n",
    "        y = np.ndarray.flatten(CAR_df.values)\n",
    "        plt.scatter(x, y)\n",
    "        plt.xlabel(\"true u\")\n",
    "        plt.ylabel(labels[pivot_fit + 1])\n",
    "\n",
    "        plt.xlim([min([min(x), min(y)]), max([max(x), max(y)])])\n",
    "        plt.ylim([min([min(x), min(y)]), max([max(x), max(y)])])\n",
    "        ax = plt.gca()\n",
    "        ax.set_aspect('equal', adjustable='box')\n",
    "\n",
    "        ## obtain m (slope) and b(intercept) of linear regression line\n",
    "        m, b = np.polyfit(x, y, 1)\n",
    "        ## add linear regression line to scatterplot \n",
    "        #plt.plot(x, m*x+b, color = 'red')\n",
    "        ## add y = x line\n",
    "        plt.plot(x, x, color = 'red')\n",
    "\n",
    "\n",
    "        from scipy.stats import pearsonr\n",
    "        pearsonr(x,y)[0]\n",
    "        \n",
    "plt.show()"
   ]
  },
  {
   "cell_type": "markdown",
   "metadata": {},
   "source": [
    "## Plotting the fitted vs true y predictions"
   ]
  },
  {
   "cell_type": "code",
   "execution_count": null,
   "metadata": {},
   "outputs": [],
   "source": [
    "plt.rcParams['figure.figsize'] = [12, 3]\n",
    "labels = models[:]\n",
    "labels.insert(0, 'none')\n",
    "\n",
    "fig = plt.figure()\n",
    "iter = 0\n",
    "\n",
    "for pivot_DGP in range(-1,0):\n",
    "        \n",
    "    ## Get the data\n",
    "    data_pivot = res_dict['pDGP: ' + str(pivot_DGP) + '; pfit: -1'][5]\n",
    "    \n",
    "    ## Get the true u values\n",
    "    u_true = res_dict['pDGP: ' + str(pivot_DGP) + '; pfit: -1'][4]\n",
    "    CAR_df = pd.DataFrame(u_true[0,:,:], columns = models)\n",
    "    y_exp = tf.reduce_sum(data_pivot[models].values*u_true, axis = 2)[0].numpy()\n",
    "    \n",
    "    for pivot_fit in range(-1,2):\n",
    "        iter = iter + 1\n",
    "        key = 'pDGP: ' + str(pivot_DGP) + '; pfit: ' + str(pivot_fit)    \n",
    "\n",
    "        ## get the ensemble weights\n",
    "        phi = res_dict[key][0][0]\n",
    "        \n",
    "        ## Get the u values from each run\n",
    "        predictions = np.empty(shape=(phi.shape[0], \n",
    "                              phi.shape[2]), \n",
    "                       dtype='float64')\n",
    "        for i in range(phi.shape[2]):\n",
    "            u = phi_to_u(phi.numpy()[:,:,i], pivot = pivot_fit)   \n",
    "            predictions[:,i] = tf.reduce_sum(data_pivot[models].values*u, axis = 1)\n",
    "    \n",
    "        y_pred = np.mean(predictions, axis = 1)\n",
    "            \n",
    "        #CAR_df = pd.DataFrame(np.mean(u, axis = 2), columns = models)\n",
    "\n",
    "        #plt.subplot(3, 4, iter)\n",
    "        plt.subplot(1, 3, iter)\n",
    "\n",
    "        x = data_pivot['census']\n",
    "        y = y_pred\n",
    "        #y = y_pred.numpy()\n",
    "        plt.scatter(x, y)\n",
    "        plt.xlabel(\"true census values\")\n",
    "        plt.ylabel(labels[pivot_fit + 1])\n",
    "\n",
    "        #obtain m (slope) and b(intercept) of linear regression line\n",
    "        m, b = np.polyfit(x, y.astype('float64'), 1)\n",
    "\n",
    "        plt.xlim([min([min(x), min(y)]), max([max(x), max(y)])])\n",
    "        plt.ylim([min([min(x), min(y)]), max([max(x), max(y)])])\n",
    "        ax = plt.gca()\n",
    "        ax.set_aspect('equal', adjustable='box')\n",
    "        ax.set_xscale(\"log\")\n",
    "        ax.set_yscale(\"log\")\n",
    "\n",
    "        ## obtain m (slope) and b(intercept) of linear regression line\n",
    "        m, b = np.polyfit(x, y, 1)\n",
    "        ## add linear regression line to scatterplot \n",
    "        #plt.plot(x, m*x+b, color = 'red')\n",
    "        ## add y = x line\n",
    "        plt.plot(x, x, color = 'red')\n",
    "        \n",
    "plt.show()"
   ]
  },
  {
   "cell_type": "markdown",
   "metadata": {},
   "source": [
    "## Plotting the chloroploth maps"
   ]
  },
  {
   "cell_type": "code",
   "execution_count": null,
   "metadata": {},
   "outputs": [],
   "source": [
    "# Create the weights dict for plotting the outcomes\n",
    "\n",
    "weights_dict = {\n",
    "    \"acs\": CAR_ensemble_weights[:,0],\n",
    "    \"pep\": CAR_ensemble_weights[:,1],\n",
    "    \"worldpop\": CAR_ensemble_weights[:,2]\n",
    "}\n",
    "\n",
    "color_weights = make_color_norm(\n",
    "    list(weights_dict.values())[1],   \n",
    "    method=\"percentile\")"
   ]
  },
  {
   "cell_type": "code",
   "execution_count": null,
   "metadata": {},
   "outputs": [],
   "source": [
    "norm_weights_dict = {\n",
    "    \"acs\": u[:,0],\n",
    "    \"pep\": u[:,1],\n",
    "    \"worldpop\": u[:,2]\n",
    "}\n",
    "\n",
    "color_norm_weights = make_color_norm(\n",
    "    list(norm_weights_dict.values())[1],   \n",
    "    method=\"percentile\")"
   ]
  },
  {
   "cell_type": "code",
   "execution_count": null,
   "metadata": {},
   "outputs": [],
   "source": [
    "import plotly\n",
    "from urllib.request import urlopen\n",
    "import json\n",
    "with urlopen('https://raw.githubusercontent.com/plotly/datasets/master/geojson-counties-fips.json') as response:\n",
    "    counties = json.load(response)\n",
    "\n",
    "import pandas as pd\n",
    "# df = pd.read_csv(\"https://raw.githubusercontent.com/plotly/datasets/master/fips-unemp-16.csv\",\n",
    "#                    dtype={\"fips\": str})\n",
    "import matplotlib.colors as colors\n",
    "\n",
    "import plotly.express as px"
   ]
  },
  {
   "cell_type": "code",
   "execution_count": null,
   "metadata": {
    "scrolled": false
   },
   "outputs": [],
   "source": [
    "for model_name in models:\n",
    "    output = pd.DataFrame(np.column_stack([data_sub[[\"GEOID\"]], weights_dict[model_name]]))\n",
    "    output = output.set_axis(['GEOID', model_name], axis=1)\n",
    "    output[model_name] = output[model_name].astype(float)\n",
    "    fig = px.choropleth_mapbox(output, geojson=counties, locations='GEOID', color=model_name,\n",
    "                           color_continuous_scale=\"Viridis\",\n",
    "                           #range_color=(0.05,0.07),\n",
    "                           mapbox_style=\"carto-positron\",\n",
    "                           #mapbox_style='white-bg',\n",
    "                           #featureidkey=\"properties.MWS_ID\",\n",
    "                           zoom=3, center = {\"lat\": 37.0902, \"lon\": -95.7129},\n",
    "                           opacity=0.5#,\n",
    "                           #labels={'unemp':'unemployment rate'}\n",
    "                          )\n",
    "    fig.update_layout(margin={\"r\":0,\"t\":0,\"l\":0,\"b\":0})\n",
    "    fig.show()"
   ]
  },
  {
   "cell_type": "code",
   "execution_count": null,
   "metadata": {},
   "outputs": [],
   "source": [
    "# pd.concat([data_NY[[\"GEOID\"]].reset_index(drop=True), pd.DataFrame( phi_true[0].numpy(), columns = models)], axis=1)\n",
    "# pd.DataFrame( phi_true[0].numpy(), columns = models)"
   ]
  },
  {
   "cell_type": "code",
   "execution_count": null,
   "metadata": {},
   "outputs": [],
   "source": [
    "full_phi = pd.concat([data_sub[[\"GEOID\"]].reset_index(drop=True), \n",
    "                         pd.DataFrame(phi_true[0].numpy(), columns = models)], \n",
    "                        axis=1)\n",
    "\n",
    "full_u = pd.concat([data_sub[[\"GEOID\"]].reset_index(drop=True), \n",
    "                         pd.DataFrame(u_true[0].numpy(), columns = models)], \n",
    "                        axis=1)\n",
    "\n",
    "\n",
    "#full_phi[['GEOID', 'acs']], full_u"
   ]
  },
  {
   "cell_type": "code",
   "execution_count": null,
   "metadata": {},
   "outputs": [],
   "source": [
    "for model_name in models:\n",
    "    output = full_phi[['GEOID', model_name]]\n",
    "    fig = px.choropleth_mapbox(output, geojson=counties, locations='GEOID', color=model_name,\n",
    "                           color_continuous_scale=\"Viridis\",\n",
    "                           #range_color=(0.05,0.07),\n",
    "                           mapbox_style=\"carto-positron\",\n",
    "                           #mapbox_style='white-bg',\n",
    "                           #featureidkey=\"properties.MWS_ID\",\n",
    "                           zoom=3, center = {\"lat\": 37.0902, \"lon\": -95.7129},\n",
    "                           opacity=0.5#,\n",
    "                           #labels={'unemp':'unemployment rate'}\n",
    "                          )\n",
    "    fig.update_layout(margin={\"r\":0,\"t\":0,\"l\":0,\"b\":0})\n",
    "    fig.show()"
   ]
  }
 ],
 "metadata": {
  "@webio": {
   "lastCommId": null,
   "lastKernelId": null
  },
  "accelerator": "GPU",
  "colab": {
   "collapsed_sections": [
    "FyVOAW4EODnT",
    "ebzyBOEoNQ_a",
    "vAgjEq1-dty-"
   ],
   "provenance": []
  },
  "kernelspec": {
   "display_name": "Python 3 (ipykernel)",
   "language": "python",
   "name": "python3"
  },
  "language_info": {
   "codemirror_mode": {
    "name": "ipython",
    "version": 3
   },
   "file_extension": ".py",
   "mimetype": "text/x-python",
   "name": "python",
   "nbconvert_exporter": "python",
   "pygments_lexer": "ipython3",
   "version": "3.9.12"
  }
 },
 "nbformat": 4,
 "nbformat_minor": 1
}
